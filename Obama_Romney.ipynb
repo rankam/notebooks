{
 "metadata": {
  "name": "",
  "signature": "sha256:221247294d6819522f27eff918d2bb210c7e8f77420b30b6750171527b685d5c"
 },
 "nbformat": 3,
 "nbformat_minor": 0,
 "worksheets": [
  {
   "cells": [
    {
     "cell_type": "code",
     "collapsed": false,
     "input": [
      "import csv\n",
      "import re\n",
      "from ggplot import *\n",
      "import pandas as pd\n",
      "from scipy import stats\n",
      "from sklearn.preprocessing import OneHotEncoder\n",
      "import numpy as np\n",
      "from sklearn.feature_extraction import FeatureHasher\n",
      "from sklearn.linear_model import LinearRegression\n",
      "from sklearn.linear_model import Lasso\n",
      "from numpy.random import shuffle\n",
      "from sklearn.cross_validation import train_test_split\n",
      "import pylab as pl\n",
      "import h5py\n",
      "from sklearn.feature_extraction import DictVectorizer"
     ],
     "language": "python",
     "metadata": {},
     "outputs": [],
     "prompt_number": 44
    },
    {
     "cell_type": "code",
     "collapsed": false,
     "input": [],
     "language": "python",
     "metadata": {},
     "outputs": []
    },
    {
     "cell_type": "code",
     "collapsed": false,
     "input": [
      "# f = h5py.File(\"mytestfile.hdf5\", \"w\")\n",
      "f.close()"
     ],
     "language": "python",
     "metadata": {},
     "outputs": [
      {
       "ename": "NameError",
       "evalue": "name 'f' is not defined",
       "output_type": "pyerr",
       "traceback": [
        "\u001b[0;31m---------------------------------------------------------------------------\u001b[0m\n\u001b[0;31mNameError\u001b[0m                                 Traceback (most recent call last)",
        "\u001b[0;32m<ipython-input-2-210d3650d9bf>\u001b[0m in \u001b[0;36m<module>\u001b[0;34m()\u001b[0m\n\u001b[1;32m      1\u001b[0m \u001b[0;31m# f = h5py.File(\"mytestfile.hdf5\", \"w\")\u001b[0m\u001b[0;34m\u001b[0m\u001b[0;34m\u001b[0m\u001b[0m\n\u001b[0;32m----> 2\u001b[0;31m \u001b[0mf\u001b[0m\u001b[0;34m.\u001b[0m\u001b[0mclose\u001b[0m\u001b[0;34m(\u001b[0m\u001b[0;34m)\u001b[0m\u001b[0;34m\u001b[0m\u001b[0m\n\u001b[0m",
        "\u001b[0;31mNameError\u001b[0m: name 'f' is not defined"
       ]
      }
     ],
     "prompt_number": 2
    },
    {
     "cell_type": "code",
     "collapsed": false,
     "input": [
      "dset = f.create_dataset(\"mydataset\", (378144, 18164))"
     ],
     "language": "python",
     "metadata": {},
     "outputs": [],
     "prompt_number": 21
    },
    {
     "cell_type": "code",
     "collapsed": false,
     "input": [
      "# z= pd.SparseDataFrame(test)\n",
      "z=pd.SparseDataFrame([ pd.SparseSeries(tst[i].toarray().ravel()) for i in np.arange(tst.shape[0]) ])"
     ],
     "language": "python",
     "metadata": {},
     "outputs": []
    },
    {
     "cell_type": "code",
     "collapsed": false,
     "input": [
      "tst= csc_matrix(test)"
     ],
     "language": "python",
     "metadata": {},
     "outputs": [],
     "prompt_number": 57
    },
    {
     "cell_type": "code",
     "collapsed": false,
     "input": [
      "with open('./oba_rom.csv','r') as f:\n",
      "    data = [x for x in csv.DictReader(f)]\n",
      "    \n"
     ],
     "language": "python",
     "metadata": {},
     "outputs": [],
     "prompt_number": 3
    },
    {
     "cell_type": "code",
     "collapsed": false,
     "input": [
      "for dct in data:\n",
      "    try:\n",
      "        dct['contbr_nm'] = dct['contbr_nm'].split(', ')[1]\n",
      "    except:\n",
      "        dct['contbr_nm'] = dct['contbr_nm'].split(', ')[0]"
     ],
     "language": "python",
     "metadata": {},
     "outputs": [],
     "prompt_number": 4
    },
    {
     "cell_type": "code",
     "collapsed": false,
     "input": [
      "for dct in data:\n",
      "    dct['contbr_nm'] = re.sub('[A-Z]\\.','',dct['contbr_nm']).strip()\n",
      "    dct['contbr_nm'] = re.sub(' [A-Z]*','',dct['contbr_nm']).strip()"
     ],
     "language": "python",
     "metadata": {},
     "outputs": [],
     "prompt_number": 5
    },
    {
     "cell_type": "code",
     "collapsed": false,
     "input": [
      "rom = []\n",
      "oba = [x if x['cand_nm'] == 'Obama, Barack' else rom.append(x) for x in data]\n",
      "       \n",
      "#         for x in data if x['cand_nm'] == 'Obama, Barack' else rom.append(x)]"
     ],
     "language": "python",
     "metadata": {},
     "outputs": [],
     "prompt_number": 6
    },
    {
     "cell_type": "code",
     "collapsed": false,
     "input": [
      "mrbo = pd.DataFrame.from_dict(data) \n",
      "# x = mrbo."
     ],
     "language": "python",
     "metadata": {},
     "outputs": [],
     "prompt_number": 7
    },
    {
     "cell_type": "code",
     "collapsed": false,
     "input": [
      "def to_numeric(attr):\n",
      "    attr_dict = dict()\n",
      "    ct = 0\n",
      "    for i,x in enumerate(mrbo[attr]):\n",
      "#         while i < len(mrbo[attr]):\n",
      "        if x not in attr_dict:\n",
      "            attr_dict[x] = ct\n",
      "            ct += 1\n",
      "#             print ct\n",
      "    for i,element in enumerate(mrbo[attr]):\n",
      "        mrbo[attr][i] = int(attr_dict[element])\n",
      "    return mrbo[attr]\n"
     ],
     "language": "python",
     "metadata": {},
     "outputs": [],
     "prompt_number": 8
    },
    {
     "cell_type": "code",
     "collapsed": false,
     "input": [
      "mrbo['cand_nm'] = [1 if x == 'Obama, Barack' else 0 for x in mrbo['cand_nm'] ]\n",
      "mrbo['contbr_zip'] = [x[:5] for x in mrbo['contbr_zip']]\n",
      "mrbo['cand_nm'] = to_numeric('cand_nm')\n",
      "mrbo['contbr_zip'] = to_numeric('contbr_zip')\n",
      "mrbo['contbr_occupation'] = to_numeric('contbr_occupation') \n",
      "mrbo['contb_receipt_amt'] = [float(x) for x in mrbo['contb_receipt_amt']]\n",
      "# data to be used in my linear regression\n",
      "lr_data = np.array([mrbo['contb_receipt_amt'],mrbo['cand_nm'],mrbo['contbr_occupation'],mrbo['contbr_zip'],mrbo['contbr_zip']]).T"
     ],
     "language": "python",
     "metadata": {},
     "outputs": [],
     "prompt_number": 9
    },
    {
     "cell_type": "markdown",
     "metadata": {},
     "source": [
      "<h2>Sparse Data For Lin Reg</h2>"
     ]
    },
    {
     "cell_type": "code",
     "collapsed": false,
     "input": [
      "np.random.seed(1) \n",
      "shuffle(data)\n",
      "amt = [float(x['contb_receipt_amt']) for x in data[:10000]]\n",
      "dct = [{'cand_nm':x['cand_nm'],'contb_receipt_dt':x['contb_receipt_dt'],'contbr_nm':x['contbr_nm'],'contbr_zip':x['contbr_zip']} for x in data[:10000]]                       "
     ],
     "language": "python",
     "metadata": {},
     "outputs": [],
     "prompt_number": 36
    },
    {
     "cell_type": "code",
     "collapsed": false,
     "input": [
      "# np.random.seed(1) \n",
      "# shuffle(X)\n",
      "v = DictVectorizer(sparse=False)\n",
      "D = dct\n",
      "X = v.fit_transform(D)\n",
      "# type(test)"
     ],
     "language": "python",
     "metadata": {},
     "outputs": [],
     "prompt_number": 25
    },
    {
     "cell_type": "code",
     "collapsed": false,
     "input": [
      "amt = np.matrix(amt).T\n",
      "amt.shape\n",
      "X.shape"
     ],
     "language": "python",
     "metadata": {},
     "outputs": [
      {
       "metadata": {},
       "output_type": "pyout",
       "prompt_number": 37,
       "text": [
        "(10000, 8756)"
       ]
      }
     ],
     "prompt_number": 37
    },
    {
     "cell_type": "code",
     "collapsed": false,
     "input": [
      "from scipy.sparse import vstack,hstack\n",
      "test = np.hstack([amt,X])\n",
      "test.shape"
     ],
     "language": "python",
     "metadata": {},
     "outputs": [
      {
       "metadata": {},
       "output_type": "pyout",
       "prompt_number": 38,
       "text": [
        "(10000, 8757)"
       ]
      }
     ],
     "prompt_number": 38
    },
    {
     "cell_type": "markdown",
     "metadata": {},
     "source": [
      "<h2>Test Data for Lin Reg</h2>"
     ]
    },
    {
     "cell_type": "code",
     "collapsed": false,
     "input": [
      "np.random.seed(1) \n",
      "shuffle(data)\n",
      "t_amt = [float(x['contb_receipt_amt']) for x in data[:10010]]\n",
      "t_dct = [{'cand_nm':x['cand_nm'],'contb_receipt_dt':x['contb_receipt_dt'],'contbr_nm':x['contbr_nm'],'contbr_zip':x['contbr_zip']} for x in data[:10010]]\n",
      "t_amt = np.matrix(t_amt).T\n",
      "t_v = DictVectorizer(sparse=False)\n",
      "t_D = t_dct\n",
      "t_X = v.fit_transform(t_D)\n",
      "\n",
      "t_data = np.hstack([t_amt,t_X])\n"
     ],
     "language": "python",
     "metadata": {},
     "outputs": [],
     "prompt_number": 70
    },
    {
     "cell_type": "code",
     "collapsed": false,
     "input": [
      "t_data"
     ],
     "language": "python",
     "metadata": {},
     "outputs": [
      {
       "metadata": {},
       "output_type": "pyout",
       "prompt_number": 54,
       "text": [
        "(10, 32)"
       ]
      }
     ],
     "prompt_number": 54
    },
    {
     "cell_type": "code",
     "collapsed": false,
     "input": [
      "w=e.todense"
     ],
     "language": "python",
     "metadata": {},
     "outputs": []
    },
    {
     "cell_type": "code",
     "collapsed": false,
     "input": [
      "from scipy.sparse import vstack,hstack\n",
      "test = hstack([amt.T,X[:,:]])"
     ],
     "language": "python",
     "metadata": {},
     "outputs": [],
     "prompt_number": 58
    },
    {
     "cell_type": "code",
     "collapsed": false,
     "input": [
      "test = csr_matrix(test)"
     ],
     "language": "python",
     "metadata": {},
     "outputs": [],
     "prompt_number": 59
    },
    {
     "cell_type": "code",
     "collapsed": false,
     "input": [
      "# np.random.seed(1) \n",
      "# shuffle(lr_data)\n",
      "\n",
      "features = lr_data[:,1:-1]\n",
      "y = lr_data[:,0]"
     ],
     "language": "python",
     "metadata": {},
     "outputs": [],
     "prompt_number": 77
    },
    {
     "cell_type": "code",
     "collapsed": false,
     "input": [
      "sparce = set([x for x in mrbo['contbr_occupation']])\n",
      "len(sparce)"
     ],
     "language": "python",
     "metadata": {},
     "outputs": [
      {
       "metadata": {},
       "output_type": "pyout",
       "prompt_number": 190,
       "text": [
        "16275"
       ]
      }
     ],
     "prompt_number": 190
    },
    {
     "cell_type": "code",
     "collapsed": false,
     "input": [
      "x_train, x_test, y_train, y_test = train_test_split(features,y, test_size=0.33, random_state=1)\n",
      "regr = LinearRegression()\n",
      "regr.fit(x_train,y_train) \n",
      "\n",
      "print 'Coefficients: \\n', regr.coef_\n",
      "\n",
      "# The mean square error\n",
      "print (\"Residual sum of squares: %.2f\" %\n",
      "        np.mean((regr.predict(x_test) - y_test) ** 2))\n",
      "# Explained variance score: 1 is perfect prediction\n",
      "print ('Variance score: %.2f' % regr.score(x_test, y_test))"
     ],
     "language": "python",
     "metadata": {},
     "outputs": [
      {
       "output_type": "stream",
       "stream": "stdout",
       "text": [
        "Coefficients: \n",
        "[  5.24189066e+02  -3.06484409e-03  -1.50034064e-01]\n",
        "Residual sum of squares: 241206.90"
       ]
      },
      {
       "output_type": "stream",
       "stream": "stdout",
       "text": [
        "\n",
        "Variance score: 0.10"
       ]
      },
      {
       "output_type": "stream",
       "stream": "stdout",
       "text": [
        "\n"
       ]
      }
     ],
     "prompt_number": 78
    },
    {
     "cell_type": "code",
     "collapsed": false,
     "input": [
      "feat = test[:,1:]\n",
      "y = test[:,0]\n",
      "\n",
      "alphas = np.logspace(-4, -1, 6)\n",
      "\n",
      "x_train, x_test, y_train, y_test = train_test_split(feat,y, test_size=0.33, random_state=1)\n",
      "# print x_train.shape\n",
      "# print y_train.shape\n",
      "# regr = LinearRegression()\n",
      "regr = Lasso()\n",
      "# regr.fit(x_train,y_train) \n",
      "\n",
      "# print 'Coefficients: \\n', regr.coef_\n",
      "\n",
      "# # The mean square error\n",
      "# print (\"Residual sum of squares: %.2f\" %\n",
      "#         np.mean((regr.predict(x_test) - y_test) ** 2))\n",
      "# # Explained variance score: 1 is perfect prediction\n",
      "# print ('Variance score: %.2f' % regr.score(x_test, y_test))\n",
      "\n",
      "\n",
      "\n",
      "scores = [regr.set_params(alpha=alpha\n",
      "            ).fit(x_train,y_train).score(x_train,y_train)\n",
      "        for alpha in alphas]\n",
      "best_alpha = alphas[scores.index(max(scores))]\n",
      "regr.alpha = best_alpha\n",
      "regr.fit(x_train,y_train)\n",
      "Lasso(alpha=0.025118864315095794, copy_X=True, fit_intercept=True,\n",
      "   max_iter=1000, normalize=False, positive=False, precompute='auto',\n",
      "   tol=0.0001, warm_start=False)\n",
      "print 'Coefficients: \\n', regr.coef_\n",
      "\n",
      "# The mean square error\n",
      "print (\"Residual sum of squares: %.2f\" %\n",
      "        np.mean((regr.predict(x_test) - y_test) ** 2))\n",
      "# Explained variance score: 1 is perfect prediction\n",
      "print ('Variance score: %.2f' % regr.score(x_test, y_test))"
     ],
     "language": "python",
     "metadata": {},
     "outputs": [
      {
       "output_type": "stream",
       "stream": "stdout",
       "text": [
        "Coefficients: \n",
        "[  9.73530648e+01  -4.19473681e-09  -1.73073084e+02 ...,   7.81266993e+01\n",
        "   1.00984695e+02  -7.93734628e+01]\n",
        "Residual sum of squares: 438266.10"
       ]
      },
      {
       "output_type": "stream",
       "stream": "stdout",
       "text": [
        "\n",
        "Variance score: -1.23"
       ]
      },
      {
       "output_type": "stream",
       "stream": "stdout",
       "text": [
        "\n"
       ]
      }
     ],
     "prompt_number": 47
    },
    {
     "cell_type": "code",
     "collapsed": false,
     "input": [
      "train_feat = test[:8000,1:]\n",
      "train_y = test[:8000,0]\n",
      "\n",
      "test_feat = test[8000:,1:]\n",
      "test_y = test[8000:,0]\n",
      "\n",
      "y = train_y.ravel().T"
     ],
     "language": "python",
     "metadata": {},
     "outputs": [],
     "prompt_number": 83
    },
    {
     "cell_type": "code",
     "collapsed": false,
     "input": [
      "from sklearn.ensemble import GradientBoostingRegressor\n",
      "clf = GradientBoostingRegressor(n_estimators=100, learning_rate=1.0,max_depth=1, random_state=0, loss='ls').fit(train_feat, y)\n"
     ],
     "language": "python",
     "metadata": {},
     "outputs": [
      {
       "output_type": "stream",
       "stream": "stderr",
       "text": [
        "/Library/Python/2.7/site-packages/sklearn/ensemble/gradient_boosting.py:555: DataConversionWarning: A column-vector y was passed when a 1d array was expected. Please change the shape of y to (n_samples, ), for example using ravel().\n",
        "  y = column_or_1d(y, warn=True)\n"
       ]
      }
     ],
     "prompt_number": 84
    },
    {
     "cell_type": "code",
     "collapsed": false,
     "input": [
      "print clf.predict(test_feat[-10:,:])\n"
     ],
     "language": "python",
     "metadata": {},
     "outputs": [
      {
       "output_type": "stream",
       "stream": "stdout",
       "text": [
        "[ 168.02311544  168.02311544  168.02311544  168.02311544  168.02311544\n",
        "  168.02311544  168.02311544  168.02311544  168.02311544  168.02311544]\n"
       ]
      }
     ],
     "prompt_number": 88
    },
    {
     "cell_type": "code",
     "collapsed": false,
     "input": [
      "feat = test[:,1:]\n",
      "feat.shape"
     ],
     "language": "python",
     "metadata": {},
     "outputs": [
      {
       "metadata": {},
       "output_type": "pyout",
       "prompt_number": 73,
       "text": [
        "(10000, 8756)"
       ]
      }
     ],
     "prompt_number": 73
    },
    {
     "cell_type": "code",
     "collapsed": false,
     "input": [
      "regr.predict(x_test)"
     ],
     "language": "python",
     "metadata": {},
     "outputs": [
      {
       "metadata": {},
       "output_type": "pyout",
       "prompt_number": 65,
       "text": [
        "array([37.099436191884479, 182.30966621918949, 131.50237044358704, ...,\n",
        "       153.08810592545231, 169.05482079502818, 176.19020772051181], dtype=object)"
       ]
      }
     ],
     "prompt_number": 65
    },
    {
     "cell_type": "code",
     "collapsed": false,
     "input": [
      "from scipy.sparse import *\n",
      "from scipy import *\n",
      "x=csc_matrix( (3,4), dtype=int8 )\n"
     ],
     "language": "python",
     "metadata": {},
     "outputs": [],
     "prompt_number": 9
    },
    {
     "cell_type": "code",
     "collapsed": false,
     "input": [
      "# aggregates the total amount of money donated by any atrribute such as donor name or occupation\n",
      "def agg_donor_info(candidate_donor_list,attr_field,attr_key):     \n",
      "    candidate_donors = dict()\n",
      "    for dct in candidate_donor_list:\n",
      "        try:\n",
      "            attr = dct[attr_field]\n",
      "            if attr not in candidate_donors:\n",
      "                candidate_donors[attr] = {'count': 1, 'amount': float(dct['contb_receipt_amt']), 'cand_nm':dct['cand_nm']}\n",
      "            else:\n",
      "                candidate_donors[attr]['count'] += 1\n",
      "                candidate_donors[attr]['amount'] += float(dct['contb_receipt_amt'])\n",
      "        except:\n",
      "            pass\n",
      "    return candidate_donors\n",
      "\n",
      "# convert aggreated info into list of dicts\n",
      "def dct2lst(dct,attr_key): \n",
      "    tmp=[]\n",
      "    for k,v in dct.items():\n",
      "        tmp.append({attr_key:k,'amount':v['amount'],'count':v['count'], 'cand_nm':v['cand_nm']})\n",
      "    return tmp\n",
      "\n",
      "def combine_agg_info(agg_list_1,agg_list_2):\n",
      "    combined = []\n",
      "    for el_1,el_2 in zip(agg_list_1,agg_list_2):\n",
      "        combined.append(el_1)\n",
      "        combined.append(el_2)\n",
      "    return combined"
     ],
     "language": "python",
     "metadata": {},
     "outputs": [],
     "prompt_number": 9
    },
    {
     "cell_type": "code",
     "collapsed": false,
     "input": [
      "# sparce = [[x] for i,x in enumerate(mrbo['contbr_occupation'])]\n",
      "def to_sparse(attr):\n",
      "    rows = len(mrbo[attr])\n",
      "    col_len = set([x for x in mrbo[attr]])\n",
      "    cols = len(col_len)\n",
      "    lm = lil_matrix((rows,cols),dtype=int8 )\n",
      "    for i,num in enumerate(mrbo[attr]):\n",
      "        lm[i,num] = 1\n",
      "    sp_mat = csc_matrix(lm)\n",
      "    return sp_mat"
     ],
     "language": "python",
     "metadata": {},
     "outputs": [],
     "prompt_number": 10
    },
    {
     "cell_type": "code",
     "collapsed": false,
     "input": [
      "sp_occ = to_sparse('contbr_occupation')\n",
      "sp_zip = to_sparse('contbr_zip')\n",
      "sp_cand = to_sparse('cand_nm')"
     ],
     "language": "python",
     "metadata": {},
     "outputs": [],
     "prompt_number": 11
    },
    {
     "cell_type": "code",
     "collapsed": false,
     "input": [
      "amt = np.asmatrix(mrbo['contb_receipt_amt'])"
     ],
     "language": "python",
     "metadata": {},
     "outputs": [],
     "prompt_number": 12
    },
    {
     "cell_type": "code",
     "collapsed": false,
     "input": [
      "amt.T.shape\n",
      "# sp_occ.shape"
     ],
     "language": "python",
     "metadata": {},
     "outputs": [
      {
       "metadata": {},
       "output_type": "pyout",
       "prompt_number": 226,
       "text": [
        "(378144, 1)"
       ]
      }
     ],
     "prompt_number": 226
    },
    {
     "cell_type": "code",
     "collapsed": false,
     "input": [
      "from scipy.sparse import vstack,hstack\n",
      "test = hstack([amt.T,sp_occ,sp_zip,sp_cand])\n",
      "test.shape"
     ],
     "language": "python",
     "metadata": {},
     "outputs": [
      {
       "metadata": {},
       "output_type": "pyout",
       "prompt_number": 13,
       "text": [
        "(378144, 18164)"
       ]
      }
     ],
     "prompt_number": 13
    },
    {
     "cell_type": "code",
     "collapsed": false,
     "input": [
      "lil_oba_rom = lil_matrix(test)\n"
     ],
     "language": "python",
     "metadata": {},
     "outputs": [],
     "prompt_number": 32
    },
    {
     "cell_type": "code",
     "collapsed": false,
     "input": [
      "q=set([x for x in range(len(mrbo['contbr_occupation']))])\n",
      "max(q)"
     ],
     "language": "python",
     "metadata": {},
     "outputs": [
      {
       "metadata": {},
       "output_type": "pyout",
       "prompt_number": 184,
       "text": [
        "378143"
       ]
      }
     ],
     "prompt_number": 184
    },
    {
     "cell_type": "code",
     "collapsed": false,
     "input": [
      "x=lil_matrix((len(sparce),16275),dtype=int8 )\n",
      "x.shape\n",
      "# lil_matrix((M, N), [dtype])\n",
      "for i,num in enumerate(sparce):\n",
      "    x[i,num[0]] = 1\n",
      "    "
     ],
     "language": "python",
     "metadata": {},
     "outputs": [],
     "prompt_number": 152
    },
    {
     "cell_type": "code",
     "collapsed": false,
     "input": [
      "sp_mat = csc_matrix(x)\n",
      "sp_mat.shape"
     ],
     "language": "python",
     "metadata": {},
     "outputs": [
      {
       "metadata": {},
       "output_type": "pyout",
       "prompt_number": 168,
       "text": [
        "(378144, 16275)"
       ]
      }
     ],
     "prompt_number": 168
    },
    {
     "cell_type": "code",
     "collapsed": false,
     "input": [
      "sparce_set = set([sparce[x][0] for x in range(len(sparce))])\n",
      "len(sparce_set)"
     ],
     "language": "python",
     "metadata": {},
     "outputs": [
      {
       "metadata": {},
       "output_type": "pyout",
       "prompt_number": 187,
       "text": [
        "16275"
       ]
      }
     ],
     "prompt_number": 187
    },
    {
     "cell_type": "code",
     "collapsed": false,
     "input": [
      "z_arr = np.zeros((len(sparce_set),len(mrbo['contbr_occupation'])))"
     ],
     "language": "python",
     "metadata": {},
     "outputs": []
    },
    {
     "cell_type": "code",
     "collapsed": false,
     "input": [
      "test = np.array(mrbo)"
     ],
     "language": "python",
     "metadata": {},
     "outputs": [],
     "prompt_number": 285
    },
    {
     "cell_type": "code",
     "collapsed": false,
     "input": [
      "u[2,:]"
     ],
     "language": "python",
     "metadata": {},
     "outputs": [
      {
       "metadata": {},
       "output_type": "pyout",
       "prompt_number": 279,
       "text": [
        "array([1, 2, 3, ..., 47837, 5212, 36979], dtype=object)"
       ]
      }
     ],
     "prompt_number": 279
    },
    {
     "cell_type": "code",
     "collapsed": false,
     "input": [
      "u[-1,:] = [float(x) for x in u[-1,:]]"
     ],
     "language": "python",
     "metadata": {},
     "outputs": [],
     "prompt_number": 192
    },
    {
     "cell_type": "code",
     "collapsed": false,
     "input": [
      "encoded = r.transform(u[:,0])."
     ],
     "language": "python",
     "metadata": {},
     "outputs": [
      {
       "ename": "ValueError",
       "evalue": "need more than 1 value to unpack",
       "output_type": "pyerr",
       "traceback": [
        "\u001b[0;31m---------------------------------------------------------------------------\u001b[0m\n\u001b[0;31mValueError\u001b[0m                                Traceback (most recent call last)",
        "\u001b[0;32m<ipython-input-228-624b9818b9c3>\u001b[0m in \u001b[0;36m<module>\u001b[0;34m()\u001b[0m\n\u001b[0;32m----> 1\u001b[0;31m \u001b[0mencoded\u001b[0m \u001b[0;34m=\u001b[0m \u001b[0mr\u001b[0m\u001b[0;34m.\u001b[0m\u001b[0mtransform\u001b[0m\u001b[0;34m(\u001b[0m\u001b[0mu\u001b[0m\u001b[0;34m[\u001b[0m\u001b[0;34m:\u001b[0m\u001b[0;34m,\u001b[0m\u001b[0;36m0\u001b[0m\u001b[0;34m]\u001b[0m\u001b[0;34m)\u001b[0m\u001b[0;34m.\u001b[0m\u001b[0mtoarray\u001b[0m\u001b[0;34m(\u001b[0m\u001b[0;34m)\u001b[0m\u001b[0;34m.\u001b[0m\u001b[0mT\u001b[0m\u001b[0;34m\u001b[0m\u001b[0m\n\u001b[0m",
        "\u001b[0;32m/Library/Python/2.7/site-packages/sklearn/preprocessing/data.pyc\u001b[0m in \u001b[0;36mtransform\u001b[0;34m(self, X)\u001b[0m\n\u001b[1;32m    986\u001b[0m         \"\"\"\n\u001b[1;32m    987\u001b[0m         return _transform_selected(X, self._transform,\n\u001b[0;32m--> 988\u001b[0;31m                                    self.categorical_features, copy=True)\n\u001b[0m",
        "\u001b[0;32m/Library/Python/2.7/site-packages/sklearn/preprocessing/data.pyc\u001b[0m in \u001b[0;36m_transform_selected\u001b[0;34m(X, transform, selected, copy)\u001b[0m\n\u001b[1;32m    768\u001b[0m     \"\"\"\n\u001b[1;32m    769\u001b[0m     \u001b[0;32mif\u001b[0m \u001b[0mselected\u001b[0m \u001b[0;34m==\u001b[0m \u001b[0;34m\"all\"\u001b[0m\u001b[0;34m:\u001b[0m\u001b[0;34m\u001b[0m\u001b[0m\n\u001b[0;32m--> 770\u001b[0;31m         \u001b[0;32mreturn\u001b[0m \u001b[0mtransform\u001b[0m\u001b[0;34m(\u001b[0m\u001b[0mX\u001b[0m\u001b[0;34m)\u001b[0m\u001b[0;34m\u001b[0m\u001b[0m\n\u001b[0m\u001b[1;32m    771\u001b[0m \u001b[0;34m\u001b[0m\u001b[0m\n\u001b[1;32m    772\u001b[0m     \u001b[0mX\u001b[0m \u001b[0;34m=\u001b[0m \u001b[0matleast2d_or_csc\u001b[0m\u001b[0;34m(\u001b[0m\u001b[0mX\u001b[0m\u001b[0;34m,\u001b[0m \u001b[0mcopy\u001b[0m\u001b[0;34m=\u001b[0m\u001b[0mcopy\u001b[0m\u001b[0;34m)\u001b[0m\u001b[0;34m\u001b[0m\u001b[0m\n",
        "\u001b[0;32m/Library/Python/2.7/site-packages/sklearn/preprocessing/data.pyc\u001b[0m in \u001b[0;36m_transform\u001b[0;34m(self, X)\u001b[0m\n\u001b[1;32m    949\u001b[0m         \u001b[0;32mif\u001b[0m \u001b[0mnp\u001b[0m\u001b[0;34m.\u001b[0m\u001b[0many\u001b[0m\u001b[0;34m(\u001b[0m\u001b[0mX\u001b[0m \u001b[0;34m<\u001b[0m \u001b[0;36m0\u001b[0m\u001b[0;34m)\u001b[0m\u001b[0;34m:\u001b[0m\u001b[0;34m\u001b[0m\u001b[0m\n\u001b[1;32m    950\u001b[0m             \u001b[0;32mraise\u001b[0m \u001b[0mValueError\u001b[0m\u001b[0;34m(\u001b[0m\u001b[0;34m\"X needs to contain only non-negative integers.\"\u001b[0m\u001b[0;34m)\u001b[0m\u001b[0;34m\u001b[0m\u001b[0m\n\u001b[0;32m--> 951\u001b[0;31m         \u001b[0mn_samples\u001b[0m\u001b[0;34m,\u001b[0m \u001b[0mn_features\u001b[0m \u001b[0;34m=\u001b[0m \u001b[0mX\u001b[0m\u001b[0;34m.\u001b[0m\u001b[0mshape\u001b[0m\u001b[0;34m\u001b[0m\u001b[0m\n\u001b[0m\u001b[1;32m    952\u001b[0m \u001b[0;34m\u001b[0m\u001b[0m\n\u001b[1;32m    953\u001b[0m         \u001b[0mindices\u001b[0m \u001b[0;34m=\u001b[0m \u001b[0mself\u001b[0m\u001b[0;34m.\u001b[0m\u001b[0mfeature_indices_\u001b[0m\u001b[0;34m\u001b[0m\u001b[0m\n",
        "\u001b[0;31mValueError\u001b[0m: need more than 1 value to unpack"
       ]
      }
     ],
     "prompt_number": 228
    },
    {
     "cell_type": "code",
     "collapsed": false,
     "input": [
      "a=r.todense()\n",
      "a.shape"
     ],
     "language": "python",
     "metadata": {},
     "outputs": [
      {
       "metadata": {},
       "output_type": "pyout",
       "prompt_number": 267,
       "text": [
        "(2, 749526)"
       ]
      }
     ],
     "prompt_number": 267
    },
    {
     "cell_type": "code",
     "collapsed": false,
     "input": [
      "n = np.array(new_list)\n",
      "n"
     ],
     "language": "python",
     "metadata": {},
     "outputs": [
      {
       "metadata": {},
       "output_type": "pyout",
       "prompt_number": 257,
       "text": [
        "array([[ <1x749526 sparse matrix of type '<type 'numpy.float64'>'\n",
        "\twith 378144 stored elements in Compressed Sparse Row format>],\n",
        "       [ <1x749526 sparse matrix of type '<type 'numpy.float64'>'\n",
        "\twith 378144 stored elements in Compressed Sparse Row format>]], dtype=object)"
       ]
      }
     ],
     "prompt_number": 257
    },
    {
     "cell_type": "code",
     "collapsed": false,
     "input": [
      "u = np.array(mrbo)"
     ],
     "language": "python",
     "metadata": {},
     "outputs": [],
     "prompt_number": 183
    },
    {
     "cell_type": "code",
     "collapsed": false,
     "input": [
      "# h = np.hstack((a,u[-1,:]))\n",
      "a[:,:3].T"
     ],
     "language": "python",
     "metadata": {},
     "outputs": [
      {
       "metadata": {},
       "output_type": "pyout",
       "prompt_number": 275,
       "text": [
        "matrix([[ 1.,  1.],\n",
        "        [ 1.,  0.],\n",
        "        [ 0.,  1.]])"
       ]
      }
     ],
     "prompt_number": 275
    },
    {
     "cell_type": "code",
     "collapsed": false,
     "input": [
      "u =np.array([mrbo['cand_nm'],mrbo['contbr_occupation'],mrbo['contbr_zip'],mrbo['contb_receipt_amt']])"
     ],
     "language": "python",
     "metadata": {},
     "outputs": [],
     "prompt_number": 185
    },
    {
     "cell_type": "code",
     "collapsed": false,
     "input": [],
     "language": "python",
     "metadata": {},
     "outputs": []
    },
    {
     "cell_type": "code",
     "collapsed": false,
     "input": [],
     "language": "python",
     "metadata": {},
     "outputs": []
    },
    {
     "cell_type": "code",
     "collapsed": false,
     "input": [
      "oba_zip = dct2lst(agg_donor_info(oba,'contbr_zip','zip_code'),'zip_code')\n",
      "rom_zip = dct2lst(agg_donor_info(rom,'contbr_zip','zip_code'),'zip_code')\n",
      "oba_rom_zip = combine_agg_info(rom_zip,oba_zip)\n",
      "\n",
      "\n",
      "oba_agg_donation_date = dct2lst(agg_donor_info(oba,'contb_receipt_dt','donation_date'),'donation_date')\n",
      "rom_agg_donation_date = dct2lst(agg_donor_info(rom,'contb_receipt_dt','donation_date'),'donation_date')\n",
      "oba_rom_donation_date = combine_agg_info(rom_agg_donation_date,oba_agg_donation_date)\n",
      "\n",
      "rom_agg_donor_occupation = dct2lst(agg_donor_info(rom,'contbr_occupation','occupation'),'occupation')\n",
      "oba_agg_donor_occupation = dct2lst(agg_donor_info(oba,'contbr_occupation','occupation'),'occupation')\n",
      "oba_rom_occupation = combine_agg_info(rom_agg_donor_occupation,oba_agg_donor_occupation)\n",
      "\n",
      "# aggreate donation amount by donor name by candidate\n",
      "rom_agg_donor_list = dct2lst(agg_donor_info(rom,'contbr_nm','name'),'name')\n",
      "oba_agg_donor_list = dct2lst(agg_donor_info(oba,'contbr_nm','name'),'name')\n",
      "\n",
      "# combined aggregate donation amount by name\n",
      "oba_rom_agg_donor =  combine_agg_info(rom_agg_donor_list,oba_agg_donor_list)"
     ],
     "language": "python",
     "metadata": {},
     "outputs": [],
     "prompt_number": 12
    },
    {
     "cell_type": "code",
     "collapsed": false,
     "input": [
      "oba_rom_zip_df = pd.DataFrame.from_dict(oba_rom_zip)"
     ],
     "language": "python",
     "metadata": {},
     "outputs": [],
     "prompt_number": 13
    },
    {
     "cell_type": "code",
     "collapsed": false,
     "input": [
      "or_zip = oba_rom_zip_df.sort('amount')[-10:]"
     ],
     "language": "python",
     "metadata": {},
     "outputs": [],
     "prompt_number": 50
    },
    {
     "cell_type": "code",
     "collapsed": false,
     "input": [
      "ggplot(or_zip,aes(x='count',y='amount',color='zip_code')) + geom_point() "
     ],
     "language": "python",
     "metadata": {},
     "outputs": [
      {
       "metadata": {},
       "output_type": "display_data",
       "png": "[encoded data removed]",
       "text": [
        "<matplotlib.figure.Figure at 0x12245b6d0>"
       ]
      },
      {
       "metadata": {},
       "output_type": "pyout",
       "prompt_number": 51,
       "text": [
        "<ggplot: (304360741)>"
       ]
      }
     ],
     "prompt_number": 51
    },
    {
     "cell_type": "code",
     "collapsed": false,
     "input": [
      "oba_rom_donation_date_df = pd.DataFrame.from_dict(oba_rom_donation_date,orient='columns')\n",
      "oba_rom_occupation_df = pd.DataFrame.from_dict(oba_rom_occupation,orient='columns')\n",
      "oba_rom_agg_donor_df = pd.DataFrame.from_dict(oba_rom_agg_donor,orient='columns')"
     ],
     "language": "python",
     "metadata": {},
     "outputs": [],
     "prompt_number": 13
    },
    {
     "cell_type": "code",
     "collapsed": false,
     "input": [],
     "language": "python",
     "metadata": {},
     "outputs": []
    },
    {
     "cell_type": "code",
     "collapsed": false,
     "input": [
      "o_r = oba_rom_occupation_df.sort('amount')[-10:]\n",
      "obarom = oba_rom_agg_donor_df.sort('count')[-20:]\n",
      "obarom"
     ],
     "language": "python",
     "metadata": {},
     "outputs": [
      {
       "html": [
        "<div style=\"max-height:1000px;max-width:1500px;overflow:auto;\">\n",
        "<table border=\"1\" class=\"dataframe\">\n",
        "  <thead>\n",
        "    <tr style=\"text-align: right;\">\n",
        "      <th></th>\n",
        "      <th>amount</th>\n",
        "      <th>cand_nm</th>\n",
        "      <th>count</th>\n",
        "      <th>name</th>\n",
        "    </tr>\n",
        "  </thead>\n",
        "  <tbody>\n",
        "    <tr>\n",
        "      <th>4923</th>\n",
        "      <td>  169017.16</td>\n",
        "      <td> Obama, Barack</td>\n",
        "      <td> 1085</td>\n",
        "      <td> KATHERINE</td>\n",
        "    </tr>\n",
        "    <tr>\n",
        "      <th>5274</th>\n",
        "      <td>  824327.10</td>\n",
        "      <td>  Romney, Mitt</td>\n",
        "      <td> 1119</td>\n",
        "      <td>   MICHAEL</td>\n",
        "    </tr>\n",
        "    <tr>\n",
        "      <th>3985</th>\n",
        "      <td>  207776.70</td>\n",
        "      <td> Obama, Barack</td>\n",
        "      <td> 1156</td>\n",
        "      <td>    GEORGE</td>\n",
        "    </tr>\n",
        "    <tr>\n",
        "      <th>4505</th>\n",
        "      <td>  235087.50</td>\n",
        "      <td> Obama, Barack</td>\n",
        "      <td> 1194</td>\n",
        "      <td>      ERIC</td>\n",
        "    </tr>\n",
        "    <tr>\n",
        "      <th>2413</th>\n",
        "      <td>  226559.43</td>\n",
        "      <td> Obama, Barack</td>\n",
        "      <td> 1211</td>\n",
        "      <td>   KENNETH</td>\n",
        "    </tr>\n",
        "    <tr>\n",
        "      <th>2045</th>\n",
        "      <td>  161449.50</td>\n",
        "      <td> Obama, Barack</td>\n",
        "      <td> 1264</td>\n",
        "      <td>  KATHLEEN</td>\n",
        "    </tr>\n",
        "    <tr>\n",
        "      <th>2400</th>\n",
        "      <td>  796021.72</td>\n",
        "      <td>  Romney, Mitt</td>\n",
        "      <td> 1298</td>\n",
        "      <td>    ROBERT</td>\n",
        "    </tr>\n",
        "    <tr>\n",
        "      <th>229 </th>\n",
        "      <td>  179384.32</td>\n",
        "      <td> Obama, Barack</td>\n",
        "      <td> 1448</td>\n",
        "      <td>   DEBORAH</td>\n",
        "    </tr>\n",
        "    <tr>\n",
        "      <th>4797</th>\n",
        "      <td>  229119.90</td>\n",
        "      <td> Obama, Barack</td>\n",
        "      <td> 1481</td>\n",
        "      <td>     ELLEN</td>\n",
        "    </tr>\n",
        "    <tr>\n",
        "      <th>4781</th>\n",
        "      <td>  266188.06</td>\n",
        "      <td> Obama, Barack</td>\n",
        "      <td> 1493</td>\n",
        "      <td>      JANE</td>\n",
        "    </tr>\n",
        "    <tr>\n",
        "      <th>1972</th>\n",
        "      <td> 1002652.83</td>\n",
        "      <td>  Romney, Mitt</td>\n",
        "      <td> 1528</td>\n",
        "      <td>      JOHN</td>\n",
        "    </tr>\n",
        "    <tr>\n",
        "      <th>1321</th>\n",
        "      <td>  328538.16</td>\n",
        "      <td> Obama, Barack</td>\n",
        "      <td> 1587</td>\n",
        "      <td>    ANDREW</td>\n",
        "    </tr>\n",
        "    <tr>\n",
        "      <th>2517</th>\n",
        "      <td>  301812.70</td>\n",
        "      <td> Obama, Barack</td>\n",
        "      <td> 1613</td>\n",
        "      <td>    STEVEN</td>\n",
        "    </tr>\n",
        "    <tr>\n",
        "      <th>327 </th>\n",
        "      <td>  381582.47</td>\n",
        "      <td> Obama, Barack</td>\n",
        "      <td> 1960</td>\n",
        "      <td>    DANIEL</td>\n",
        "    </tr>\n",
        "    <tr>\n",
        "      <th>2677</th>\n",
        "      <td>  300560.30</td>\n",
        "      <td> Obama, Barack</td>\n",
        "      <td> 2025</td>\n",
        "      <td>    JUDITH</td>\n",
        "    </tr>\n",
        "    <tr>\n",
        "      <th>2857</th>\n",
        "      <td>  291376.75</td>\n",
        "      <td> Obama, Barack</td>\n",
        "      <td> 2501</td>\n",
        "      <td>  PATRICIA</td>\n",
        "    </tr>\n",
        "    <tr>\n",
        "      <th>2159</th>\n",
        "      <td>  556778.80</td>\n",
        "      <td> Obama, Barack</td>\n",
        "      <td> 2619</td>\n",
        "      <td>     PETER</td>\n",
        "    </tr>\n",
        "    <tr>\n",
        "      <th>977 </th>\n",
        "      <td>  617970.86</td>\n",
        "      <td> Obama, Barack</td>\n",
        "      <td> 3287</td>\n",
        "      <td>   WILLIAM</td>\n",
        "    </tr>\n",
        "    <tr>\n",
        "      <th>1071</th>\n",
        "      <td>  449800.78</td>\n",
        "      <td> Obama, Barack</td>\n",
        "      <td> 3304</td>\n",
        "      <td>   BARBARA</td>\n",
        "    </tr>\n",
        "    <tr>\n",
        "      <th>1559</th>\n",
        "      <td>  998299.23</td>\n",
        "      <td> Obama, Barack</td>\n",
        "      <td> 6071</td>\n",
        "      <td>      JOHN</td>\n",
        "    </tr>\n",
        "  </tbody>\n",
        "</table>\n",
        "</div>"
       ],
       "metadata": {},
       "output_type": "pyout",
       "prompt_number": 34,
       "text": [
        "          amount        cand_nm  count       name\n",
        "4923   169017.16  Obama, Barack   1085  KATHERINE\n",
        "5274   824327.10   Romney, Mitt   1119    MICHAEL\n",
        "3985   207776.70  Obama, Barack   1156     GEORGE\n",
        "4505   235087.50  Obama, Barack   1194       ERIC\n",
        "2413   226559.43  Obama, Barack   1211    KENNETH\n",
        "2045   161449.50  Obama, Barack   1264   KATHLEEN\n",
        "2400   796021.72   Romney, Mitt   1298     ROBERT\n",
        "229    179384.32  Obama, Barack   1448    DEBORAH\n",
        "4797   229119.90  Obama, Barack   1481      ELLEN\n",
        "4781   266188.06  Obama, Barack   1493       JANE\n",
        "1972  1002652.83   Romney, Mitt   1528       JOHN\n",
        "1321   328538.16  Obama, Barack   1587     ANDREW\n",
        "2517   301812.70  Obama, Barack   1613     STEVEN\n",
        "327    381582.47  Obama, Barack   1960     DANIEL\n",
        "2677   300560.30  Obama, Barack   2025     JUDITH\n",
        "2857   291376.75  Obama, Barack   2501   PATRICIA\n",
        "2159   556778.80  Obama, Barack   2619      PETER\n",
        "977    617970.86  Obama, Barack   3287    WILLIAM\n",
        "1071   449800.78  Obama, Barack   3304    BARBARA\n",
        "1559   998299.23  Obama, Barack   6071       JOHN"
       ]
      }
     ],
     "prompt_number": 34
    },
    {
     "cell_type": "code",
     "collapsed": false,
     "input": [
      "ggplot(o_r,aes(x='occupation',weight='amount', color='occupation') ) + geom_bar() + facet_wrap('cand_nm')"
     ],
     "language": "python",
     "metadata": {},
     "outputs": [
      {
       "metadata": {},
       "output_type": "display_data",
       "png": "[encoded data removed]",
       "text": [
        "<matplotlib.figure.Figure at 0x1226169d0>"
       ]
      },
      {
       "metadata": {},
       "output_type": "pyout",
       "prompt_number": 37,
       "text": [
        "<ggplot: (303760825)>"
       ]
      }
     ],
     "prompt_number": 37
    },
    {
     "cell_type": "code",
     "collapsed": false,
     "input": [],
     "language": "python",
     "metadata": {},
     "outputs": []
    },
    {
     "cell_type": "code",
     "collapsed": false,
     "input": [],
     "language": "python",
     "metadata": {},
     "outputs": []
    },
    {
     "cell_type": "code",
     "collapsed": false,
     "input": [],
     "language": "python",
     "metadata": {},
     "outputs": []
    },
    {
     "cell_type": "code",
     "collapsed": false,
     "input": [],
     "language": "python",
     "metadata": {},
     "outputs": []
    },
    {
     "cell_type": "code",
     "collapsed": false,
     "input": [
      "oba_rom_donation_date_df.donation_date = [pd.to_datetime(x) for x in oba_rom_donation_date_df.donation_date]"
     ],
     "language": "python",
     "metadata": {},
     "outputs": [],
     "prompt_number": 16
    },
    {
     "cell_type": "code",
     "collapsed": false,
     "input": [],
     "language": "python",
     "metadata": {},
     "outputs": []
    },
    {
     "cell_type": "code",
     "collapsed": false,
     "input": [
      "with open('donor_info.csv','w') as f:\n",
      "    w = csv.DictWriter(f,fieldnames = ['amount','cand_nm','count','name'])\n",
      "    w.writeheader()\n",
      "    for dct in combined:\n",
      "        w.writerow(dct)"
     ],
     "language": "python",
     "metadata": {},
     "outputs": [],
     "prompt_number": 9
    },
    {
     "cell_type": "code",
     "collapsed": false,
     "input": [
      "oba_rom = pd.read_csv('donor_info.csv')"
     ],
     "language": "python",
     "metadata": {},
     "outputs": [],
     "prompt_number": 17
    },
    {
     "cell_type": "code",
     "collapsed": false,
     "input": [
      "ggplot(oba_rom,aes(x='count',y='amount',color='cand_nm')) + geom_point()"
     ],
     "language": "python",
     "metadata": {},
     "outputs": [
      {
       "metadata": {},
       "output_type": "display_data",
       "png": "[encoded data removed]",
       "text": [
        "<matplotlib.figure.Figure at 0x1224ad350>"
       ]
      },
      {
       "metadata": {},
       "output_type": "pyout",
       "prompt_number": 18,
       "text": [
        "<ggplot: (304395765)>"
       ]
      }
     ],
     "prompt_number": 18
    },
    {
     "cell_type": "code",
     "collapsed": false,
     "input": [
      "themes.theme"
     ],
     "language": "python",
     "metadata": {},
     "outputs": [
      {
       "metadata": {},
       "output_type": "pyout",
       "prompt_number": 15,
       "text": [
        "<module 'ggplot.themes' from '/Library/Python/2.7/site-packages/ggplot-0.5.2-py2.7.egg/ggplot/themes/__init__.pyc'>"
       ]
      }
     ],
     "prompt_number": 15
    },
    {
     "cell_type": "code",
     "collapsed": false,
     "input": [],
     "language": "python",
     "metadata": {},
     "outputs": [],
     "prompt_number": 2
    },
    {
     "cell_type": "code",
     "collapsed": false,
     "input": [],
     "language": "python",
     "metadata": {},
     "outputs": [],
     "prompt_number": 3
    },
    {
     "cell_type": "code",
     "collapsed": false,
     "input": [],
     "language": "python",
     "metadata": {},
     "outputs": [],
     "prompt_number": 4
    },
    {
     "cell_type": "code",
     "collapsed": false,
     "input": [
      "rom[0]"
     ],
     "language": "python",
     "metadata": {},
     "outputs": [
      {
       "metadata": {},
       "output_type": "pyout",
       "prompt_number": 29,
       "text": [
        "{'': '33229',\n",
        " 'NA': 'NA',\n",
        " 'cand_id': 'P80003353',\n",
        " 'cand_nm': 'Romney, Mitt',\n",
        " 'cmte_id': 'C00431171',\n",
        " 'contb_receipt_amt': '2500',\n",
        " 'contb_receipt_dt': '17-AUG-11',\n",
        " 'contbr_city': 'NEW YORK',\n",
        " 'contbr_employer': 'RAYCLIFF INVESTMENTS L.L.C.',\n",
        " 'contbr_nm': 'BIPPY',\n",
        " 'contbr_occupation': 'C.E.O.',\n",
        " 'contbr_st': 'NY',\n",
        " 'contbr_zip': '100280320',\n",
        " 'election_tp': 'P2012',\n",
        " 'file_num': '760261',\n",
        " 'form_tp': 'SA17A',\n",
        " 'memo_cd': '',\n",
        " 'memo_text': '',\n",
        " 'receipt_desc': '',\n",
        " 'tran_id': 'SA17.486225'}"
       ]
      }
     ],
     "prompt_number": 29
    }
   ],
   "metadata": {}
  }
 ]
}