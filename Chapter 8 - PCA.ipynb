{
 "metadata": {
  "name": "",
  "signature": "sha256:24acdab7786382a811cf367c92ecc797289831565231803fc05312dffba33b68"
 },
 "nbformat": 3,
 "nbformat_minor": 0,
 "worksheets": [
  {
   "cells": [
    {
     "cell_type": "code",
     "collapsed": false,
     "input": [
      "import pandas as pd\n",
      "%pylab inline\n",
      "figsize(8,4.5)\n",
      "import pandas as pd\n",
      "import numpy as np\n",
      "import scipy.stats as stats\n",
      "plt.style.use('bmh')\n",
      "import statsmodels.formula.api as smf"
     ],
     "language": "python",
     "metadata": {},
     "outputs": [
      {
       "output_type": "stream",
       "stream": "stdout",
       "text": [
        "Populating the interactive namespace from numpy and matplotlib\n"
       ]
      },
      {
       "output_type": "stream",
       "stream": "stderr",
       "text": [
        "WARNING: pylab import has clobbered these variables: ['f']\n",
        "`%matplotlib` prevents importing * from pylab and numpy\n"
       ]
      }
     ],
     "prompt_number": 53
    },
    {
     "cell_type": "markdown",
     "metadata": {},
     "source": [
      "<h2>Principal Component Analaysis</h2>\n",
      "The main idea of PCA is to create a new set of features that are ordered based on how much of the raw information in our data set they contain. PCA is particularly effective when the columns in our data set are all strongly correlated. \n",
      "\n",
      "First, we'll download and load our data."
     ]
    },
    {
     "cell_type": "code",
     "collapsed": false,
     "input": [
      "%%bash\n",
      "wget https://raw.githubusercontent.com/johnmyleswhite/ML_for_Hackers/master/08-PCA/data/stock_prices.csv\n",
      "wget https://raw.githubusercontent.com/johnmyleswhite/ML_for_Hackers/master/08-PCA/data/DJI.csv "
     ],
     "language": "python",
     "metadata": {},
     "outputs": [],
     "prompt_number": 56
    },
    {
     "cell_type": "code",
     "collapsed": false,
     "input": [
      "stock_prices = pd.read_csv('stock_prices.csv')\n",
      "stock_prices.head()"
     ],
     "language": "python",
     "metadata": {},
     "outputs": [
      {
       "html": [
        "<div style=\"max-height:1000px;max-width:1500px;overflow:auto;\">\n",
        "<table border=\"1\" class=\"dataframe\">\n",
        "  <thead>\n",
        "    <tr style=\"text-align: right;\">\n",
        "      <th></th>\n",
        "      <th>Date</th>\n",
        "      <th>Stock</th>\n",
        "      <th>Close</th>\n",
        "    </tr>\n",
        "  </thead>\n",
        "  <tbody>\n",
        "    <tr>\n",
        "      <th>0</th>\n",
        "      <td> 2011-05-25</td>\n",
        "      <td> DTE</td>\n",
        "      <td> 51.12</td>\n",
        "    </tr>\n",
        "    <tr>\n",
        "      <th>1</th>\n",
        "      <td> 2011-05-24</td>\n",
        "      <td> DTE</td>\n",
        "      <td> 51.51</td>\n",
        "    </tr>\n",
        "    <tr>\n",
        "      <th>2</th>\n",
        "      <td> 2011-05-23</td>\n",
        "      <td> DTE</td>\n",
        "      <td> 51.47</td>\n",
        "    </tr>\n",
        "    <tr>\n",
        "      <th>3</th>\n",
        "      <td> 2011-05-20</td>\n",
        "      <td> DTE</td>\n",
        "      <td> 51.90</td>\n",
        "    </tr>\n",
        "    <tr>\n",
        "      <th>4</th>\n",
        "      <td> 2011-05-19</td>\n",
        "      <td> DTE</td>\n",
        "      <td> 51.91</td>\n",
        "    </tr>\n",
        "  </tbody>\n",
        "</table>\n",
        "</div>"
       ],
       "metadata": {},
       "output_type": "pyout",
       "prompt_number": 56,
       "text": [
        "         Date Stock  Close\n",
        "0  2011-05-25   DTE  51.12\n",
        "1  2011-05-24   DTE  51.51\n",
        "2  2011-05-23   DTE  51.47\n",
        "3  2011-05-20   DTE  51.90\n",
        "4  2011-05-19   DTE  51.91"
       ]
      }
     ],
     "prompt_number": 56
    },
    {
     "cell_type": "markdown",
     "metadata": {},
     "source": [
      "Let's create a correlation a correlation matrix to see if this data set is suited for PCA."
     ]
    },
    {
     "cell_type": "code",
     "collapsed": false,
     "input": [
      "stock_prices['Date'] = pd.to_datetime(stock_prices['Date'])\n",
      "stock_prices = stock_prices[stock_prices['Date'] != pd.to_datetime('2002-02-01')]\n",
      "stock_prices = stock_prices[stock_prices['Stock'] != 'DDR']\n",
      "date_stock_matrix = stock_prices.pivot('Date','Stock','Close').reset_index()\n",
      "date_stock_matrix.head()"
     ],
     "language": "python",
     "metadata": {},
     "outputs": [
      {
       "html": [
        "<div style=\"max-height:1000px;max-width:1500px;overflow:auto;\">\n",
        "<table border=\"1\" class=\"dataframe\">\n",
        "  <thead>\n",
        "    <tr style=\"text-align: right;\">\n",
        "      <th>Stock</th>\n",
        "      <th>Date</th>\n",
        "      <th>ADC</th>\n",
        "      <th>AFL</th>\n",
        "      <th>ARKR</th>\n",
        "      <th>AZPN</th>\n",
        "      <th>CLFD</th>\n",
        "      <th>DTE</th>\n",
        "      <th>ENDP</th>\n",
        "      <th>FLWS</th>\n",
        "      <th>FR</th>\n",
        "      <th>...</th>\n",
        "      <th>KSS</th>\n",
        "      <th>MTSC</th>\n",
        "      <th>NWN</th>\n",
        "      <th>ODFL</th>\n",
        "      <th>PARL</th>\n",
        "      <th>RELV</th>\n",
        "      <th>SIGM</th>\n",
        "      <th>STT</th>\n",
        "      <th>TRIB</th>\n",
        "      <th>UTR</th>\n",
        "    </tr>\n",
        "  </thead>\n",
        "  <tbody>\n",
        "    <tr>\n",
        "      <th>0</th>\n",
        "      <td>2002-01-02</td>\n",
        "      <td> 17.70</td>\n",
        "      <td> 23.78</td>\n",
        "      <td> 8.15</td>\n",
        "      <td> 17.10</td>\n",
        "      <td> 3.19</td>\n",
        "      <td> 42.37</td>\n",
        "      <td> 11.54</td>\n",
        "      <td> 15.77</td>\n",
        "      <td> 31.16</td>\n",
        "      <td>...</td>\n",
        "      <td> 70.23</td>\n",
        "      <td> 10.03</td>\n",
        "      <td> 26.20</td>\n",
        "      <td> 13.40</td>\n",
        "      <td> 1.92</td>\n",
        "      <td> 1.30</td>\n",
        "      <td> 1.75</td>\n",
        "      <td> 52.11</td>\n",
        "      <td> 1.50</td>\n",
        "      <td> 39.34</td>\n",
        "    </tr>\n",
        "    <tr>\n",
        "      <th>1</th>\n",
        "      <td>2002-01-03</td>\n",
        "      <td> 16.14</td>\n",
        "      <td> 23.52</td>\n",
        "      <td> 8.15</td>\n",
        "      <td> 17.41</td>\n",
        "      <td> 3.27</td>\n",
        "      <td> 42.14</td>\n",
        "      <td> 11.48</td>\n",
        "      <td> 17.40</td>\n",
        "      <td> 31.45</td>\n",
        "      <td>...</td>\n",
        "      <td> 69.65</td>\n",
        "      <td> 10.85</td>\n",
        "      <td> 26.25</td>\n",
        "      <td> 13.00</td>\n",
        "      <td> 1.94</td>\n",
        "      <td> 1.22</td>\n",
        "      <td> 2.11</td>\n",
        "      <td> 52.90</td>\n",
        "      <td> 1.55</td>\n",
        "      <td> 39.49</td>\n",
        "    </tr>\n",
        "    <tr>\n",
        "      <th>2</th>\n",
        "      <td>2002-01-04</td>\n",
        "      <td> 15.45</td>\n",
        "      <td> 23.92</td>\n",
        "      <td> 7.79</td>\n",
        "      <td> 17.90</td>\n",
        "      <td> 3.28</td>\n",
        "      <td> 41.79</td>\n",
        "      <td> 11.60</td>\n",
        "      <td> 17.11</td>\n",
        "      <td> 31.46</td>\n",
        "      <td>...</td>\n",
        "      <td> 70.21</td>\n",
        "      <td> 10.34</td>\n",
        "      <td> 26.46</td>\n",
        "      <td> 13.00</td>\n",
        "      <td> 1.98</td>\n",
        "      <td> 1.26</td>\n",
        "      <td> 2.20</td>\n",
        "      <td> 54.16</td>\n",
        "      <td> 1.54</td>\n",
        "      <td> 39.38</td>\n",
        "    </tr>\n",
        "    <tr>\n",
        "      <th>3</th>\n",
        "      <td>2002-01-07</td>\n",
        "      <td> 16.59</td>\n",
        "      <td> 23.12</td>\n",
        "      <td> 7.79</td>\n",
        "      <td> 17.49</td>\n",
        "      <td> 3.50</td>\n",
        "      <td> 41.48</td>\n",
        "      <td> 11.90</td>\n",
        "      <td> 17.38</td>\n",
        "      <td> 31.10</td>\n",
        "      <td>...</td>\n",
        "      <td> 70.17</td>\n",
        "      <td>  9.99</td>\n",
        "      <td> 26.84</td>\n",
        "      <td> 13.32</td>\n",
        "      <td> 1.94</td>\n",
        "      <td> 1.28</td>\n",
        "      <td> 2.11</td>\n",
        "      <td> 55.14</td>\n",
        "      <td> 1.55</td>\n",
        "      <td> 38.55</td>\n",
        "    </tr>\n",
        "    <tr>\n",
        "      <th>4</th>\n",
        "      <td>2002-01-08</td>\n",
        "      <td> 16.76</td>\n",
        "      <td> 25.54</td>\n",
        "      <td> 7.35</td>\n",
        "      <td> 17.89</td>\n",
        "      <td> 4.24</td>\n",
        "      <td> 40.69</td>\n",
        "      <td> 12.41</td>\n",
        "      <td> 14.62</td>\n",
        "      <td> 31.40</td>\n",
        "      <td>...</td>\n",
        "      <td> 69.90</td>\n",
        "      <td> 10.35</td>\n",
        "      <td> 27.35</td>\n",
        "      <td> 13.75</td>\n",
        "      <td> 1.94</td>\n",
        "      <td> 1.27</td>\n",
        "      <td> 2.25</td>\n",
        "      <td> 54.44</td>\n",
        "      <td> 1.58</td>\n",
        "      <td> 38.98</td>\n",
        "    </tr>\n",
        "  </tbody>\n",
        "</table>\n",
        "<p>5 rows \u00d7 25 columns</p>\n",
        "</div>"
       ],
       "metadata": {},
       "output_type": "pyout",
       "prompt_number": 74,
       "text": [
        "Stock       Date    ADC    AFL  ARKR   AZPN  CLFD    DTE   ENDP   FLWS     FR  \\\n",
        "0     2002-01-02  17.70  23.78  8.15  17.10  3.19  42.37  11.54  15.77  31.16   \n",
        "1     2002-01-03  16.14  23.52  8.15  17.41  3.27  42.14  11.48  17.40  31.45   \n",
        "2     2002-01-04  15.45  23.92  7.79  17.90  3.28  41.79  11.60  17.11  31.46   \n",
        "3     2002-01-07  16.59  23.12  7.79  17.49  3.50  41.48  11.90  17.38  31.10   \n",
        "4     2002-01-08  16.76  25.54  7.35  17.89  4.24  40.69  12.41  14.62  31.40   \n",
        "\n",
        "Stock  ...      KSS   MTSC    NWN   ODFL  PARL  RELV  SIGM    STT  TRIB    UTR  \n",
        "0      ...    70.23  10.03  26.20  13.40  1.92  1.30  1.75  52.11  1.50  39.34  \n",
        "1      ...    69.65  10.85  26.25  13.00  1.94  1.22  2.11  52.90  1.55  39.49  \n",
        "2      ...    70.21  10.34  26.46  13.00  1.98  1.26  2.20  54.16  1.54  39.38  \n",
        "3      ...    70.17   9.99  26.84  13.32  1.94  1.28  2.11  55.14  1.55  38.55  \n",
        "4      ...    69.90  10.35  27.35  13.75  1.94  1.27  2.25  54.44  1.58  38.98  \n",
        "\n",
        "[5 rows x 25 columns]"
       ]
      }
     ],
     "prompt_number": 74
    },
    {
     "cell_type": "markdown",
     "metadata": {},
     "source": [
      "Now that we've got a correlation matrix, let's turn the matrix into a single vector (Series using pandas) and create a density plot to get a sense of both the mean correlation adn the frequency with which low correlations occur:"
     ]
    },
    {
     "cell_type": "code",
     "collapsed": false,
     "input": [
      "date_stock_matrix.corr().reset_index().drop('Stock',1).unstack().plot(kind='kde')"
     ],
     "language": "python",
     "metadata": {},
     "outputs": [
      {
       "metadata": {},
       "output_type": "pyout",
       "prompt_number": 125,
       "text": [
        "<matplotlib.axes._subplots.AxesSubplot at 0x10cf68e90>"
       ]
      },
      {
       "metadata": {},
       "output_type": "display_data",
       "png": "[encoded data removed]",
       "text": [
        "<matplotlib.figure.Figure at 0x10cd7dfd0>"
       ]
      }
     ],
     "prompt_number": 125
    },
    {
     "cell_type": "markdown",
     "metadata": {},
     "source": [
      "The density plot shows that the majority of the correlations are posibity indicating that PCA will probably work well on this data set. "
     ]
    },
    {
     "cell_type": "code",
     "collapsed": false,
     "input": [
      "from sklearn.decomposition import PCA"
     ],
     "language": "python",
     "metadata": {},
     "outputs": [],
     "prompt_number": 127
    },
    {
     "cell_type": "code",
     "collapsed": false,
     "input": [
      "pca = PCA()\n",
      "pca.fit(date_stock_matrix.iloc[:,2:])\n",
      "pd.DataFrame(np.sqrt(pca.explained_variance_)).T # Take the square root of variance to get std. deviation"
     ],
     "language": "python",
     "metadata": {},
     "outputs": [
      {
       "html": [
        "<div style=\"max-height:1000px;max-width:1500px;overflow:auto;\">\n",
        "<table border=\"1\" class=\"dataframe\">\n",
        "  <thead>\n",
        "    <tr style=\"text-align: right;\">\n",
        "      <th></th>\n",
        "      <th>0</th>\n",
        "      <th>1</th>\n",
        "      <th>2</th>\n",
        "      <th>3</th>\n",
        "      <th>4</th>\n",
        "      <th>5</th>\n",
        "      <th>6</th>\n",
        "      <th>7</th>\n",
        "      <th>8</th>\n",
        "      <th>9</th>\n",
        "      <th>...</th>\n",
        "      <th>13</th>\n",
        "      <th>14</th>\n",
        "      <th>15</th>\n",
        "      <th>16</th>\n",
        "      <th>17</th>\n",
        "      <th>18</th>\n",
        "      <th>19</th>\n",
        "      <th>20</th>\n",
        "      <th>21</th>\n",
        "      <th>22</th>\n",
        "    </tr>\n",
        "  </thead>\n",
        "  <tbody>\n",
        "    <tr>\n",
        "      <th>0</th>\n",
        "      <td> 28.727424</td>\n",
        "      <td> 20.386919</td>\n",
        "      <td> 12.640545</td>\n",
        "      <td> 11.40952</td>\n",
        "      <td> 8.496336</td>\n",
        "      <td> 8.178993</td>\n",
        "      <td> 5.399535</td>\n",
        "      <td> 5.112265</td>\n",
        "      <td> 4.76993</td>\n",
        "      <td> 4.255822</td>\n",
        "      <td>...</td>\n",
        "      <td> 2.168746</td>\n",
        "      <td> 1.943225</td>\n",
        "      <td> 1.839902</td>\n",
        "      <td> 1.636521</td>\n",
        "      <td> 1.287081</td>\n",
        "      <td> 1.154432</td>\n",
        "      <td> 0.987799</td>\n",
        "      <td> 0.956332</td>\n",
        "      <td> 0.746042</td>\n",
        "      <td> 0.434821</td>\n",
        "    </tr>\n",
        "  </tbody>\n",
        "</table>\n",
        "<p>1 rows \u00d7 23 columns</p>\n",
        "</div>"
       ],
       "metadata": {},
       "output_type": "pyout",
       "prompt_number": 165,
       "text": [
        "          0          1          2         3         4         5         6   \\\n",
        "0  28.727424  20.386919  12.640545  11.40952  8.496336  8.178993  5.399535   \n",
        "\n",
        "         7        8         9     ...           13        14        15  \\\n",
        "0  5.112265  4.76993  4.255822    ...     2.168746  1.943225  1.839902   \n",
        "\n",
        "         16        17        18        19        20        21        22  \n",
        "0  1.636521  1.287081  1.154432  0.987799  0.956332  0.746042  0.434821  \n",
        "\n",
        "[1 rows x 23 columns]"
       ]
      }
     ],
     "prompt_number": 165
    },
    {
     "cell_type": "markdown",
     "metadata": {},
     "source": [
      "Our first component accounts for 29% of the variance, while the next component accounts for 20%. The amount of variance continually decreases and our last component accounts for less than 1/2 of 1% of the variance. "
     ]
    },
    {
     "cell_type": "code",
     "collapsed": false,
     "input": [
      "PCA(date_stock_matrix.iloc[:,2:],)\n",
      "# market_index = pd.DataFrame(np.sqrt(pca.explained_variance_)).T[0]\n",
      "# market_index"
     ],
     "language": "python",
     "metadata": {},
     "outputs": [
      {
       "metadata": {},
       "output_type": "pyout",
       "prompt_number": 339,
       "text": [
        "<matplotlib.mlab.PCA instance at 0x10ff4b5a8>"
       ]
      }
     ],
     "prompt_number": 339
    },
    {
     "cell_type": "code",
     "collapsed": false,
     "input": [
      "dji = pd.read_csv('DJI.csv')\n",
      "dji['Date'] = pd.to_datetime(dji['Date'])\n",
      "dji = dji[dji['Date'] != pd.to_datetime('2002-02-01')]\n",
      "dji = dji[dji['Date'] > pd.to_datetime('2001-12-31')]\n",
      "dji.head()"
     ],
     "language": "python",
     "metadata": {},
     "outputs": [
      {
       "html": [
        "<div style=\"max-height:1000px;max-width:1500px;overflow:auto;\">\n",
        "<table border=\"1\" class=\"dataframe\">\n",
        "  <thead>\n",
        "    <tr style=\"text-align: right;\">\n",
        "      <th></th>\n",
        "      <th>Date</th>\n",
        "      <th>Open</th>\n",
        "      <th>High</th>\n",
        "      <th>Low</th>\n",
        "      <th>Close</th>\n",
        "      <th>Volume</th>\n",
        "      <th>Adj Close</th>\n",
        "    </tr>\n",
        "  </thead>\n",
        "  <tbody>\n",
        "    <tr>\n",
        "      <th>0</th>\n",
        "      <td>2011-05-25</td>\n",
        "      <td> 12355.45</td>\n",
        "      <td> 12462.28</td>\n",
        "      <td> 12271.90</td>\n",
        "      <td> 12394.66</td>\n",
        "      <td> 4109670000</td>\n",
        "      <td> 12394.66</td>\n",
        "    </tr>\n",
        "    <tr>\n",
        "      <th>1</th>\n",
        "      <td>2011-05-24</td>\n",
        "      <td> 12381.87</td>\n",
        "      <td> 12465.80</td>\n",
        "      <td> 12315.42</td>\n",
        "      <td> 12356.21</td>\n",
        "      <td> 3846250000</td>\n",
        "      <td> 12356.21</td>\n",
        "    </tr>\n",
        "    <tr>\n",
        "      <th>2</th>\n",
        "      <td>2011-05-23</td>\n",
        "      <td> 12511.29</td>\n",
        "      <td> 12511.29</td>\n",
        "      <td> 12292.49</td>\n",
        "      <td> 12381.26</td>\n",
        "      <td> 3255580000</td>\n",
        "      <td> 12381.26</td>\n",
        "    </tr>\n",
        "    <tr>\n",
        "      <th>3</th>\n",
        "      <td>2011-05-20</td>\n",
        "      <td> 12604.64</td>\n",
        "      <td> 12630.11</td>\n",
        "      <td> 12453.96</td>\n",
        "      <td> 12512.04</td>\n",
        "      <td> 4066020000</td>\n",
        "      <td> 12512.04</td>\n",
        "    </tr>\n",
        "    <tr>\n",
        "      <th>4</th>\n",
        "      <td>2011-05-19</td>\n",
        "      <td> 12561.46</td>\n",
        "      <td> 12673.78</td>\n",
        "      <td> 12506.67</td>\n",
        "      <td> 12605.32</td>\n",
        "      <td> 3626110000</td>\n",
        "      <td> 12605.32</td>\n",
        "    </tr>\n",
        "  </tbody>\n",
        "</table>\n",
        "</div>"
       ],
       "metadata": {},
       "output_type": "pyout",
       "prompt_number": 158,
       "text": [
        "        Date      Open      High       Low     Close      Volume  Adj Close\n",
        "0 2011-05-25  12355.45  12462.28  12271.90  12394.66  4109670000   12394.66\n",
        "1 2011-05-24  12381.87  12465.80  12315.42  12356.21  3846250000   12356.21\n",
        "2 2011-05-23  12511.29  12511.29  12292.49  12381.26  3255580000   12381.26\n",
        "3 2011-05-20  12604.64  12630.11  12453.96  12512.04  4066020000   12512.04\n",
        "4 2011-05-19  12561.46  12673.78  12506.67  12605.32  3626110000   12605.32"
       ]
      }
     ],
     "prompt_number": 158
    },
    {
     "cell_type": "code",
     "collapsed": false,
     "input": [
      "scatter()"
     ],
     "language": "python",
     "metadata": {},
     "outputs": [
      {
       "html": [
        "<div style=\"max-height:1000px;max-width:1500px;overflow:auto;\">\n",
        "<table border=\"1\" class=\"dataframe\">\n",
        "  <thead>\n",
        "    <tr style=\"text-align: right;\">\n",
        "      <th></th>\n",
        "      <th>Date</th>\n",
        "      <th>Open</th>\n",
        "      <th>High</th>\n",
        "      <th>Low</th>\n",
        "      <th>Close</th>\n",
        "      <th>Volume</th>\n",
        "      <th>Adj Close</th>\n",
        "    </tr>\n",
        "  </thead>\n",
        "  <tbody>\n",
        "    <tr>\n",
        "      <th>2362</th>\n",
        "      <td>2002-01-08</td>\n",
        "      <td> 10195.76</td>\n",
        "      <td> 10270.53</td>\n",
        "      <td> 10063.43</td>\n",
        "      <td> 10150.55</td>\n",
        "      <td> 1258800000</td>\n",
        "      <td> 10150.55</td>\n",
        "    </tr>\n",
        "    <tr>\n",
        "      <th>2363</th>\n",
        "      <td>2002-01-07</td>\n",
        "      <td> 10261.33</td>\n",
        "      <td> 10345.40</td>\n",
        "      <td> 10137.61</td>\n",
        "      <td> 10197.05</td>\n",
        "      <td> 1308300000</td>\n",
        "      <td> 10197.05</td>\n",
        "    </tr>\n",
        "    <tr>\n",
        "      <th>2364</th>\n",
        "      <td>2002-01-04</td>\n",
        "      <td> 10176.84</td>\n",
        "      <td> 10341.87</td>\n",
        "      <td> 10132.14</td>\n",
        "      <td> 10259.74</td>\n",
        "      <td> 1513000000</td>\n",
        "      <td> 10259.74</td>\n",
        "    </tr>\n",
        "    <tr>\n",
        "      <th>2365</th>\n",
        "      <td>2002-01-03</td>\n",
        "      <td> 10073.88</td>\n",
        "      <td> 10227.36</td>\n",
        "      <td> 10002.54</td>\n",
        "      <td> 10172.14</td>\n",
        "      <td> 1398900000</td>\n",
        "      <td> 10172.14</td>\n",
        "    </tr>\n",
        "    <tr>\n",
        "      <th>2366</th>\n",
        "      <td>2002-01-02</td>\n",
        "      <td> 10021.71</td>\n",
        "      <td> 10125.85</td>\n",
        "      <td>  9889.69</td>\n",
        "      <td> 10073.40</td>\n",
        "      <td> 1171000000</td>\n",
        "      <td> 10073.40</td>\n",
        "    </tr>\n",
        "  </tbody>\n",
        "</table>\n",
        "</div>"
       ],
       "metadata": {},
       "output_type": "pyout",
       "prompt_number": 159,
       "text": [
        "           Date      Open      High       Low     Close      Volume  Adj Close\n",
        "2362 2002-01-08  10195.76  10270.53  10063.43  10150.55  1258800000   10150.55\n",
        "2363 2002-01-07  10261.33  10345.40  10137.61  10197.05  1308300000   10197.05\n",
        "2364 2002-01-04  10176.84  10341.87  10132.14  10259.74  1513000000   10259.74\n",
        "2365 2002-01-03  10073.88  10227.36  10002.54  10172.14  1398900000   10172.14\n",
        "2366 2002-01-02  10021.71  10125.85   9889.69  10073.40  1171000000   10073.40"
       ]
      }
     ],
     "prompt_number": 159
    },
    {
     "cell_type": "code",
     "collapsed": false,
     "input": [
      "market_index = pca.fit_transform(date_stock_matrix.iloc[:,2:])[:,1]"
     ],
     "language": "python",
     "metadata": {},
     "outputs": [
      {
       "ename": "TypeError",
       "evalue": "'PCA' object has no attribute '__getitem__'",
       "output_type": "pyerr",
       "traceback": [
        "\u001b[0;31m---------------------------------------------------------------------------\u001b[0m\n\u001b[0;31mTypeError\u001b[0m                                 Traceback (most recent call last)",
        "\u001b[0;32m<ipython-input-316-d03e9e215047>\u001b[0m in \u001b[0;36m<module>\u001b[0;34m()\u001b[0m\n\u001b[0;32m----> 1\u001b[0;31m \u001b[0mmarket_index\u001b[0m \u001b[0;34m=\u001b[0m \u001b[0mpca\u001b[0m\u001b[0;34m.\u001b[0m\u001b[0mfit\u001b[0m\u001b[0;34m(\u001b[0m\u001b[0mdate_stock_matrix\u001b[0m\u001b[0;34m.\u001b[0m\u001b[0miloc\u001b[0m\u001b[0;34m[\u001b[0m\u001b[0;34m:\u001b[0m\u001b[0;34m,\u001b[0m\u001b[0;36m2\u001b[0m\u001b[0;34m:\u001b[0m\u001b[0;34m]\u001b[0m\u001b[0;34m)\u001b[0m\u001b[0;34m[\u001b[0m\u001b[0;34m:\u001b[0m\u001b[0;34m,\u001b[0m\u001b[0;36m1\u001b[0m\u001b[0;34m]\u001b[0m\u001b[0;34m\u001b[0m\u001b[0m\n\u001b[0m",
        "\u001b[0;31mTypeError\u001b[0m: 'PCA' object has no attribute '__getitem__'"
       ]
      }
     ],
     "prompt_number": 316
    },
    {
     "cell_type": "code",
     "collapsed": false,
     "input": [
      "from matplotlib.mlab import PCA"
     ],
     "language": "python",
     "metadata": {},
     "outputs": [],
     "prompt_number": 230
    },
    {
     "cell_type": "code",
     "collapsed": false,
     "input": [
      "results = PCA(date_stock_matrix.iloc[:,2:])\n",
      "len(results.a.values[:,0])"
     ],
     "language": "python",
     "metadata": {},
     "outputs": [
      {
       "metadata": {},
       "output_type": "pyout",
       "prompt_number": 325,
       "text": [
        "2366"
       ]
      }
     ],
     "prompt_number": 325
    },
    {
     "cell_type": "code",
     "collapsed": false,
     "input": [
      "loadings = results.Wt[0]\n",
      "pd.DataFrame(loadings).plot(kind='kde')\n",
      "xlim(-.4,.2)\n",
      "# max(loadings)"
     ],
     "language": "python",
     "metadata": {},
     "outputs": [
      {
       "metadata": {},
       "output_type": "pyout",
       "prompt_number": 308,
       "text": [
        "(-0.4, 0.2)"
       ]
      },
      {
       "metadata": {},
       "output_type": "display_data",
       "png": "[encoded data removed]",
       "text": [
        "<matplotlib.figure.Figure at 0x110356a50>"
       ]
      }
     ],
     "prompt_number": 308
    },
    {
     "cell_type": "code",
     "collapsed": false,
     "input": [
      "principal_component = results.Wt[:,0]\n",
      "pd.DataFrame(principal_component).plot(kind='kde')"
     ],
     "language": "python",
     "metadata": {},
     "outputs": [
      {
       "metadata": {},
       "output_type": "pyout",
       "prompt_number": 342,
       "text": [
        "<matplotlib.axes._subplots.AxesSubplot at 0x110e21c50>"
       ]
      },
      {
       "metadata": {},
       "output_type": "display_data",
       "png": "[encoded data removed]",
       "text": [
        "<matplotlib.figure.Figure at 0x110e22b10>"
       ]
      }
     ],
     "prompt_number": 342
    },
    {
     "cell_type": "code",
     "collapsed": false,
     "input": [
      "plt.scatter(results.a.values[:,0],dji.sort('Date',ascending=True)['Close'])"
     ],
     "language": "python",
     "metadata": {},
     "outputs": [
      {
       "metadata": {},
       "output_type": "pyout",
       "prompt_number": 341,
       "text": [
        "<matplotlib.collections.PathCollection at 0x110ffc610>"
       ]
      },
      {
       "metadata": {},
       "output_type": "display_data",
       "png": "[encoded data removed]",
       "text": [
        "<matplotlib.figure.Figure at 0x10e82a810>"
       ]
      }
     ],
     "prompt_number": 341
    }
   ],
   "metadata": {}
  }
 ]
}