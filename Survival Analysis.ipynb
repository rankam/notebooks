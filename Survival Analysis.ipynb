{
 "metadata": {
  "name": "",
  "signature": "sha256:0c095283e6bc8238e0d2235a708723012b70974ba8f0ab7660b7392784036854"
 },
 "nbformat": 3,
 "nbformat_minor": 0,
 "worksheets": [
  {
   "cells": [
    {
     "cell_type": "code",
     "collapsed": false,
     "input": [
      "%pylab inline\n",
      "figsize(12,8)\n",
      "import numpy as np\n",
      "from sklearn import linear_model\n",
      "import pandas as pd\n",
      "import psycopg2\n",
      "import matplotlib.pyplot as plt\n",
      "import matplotlib.dates as mdates\n",
      "import datetime\n",
      "from matplotlib import dates\n",
      "plt.style.use('bmh')"
     ],
     "language": "python",
     "metadata": {},
     "outputs": [
      {
       "output_type": "stream",
       "stream": "stdout",
       "text": [
        "Populating the interactive namespace from numpy and matplotlib\n"
       ]
      },
      {
       "output_type": "stream",
       "stream": "stderr",
       "text": [
        "WARNING: pylab import has clobbered these variables: ['clf']\n",
        "`%matplotlib` prevents importing * from pylab and numpy\n"
       ]
      }
     ],
     "prompt_number": 41
    },
    {
     "cell_type": "code",
     "collapsed": false,
     "input": [
      "data = pd.read_csv('/users/aaronrank/dropbox/nba_draft_na.csv')"
     ],
     "language": "python",
     "metadata": {},
     "outputs": [],
     "prompt_number": 212
    },
    {
     "cell_type": "code",
     "collapsed": false,
     "input": [
      "data.head()"
     ],
     "language": "python",
     "metadata": {},
     "outputs": [
      {
       "html": [
        "<div style=\"max-height:1000px;max-width:1500px;overflow:auto;\">\n",
        "<table border=\"1\" class=\"dataframe\">\n",
        "  <thead>\n",
        "    <tr style=\"text-align: right;\">\n",
        "      <th></th>\n",
        "      <th>Player</th>\n",
        "      <th>hall_of_fame</th>\n",
        "      <th>rookie_season</th>\n",
        "      <th>final_season</th>\n",
        "      <th>active</th>\n",
        "      <th>Pos</th>\n",
        "      <th>weight</th>\n",
        "      <th>birthday</th>\n",
        "      <th>College</th>\n",
        "    </tr>\n",
        "  </thead>\n",
        "  <tbody>\n",
        "    <tr>\n",
        "      <th>0</th>\n",
        "      <td>         Norm Baker</td>\n",
        "      <td> 0</td>\n",
        "      <td> 1947</td>\n",
        "      <td> 1947</td>\n",
        "      <td> 0</td>\n",
        "      <td>   G</td>\n",
        "      <td> 180</td>\n",
        "      <td> February 17 1923</td>\n",
        "      <td>                           NaN</td>\n",
        "    </tr>\n",
        "    <tr>\n",
        "      <th>1</th>\n",
        "      <td> Herschel Baltimore</td>\n",
        "      <td> 0</td>\n",
        "      <td> 1947</td>\n",
        "      <td> 1947</td>\n",
        "      <td> 0</td>\n",
        "      <td>   F</td>\n",
        "      <td> 195</td>\n",
        "      <td>     June 21 1921</td>\n",
        "      <td> Pennsylvania State University</td>\n",
        "    </tr>\n",
        "    <tr>\n",
        "      <th>2</th>\n",
        "      <td>          John Barr</td>\n",
        "      <td> 0</td>\n",
        "      <td> 1947</td>\n",
        "      <td> 1947</td>\n",
        "      <td> 0</td>\n",
        "      <td>   F</td>\n",
        "      <td> 205</td>\n",
        "      <td>    August 8 1918</td>\n",
        "      <td> Pennsylvania State University</td>\n",
        "    </tr>\n",
        "    <tr>\n",
        "      <th>3</th>\n",
        "      <td>  Frankie Baumholtz</td>\n",
        "      <td> 0</td>\n",
        "      <td> 1947</td>\n",
        "      <td> 1947</td>\n",
        "      <td> 0</td>\n",
        "      <td>   G</td>\n",
        "      <td> 170</td>\n",
        "      <td>   October 7 1918</td>\n",
        "      <td>               Ohio University</td>\n",
        "    </tr>\n",
        "    <tr>\n",
        "      <th>4</th>\n",
        "      <td>         Moe Becker</td>\n",
        "      <td> 0</td>\n",
        "      <td> 1947</td>\n",
        "      <td> 1947</td>\n",
        "      <td> 0</td>\n",
        "      <td> G-F</td>\n",
        "      <td> 185</td>\n",
        "      <td> February 24 1917</td>\n",
        "      <td>           Duquesne University</td>\n",
        "    </tr>\n",
        "  </tbody>\n",
        "</table>\n",
        "</div>"
       ],
       "metadata": {},
       "output_type": "pyout",
       "prompt_number": 213,
       "text": [
        "               Player  hall_of_fame  rookie_season  final_season  active  Pos  \\\n",
        "0          Norm Baker             0           1947          1947       0    G   \n",
        "1  Herschel Baltimore             0           1947          1947       0    F   \n",
        "2           John Barr             0           1947          1947       0    F   \n",
        "3   Frankie Baumholtz             0           1947          1947       0    G   \n",
        "4          Moe Becker             0           1947          1947       0  G-F   \n",
        "\n",
        "   weight          birthday                        College  \n",
        "0     180  February 17 1923                            NaN  \n",
        "1     195      June 21 1921  Pennsylvania State University  \n",
        "2     205     August 8 1918  Pennsylvania State University  \n",
        "3     170    October 7 1918                Ohio University  \n",
        "4     185  February 24 1917            Duquesne University  "
       ]
      }
     ],
     "prompt_number": 213
    },
    {
     "cell_type": "code",
     "collapsed": false,
     "input": [
      "def add_m_d(dataframe,column):\n",
      "    dataframe[column] = dataframe[column].astype('str') + '-01-01'\n",
      "    return dataframe\n",
      "\n",
      "data['rookie_season'] = data['rookie_season'].astype('str') + '-01-01'\n",
      "data['final_season'] = data['final_season'].astype('str') + '-01-01'\n",
      "\n",
      "for i,x in enumerate(data['final_season']):\n",
      "    data['final_season'][i] = data['final_season'][i].replace('.0','')\n",
      "    if data['final_season'][i] == 'nan-01-01':\n",
      "        data['final_season'][i] = np.nan"
     ],
     "language": "python",
     "metadata": {},
     "outputs": [],
     "prompt_number": 214
    },
    {
     "cell_type": "code",
     "collapsed": false,
     "input": [
      "from lifelines.utils import datetimes_to_durations\n",
      "import datetime"
     ],
     "language": "python",
     "metadata": {},
     "outputs": [],
     "prompt_number": 47
    },
    {
     "cell_type": "code",
     "collapsed": false,
     "input": [
      "T,E = datetimes_to_durations(data['rookie_season'],data['final_season'], freq=\"Y\")"
     ],
     "language": "python",
     "metadata": {},
     "outputs": [],
     "prompt_number": 215
    },
    {
     "cell_type": "code",
     "collapsed": false,
     "input": [
      "from lifelines import KaplanMeierFitter"
     ],
     "language": "python",
     "metadata": {},
     "outputs": [],
     "prompt_number": 88
    },
    {
     "cell_type": "code",
     "collapsed": false,
     "input": [
      "kmf = KaplanMeierFitter()\n",
      "kmf.fit(T, event_observed=E)"
     ],
     "language": "python",
     "metadata": {},
     "outputs": [
      {
       "metadata": {},
       "output_type": "pyout",
       "prompt_number": 217,
       "text": [
        "<lifelines.KaplanMeierFitter: fitted with 3913 observations, 452 censored>"
       ]
      }
     ],
     "prompt_number": 217
    },
    {
     "cell_type": "code",
     "collapsed": false,
     "input": [
      "plt.style.use('bmh')\n",
      "kmf.plot()"
     ],
     "language": "python",
     "metadata": {},
     "outputs": [
      {
       "metadata": {},
       "output_type": "pyout",
       "prompt_number": 220,
       "text": [
        "<matplotlib.axes._subplots.AxesSubplot at 0x112b4af10>"
       ]
      },
      {
       "metadata": {},
       "output_type": "display_data",
       "png": "[encoded data removed]",
       "text": [
        "<matplotlib.figure.Figure at 0x11240af10>"
       ]
      }
     ],
     "prompt_number": 220
    },
    {
     "cell_type": "code",
     "collapsed": false,
     "input": [
      "kmf.median_"
     ],
     "language": "python",
     "metadata": {},
     "outputs": [
      {
       "metadata": {},
       "output_type": "pyout",
       "prompt_number": 222,
       "text": [
        "KM-estimate    3\n",
        "dtype: float64"
       ]
      }
     ],
     "prompt_number": 222
    },
    {
     "cell_type": "code",
     "collapsed": false,
     "input": [
      "kmf.survival_function_.sum()"
     ],
     "language": "python",
     "metadata": {},
     "outputs": [
      {
       "metadata": {},
       "output_type": "pyout",
       "prompt_number": 224,
       "text": [
        "KM-estimate    4.455784\n",
        "dtype: float64"
       ]
      }
     ],
     "prompt_number": 224
    },
    {
     "cell_type": "code",
     "collapsed": false,
     "input": [
      "from lifelines import NelsonAalenFitter"
     ],
     "language": "python",
     "metadata": {},
     "outputs": [],
     "prompt_number": 225
    },
    {
     "cell_type": "code",
     "collapsed": false,
     "input": [
      "naf = NelsonAalenFitter()\n",
      "naf.fit(T,E)"
     ],
     "language": "python",
     "metadata": {},
     "outputs": [
      {
       "metadata": {},
       "output_type": "pyout",
       "prompt_number": 227,
       "text": [
        "<lifelines.NelsonAalenFitter: fitted with 3913 observations, 452 censored>"
       ]
      }
     ],
     "prompt_number": 227
    },
    {
     "cell_type": "code",
     "collapsed": false,
     "input": [
      "naf.cumulative_hazard_"
     ],
     "language": "python",
     "metadata": {},
     "outputs": [
      {
       "html": [
        "<div style=\"max-height:1000px;max-width:1500px;overflow:auto;\">\n",
        "<table border=\"1\" class=\"dataframe\">\n",
        "  <thead>\n",
        "    <tr style=\"text-align: right;\">\n",
        "      <th></th>\n",
        "      <th>NA-estimate</th>\n",
        "    </tr>\n",
        "    <tr>\n",
        "      <th>timeline</th>\n",
        "      <th></th>\n",
        "    </tr>\n",
        "  </thead>\n",
        "  <tbody>\n",
        "    <tr>\n",
        "      <th>0 </th>\n",
        "      <td> 0.433253</td>\n",
        "    </tr>\n",
        "    <tr>\n",
        "      <th>1 </th>\n",
        "      <td> 0.545552</td>\n",
        "    </tr>\n",
        "    <tr>\n",
        "      <th>2 </th>\n",
        "      <td> 0.653326</td>\n",
        "    </tr>\n",
        "    <tr>\n",
        "      <th>3 </th>\n",
        "      <td> 0.744678</td>\n",
        "    </tr>\n",
        "    <tr>\n",
        "      <th>4 </th>\n",
        "      <td> 0.934729</td>\n",
        "    </tr>\n",
        "    <tr>\n",
        "      <th>5 </th>\n",
        "      <td> 1.027711</td>\n",
        "    </tr>\n",
        "    <tr>\n",
        "      <th>6 </th>\n",
        "      <td> 1.123981</td>\n",
        "    </tr>\n",
        "    <tr>\n",
        "      <th>7 </th>\n",
        "      <td> 1.230021</td>\n",
        "    </tr>\n",
        "    <tr>\n",
        "      <th>8 </th>\n",
        "      <td> 1.526471</td>\n",
        "    </tr>\n",
        "    <tr>\n",
        "      <th>9 </th>\n",
        "      <td> 1.703839</td>\n",
        "    </tr>\n",
        "    <tr>\n",
        "      <th>10</th>\n",
        "      <td> 1.913278</td>\n",
        "    </tr>\n",
        "    <tr>\n",
        "      <th>11</th>\n",
        "      <td> 2.134308</td>\n",
        "    </tr>\n",
        "    <tr>\n",
        "      <th>12</th>\n",
        "      <td> 2.777253</td>\n",
        "    </tr>\n",
        "    <tr>\n",
        "      <th>13</th>\n",
        "      <td> 3.068176</td>\n",
        "    </tr>\n",
        "    <tr>\n",
        "      <th>14</th>\n",
        "      <td> 3.360390</td>\n",
        "    </tr>\n",
        "    <tr>\n",
        "      <th>15</th>\n",
        "      <td> 3.575498</td>\n",
        "    </tr>\n",
        "    <tr>\n",
        "      <th>16</th>\n",
        "      <td> 4.277653</td>\n",
        "    </tr>\n",
        "    <tr>\n",
        "      <th>17</th>\n",
        "      <td> 4.813844</td>\n",
        "    </tr>\n",
        "    <tr>\n",
        "      <th>18</th>\n",
        "      <td> 5.292812</td>\n",
        "    </tr>\n",
        "    <tr>\n",
        "      <th>19</th>\n",
        "      <td> 5.742812</td>\n",
        "    </tr>\n",
        "    <tr>\n",
        "      <th>20</th>\n",
        "      <td> 6.576146</td>\n",
        "    </tr>\n",
        "    <tr>\n",
        "      <th>21</th>\n",
        "      <td> 7.576146</td>\n",
        "    </tr>\n",
        "  </tbody>\n",
        "</table>\n",
        "</div>"
       ],
       "metadata": {},
       "output_type": "pyout",
       "prompt_number": 228,
       "text": [
        "          NA-estimate\n",
        "timeline             \n",
        "0            0.433253\n",
        "1            0.545552\n",
        "2            0.653326\n",
        "3            0.744678\n",
        "4            0.934729\n",
        "5            1.027711\n",
        "6            1.123981\n",
        "7            1.230021\n",
        "8            1.526471\n",
        "9            1.703839\n",
        "10           1.913278\n",
        "11           2.134308\n",
        "12           2.777253\n",
        "13           3.068176\n",
        "14           3.360390\n",
        "15           3.575498\n",
        "16           4.277653\n",
        "17           4.813844\n",
        "18           5.292812\n",
        "19           5.742812\n",
        "20           6.576146\n",
        "21           7.576146"
       ]
      }
     ],
     "prompt_number": 228
    },
    {
     "cell_type": "code",
     "collapsed": false,
     "input": [
      "naf.plot()"
     ],
     "language": "python",
     "metadata": {},
     "outputs": [
      {
       "metadata": {},
       "output_type": "pyout",
       "prompt_number": 229,
       "text": [
        "<matplotlib.axes._subplots.AxesSubplot at 0x1132fff10>"
       ]
      },
      {
       "metadata": {},
       "output_type": "display_data",
       "png": "[encoded data removed]",
       "text": [
        "<matplotlib.figure.Figure at 0x1132ffbd0>"
       ]
      }
     ],
     "prompt_number": 229
    },
    {
     "cell_type": "code",
     "collapsed": false,
     "input": [
      "ax = naf.plot_hazard(bandwidth=5)\n",
      "ax = naf.plot_hazard(bandwidth=1,ax=ax)"
     ],
     "language": "python",
     "metadata": {},
     "outputs": [
      {
       "metadata": {},
       "output_type": "display_data",
       "png": "[encoded data removed]",
       "text": [
        "<matplotlib.figure.Figure at 0x1122578d0>"
       ]
      }
     ],
     "prompt_number": 235
    },
    {
     "cell_type": "code",
     "collapsed": false,
     "input": [
      "data.head()\n"
     ],
     "language": "python",
     "metadata": {},
     "outputs": [
      {
       "html": [
        "<div style=\"max-height:1000px;max-width:1500px;overflow:auto;\">\n",
        "<table border=\"1\" class=\"dataframe\">\n",
        "  <thead>\n",
        "    <tr style=\"text-align: right;\">\n",
        "      <th></th>\n",
        "      <th>Player</th>\n",
        "      <th>hall_of_fame</th>\n",
        "      <th>rookie_season</th>\n",
        "      <th>final_season</th>\n",
        "      <th>active</th>\n",
        "      <th>Pos</th>\n",
        "      <th>weight</th>\n",
        "      <th>birthday</th>\n",
        "      <th>College</th>\n",
        "    </tr>\n",
        "  </thead>\n",
        "  <tbody>\n",
        "    <tr>\n",
        "      <th>0</th>\n",
        "      <td>         Norm Baker</td>\n",
        "      <td> 0</td>\n",
        "      <td> 1947-01-01</td>\n",
        "      <td> 1947-01-01</td>\n",
        "      <td> 0</td>\n",
        "      <td>   G</td>\n",
        "      <td> 180</td>\n",
        "      <td> February 17 1923</td>\n",
        "      <td>                           NaN</td>\n",
        "    </tr>\n",
        "    <tr>\n",
        "      <th>1</th>\n",
        "      <td> Herschel Baltimore</td>\n",
        "      <td> 0</td>\n",
        "      <td> 1947-01-01</td>\n",
        "      <td> 1947-01-01</td>\n",
        "      <td> 0</td>\n",
        "      <td>   F</td>\n",
        "      <td> 195</td>\n",
        "      <td>     June 21 1921</td>\n",
        "      <td> Pennsylvania State University</td>\n",
        "    </tr>\n",
        "    <tr>\n",
        "      <th>2</th>\n",
        "      <td>          John Barr</td>\n",
        "      <td> 0</td>\n",
        "      <td> 1947-01-01</td>\n",
        "      <td> 1947-01-01</td>\n",
        "      <td> 0</td>\n",
        "      <td>   F</td>\n",
        "      <td> 205</td>\n",
        "      <td>    August 8 1918</td>\n",
        "      <td> Pennsylvania State University</td>\n",
        "    </tr>\n",
        "    <tr>\n",
        "      <th>3</th>\n",
        "      <td>  Frankie Baumholtz</td>\n",
        "      <td> 0</td>\n",
        "      <td> 1947-01-01</td>\n",
        "      <td> 1947-01-01</td>\n",
        "      <td> 0</td>\n",
        "      <td>   G</td>\n",
        "      <td> 170</td>\n",
        "      <td>   October 7 1918</td>\n",
        "      <td>               Ohio University</td>\n",
        "    </tr>\n",
        "    <tr>\n",
        "      <th>4</th>\n",
        "      <td>         Moe Becker</td>\n",
        "      <td> 0</td>\n",
        "      <td> 1947-01-01</td>\n",
        "      <td> 1947-01-01</td>\n",
        "      <td> 0</td>\n",
        "      <td> G-F</td>\n",
        "      <td> 185</td>\n",
        "      <td> February 24 1917</td>\n",
        "      <td>           Duquesne University</td>\n",
        "    </tr>\n",
        "  </tbody>\n",
        "</table>\n",
        "</div>"
       ],
       "metadata": {},
       "output_type": "pyout",
       "prompt_number": 236,
       "text": [
        "               Player  hall_of_fame rookie_season final_season  active  Pos  \\\n",
        "0          Norm Baker             0    1947-01-01   1947-01-01       0    G   \n",
        "1  Herschel Baltimore             0    1947-01-01   1947-01-01       0    F   \n",
        "2           John Barr             0    1947-01-01   1947-01-01       0    F   \n",
        "3   Frankie Baumholtz             0    1947-01-01   1947-01-01       0    G   \n",
        "4          Moe Becker             0    1947-01-01   1947-01-01       0  G-F   \n",
        "\n",
        "   weight          birthday                        College  \n",
        "0     180  February 17 1923                            NaN  \n",
        "1     195      June 21 1921  Pennsylvania State University  \n",
        "2     205     August 8 1918  Pennsylvania State University  \n",
        "3     170    October 7 1918                Ohio University  \n",
        "4     185  February 24 1917            Duquesne University  "
       ]
      }
     ],
     "prompt_number": 236
    }
   ],
   "metadata": {}
  }
 ]
}