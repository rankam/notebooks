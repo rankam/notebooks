{
 "metadata": {
  "name": "",
  "signature": "sha256:fba6abea412002c208d7f5cb460a487bdb0dd704ef0cb1b5c5faebe374fd31c4"
 },
 "nbformat": 3,
 "nbformat_minor": 0,
 "worksheets": [
  {
   "cells": [
    {
     "cell_type": "markdown",
     "metadata": {},
     "source": [
      "## Principle Components Analysis - The Good Bits\n",
      "\n",
      "- What is PCA doing to my data? \n",
      "- How can I compute PCA?\n",
      "- Why might I need it?\n",
      "\n"
     ]
    },
    {
     "cell_type": "markdown",
     "metadata": {},
     "source": [
      "![pearson](http://www.swlearning.com/quant/kohler/stat/biographical_sketches/Pearson.jpeg)"
     ]
    },
    {
     "cell_type": "code",
     "collapsed": false,
     "input": [
      "%pylab inline\n",
      "figsize(12,8)"
     ],
     "language": "python",
     "metadata": {},
     "outputs": [
      {
       "output_type": "stream",
       "stream": "stdout",
       "text": [
        "Populating the interactive namespace from numpy and matplotlib\n"
       ]
      }
     ],
     "prompt_number": 1
    },
    {
     "cell_type": "code",
     "collapsed": false,
     "input": [
      "from mpl_toolkits.mplot3d import Axes3D\n",
      "\n",
      "N = 60\n",
      "data = np.random.uniform([0.5,0.5,0.5], [1,1,1], size=(N,3))\n",
      "\n",
      "fig = plt.figure()\n",
      "ax = fig.add_subplot(111, projection='3d')\n",
      "ax.scatter(data[:,0], data[:,1], data[:,2],\n",
      "           c = '#A60628', s=50 )\n",
      "ax.set_xlim3d(0.4,1.1)\n",
      "ax.set_ylim3d(0.4,1.1)\n",
      "ax.set_zlim3d(0.4,1.1)\n",
      "plt.show()"
     ],
     "language": "python",
     "metadata": {},
     "outputs": [
      {
       "ename": "AttributeError",
       "evalue": "'module' object has no attribute '_string_to_bool'",
       "output_type": "pyerr",
       "traceback": [
        "\u001b[0;31m---------------------------------------------------------------------------\u001b[0m\n\u001b[0;31mAttributeError\u001b[0m                            Traceback (most recent call last)",
        "\u001b[0;32m<ipython-input-2-872ca4825658>\u001b[0m in \u001b[0;36m<module>\u001b[0;34m()\u001b[0m\n\u001b[1;32m      5\u001b[0m \u001b[0;34m\u001b[0m\u001b[0m\n\u001b[1;32m      6\u001b[0m \u001b[0mfig\u001b[0m \u001b[0;34m=\u001b[0m \u001b[0mplt\u001b[0m\u001b[0;34m.\u001b[0m\u001b[0mfigure\u001b[0m\u001b[0;34m(\u001b[0m\u001b[0;34m)\u001b[0m\u001b[0;34m\u001b[0m\u001b[0m\n\u001b[0;32m----> 7\u001b[0;31m \u001b[0max\u001b[0m \u001b[0;34m=\u001b[0m \u001b[0mfig\u001b[0m\u001b[0;34m.\u001b[0m\u001b[0madd_subplot\u001b[0m\u001b[0;34m(\u001b[0m\u001b[0;36m111\u001b[0m\u001b[0;34m,\u001b[0m \u001b[0mprojection\u001b[0m\u001b[0;34m=\u001b[0m\u001b[0;34m'3d'\u001b[0m\u001b[0;34m)\u001b[0m\u001b[0;34m\u001b[0m\u001b[0m\n\u001b[0m\u001b[1;32m      8\u001b[0m ax.scatter(data[:,0], data[:,1], data[:,2],\n\u001b[1;32m      9\u001b[0m            c = '#A60628', s=50 )\n",
        "\u001b[0;32m/Library/Python/2.7/site-packages/matplotlib-1.4.x-py2.7-macosx-10.9-intel.egg/matplotlib/figure.pyc\u001b[0m in \u001b[0;36madd_subplot\u001b[0;34m(self, *args, **kwargs)\u001b[0m\n\u001b[1;32m    956\u001b[0m                     \u001b[0mself\u001b[0m\u001b[0;34m.\u001b[0m\u001b[0m_axstack\u001b[0m\u001b[0;34m.\u001b[0m\u001b[0mremove\u001b[0m\u001b[0;34m(\u001b[0m\u001b[0max\u001b[0m\u001b[0;34m)\u001b[0m\u001b[0;34m\u001b[0m\u001b[0m\n\u001b[1;32m    957\u001b[0m \u001b[0;34m\u001b[0m\u001b[0m\n\u001b[0;32m--> 958\u001b[0;31m             \u001b[0ma\u001b[0m \u001b[0;34m=\u001b[0m \u001b[0msubplot_class_factory\u001b[0m\u001b[0;34m(\u001b[0m\u001b[0mprojection_class\u001b[0m\u001b[0;34m)\u001b[0m\u001b[0;34m(\u001b[0m\u001b[0mself\u001b[0m\u001b[0;34m,\u001b[0m \u001b[0;34m*\u001b[0m\u001b[0margs\u001b[0m\u001b[0;34m,\u001b[0m \u001b[0;34m**\u001b[0m\u001b[0mkwargs\u001b[0m\u001b[0;34m)\u001b[0m\u001b[0;34m\u001b[0m\u001b[0m\n\u001b[0m\u001b[1;32m    959\u001b[0m \u001b[0;34m\u001b[0m\u001b[0m\n\u001b[1;32m    960\u001b[0m         \u001b[0mself\u001b[0m\u001b[0;34m.\u001b[0m\u001b[0m_axstack\u001b[0m\u001b[0;34m.\u001b[0m\u001b[0madd\u001b[0m\u001b[0;34m(\u001b[0m\u001b[0mkey\u001b[0m\u001b[0;34m,\u001b[0m \u001b[0ma\u001b[0m\u001b[0;34m)\u001b[0m\u001b[0;34m\u001b[0m\u001b[0m\n",
        "\u001b[0;32m/Library/Python/2.7/site-packages/matplotlib-1.4.x-py2.7-macosx-10.9-intel.egg/matplotlib/axes/_subplots.pyc\u001b[0m in \u001b[0;36m__init__\u001b[0;34m(self, fig, *args, **kwargs)\u001b[0m\n\u001b[1;32m     76\u001b[0m \u001b[0;34m\u001b[0m\u001b[0m\n\u001b[1;32m     77\u001b[0m         \u001b[0;31m# _axes_class is set in the subplot_class_factory\u001b[0m\u001b[0;34m\u001b[0m\u001b[0;34m\u001b[0m\u001b[0m\n\u001b[0;32m---> 78\u001b[0;31m         \u001b[0mself\u001b[0m\u001b[0;34m.\u001b[0m\u001b[0m_axes_class\u001b[0m\u001b[0;34m.\u001b[0m\u001b[0m__init__\u001b[0m\u001b[0;34m(\u001b[0m\u001b[0mself\u001b[0m\u001b[0;34m,\u001b[0m \u001b[0mfig\u001b[0m\u001b[0;34m,\u001b[0m \u001b[0mself\u001b[0m\u001b[0;34m.\u001b[0m\u001b[0mfigbox\u001b[0m\u001b[0;34m,\u001b[0m \u001b[0;34m**\u001b[0m\u001b[0mkwargs\u001b[0m\u001b[0;34m)\u001b[0m\u001b[0;34m\u001b[0m\u001b[0m\n\u001b[0m\u001b[1;32m     79\u001b[0m \u001b[0;34m\u001b[0m\u001b[0m\n\u001b[1;32m     80\u001b[0m     \u001b[0;32mdef\u001b[0m \u001b[0m__reduce__\u001b[0m\u001b[0;34m(\u001b[0m\u001b[0mself\u001b[0m\u001b[0;34m)\u001b[0m\u001b[0;34m:\u001b[0m\u001b[0;34m\u001b[0m\u001b[0m\n",
        "\u001b[0;32m/Library/Python/2.7/site-packages/mpl_toolkits/mplot3d/axes3d.pyc\u001b[0m in \u001b[0;36m__init__\u001b[0;34m(self, fig, rect, *args, **kwargs)\u001b[0m\n\u001b[1;32m     89\u001b[0m         Axes.__init__(self, fig, rect,\n\u001b[1;32m     90\u001b[0m                       \u001b[0mframeon\u001b[0m\u001b[0;34m=\u001b[0m\u001b[0mTrue\u001b[0m\u001b[0;34m,\u001b[0m\u001b[0;34m\u001b[0m\u001b[0m\n\u001b[0;32m---> 91\u001b[0;31m                       *args, **kwargs)\n\u001b[0m\u001b[1;32m     92\u001b[0m         \u001b[0;31m# Disable drawing of axes by base class\u001b[0m\u001b[0;34m\u001b[0m\u001b[0;34m\u001b[0m\u001b[0m\n\u001b[1;32m     93\u001b[0m         \u001b[0mAxes\u001b[0m\u001b[0;34m.\u001b[0m\u001b[0mset_axis_off\u001b[0m\u001b[0;34m(\u001b[0m\u001b[0mself\u001b[0m\u001b[0;34m)\u001b[0m\u001b[0;34m\u001b[0m\u001b[0m\n",
        "\u001b[0;32m/Library/Python/2.7/site-packages/matplotlib-1.4.x-py2.7-macosx-10.9-intel.egg/matplotlib/axes/_base.pyc\u001b[0m in \u001b[0;36m__init__\u001b[0;34m(self, fig, rect, axisbg, frameon, sharex, sharey, label, xscale, yscale, **kwargs)\u001b[0m\n\u001b[1;32m    434\u001b[0m         \u001b[0mself\u001b[0m\u001b[0;34m.\u001b[0m\u001b[0m_hold\u001b[0m \u001b[0;34m=\u001b[0m \u001b[0mrcParams\u001b[0m\u001b[0;34m[\u001b[0m\u001b[0;34m'axes.hold'\u001b[0m\u001b[0;34m]\u001b[0m\u001b[0;34m\u001b[0m\u001b[0m\n\u001b[1;32m    435\u001b[0m         \u001b[0mself\u001b[0m\u001b[0;34m.\u001b[0m\u001b[0m_connected\u001b[0m \u001b[0;34m=\u001b[0m \u001b[0;34m{\u001b[0m\u001b[0;34m}\u001b[0m  \u001b[0;31m# a dict from events to (id, func)\u001b[0m\u001b[0;34m\u001b[0m\u001b[0m\n\u001b[0;32m--> 436\u001b[0;31m         \u001b[0mself\u001b[0m\u001b[0;34m.\u001b[0m\u001b[0mcla\u001b[0m\u001b[0;34m(\u001b[0m\u001b[0;34m)\u001b[0m\u001b[0;34m\u001b[0m\u001b[0m\n\u001b[0m\u001b[1;32m    437\u001b[0m         \u001b[0;31m# funcs used to format x and y - fall back on major formatters\u001b[0m\u001b[0;34m\u001b[0m\u001b[0;34m\u001b[0m\u001b[0m\n\u001b[1;32m    438\u001b[0m         \u001b[0mself\u001b[0m\u001b[0;34m.\u001b[0m\u001b[0mfmt_xdata\u001b[0m \u001b[0;34m=\u001b[0m \u001b[0mNone\u001b[0m\u001b[0;34m\u001b[0m\u001b[0m\n",
        "\u001b[0;32m/Library/Python/2.7/site-packages/mpl_toolkits/mplot3d/axes3d.pyc\u001b[0m in \u001b[0;36mcla\u001b[0;34m(self)\u001b[0m\n\u001b[1;32m   1043\u001b[0m         \u001b[0mself\u001b[0m\u001b[0;34m.\u001b[0m\u001b[0m_zmargin\u001b[0m \u001b[0;34m=\u001b[0m \u001b[0;36m0\u001b[0m\u001b[0;34m\u001b[0m\u001b[0m\n\u001b[1;32m   1044\u001b[0m \u001b[0;34m\u001b[0m\u001b[0m\n\u001b[0;32m-> 1045\u001b[0;31m         \u001b[0mAxes\u001b[0m\u001b[0;34m.\u001b[0m\u001b[0mcla\u001b[0m\u001b[0;34m(\u001b[0m\u001b[0mself\u001b[0m\u001b[0;34m)\u001b[0m\u001b[0;34m\u001b[0m\u001b[0m\n\u001b[0m\u001b[1;32m   1046\u001b[0m \u001b[0;34m\u001b[0m\u001b[0m\n\u001b[1;32m   1047\u001b[0m         \u001b[0mself\u001b[0m\u001b[0;34m.\u001b[0m\u001b[0mgrid\u001b[0m\u001b[0;34m(\u001b[0m\u001b[0mrcParams\u001b[0m\u001b[0;34m[\u001b[0m\u001b[0;34m'axes3d.grid'\u001b[0m\u001b[0;34m]\u001b[0m\u001b[0;34m)\u001b[0m\u001b[0;34m\u001b[0m\u001b[0m\n",
        "\u001b[0;32m/Library/Python/2.7/site-packages/matplotlib-1.4.x-py2.7-macosx-10.9-intel.egg/matplotlib/axes/_base.pyc\u001b[0m in \u001b[0;36mcla\u001b[0;34m(self)\u001b[0m\n\u001b[1;32m    895\u001b[0m         \u001b[0mself\u001b[0m\u001b[0;34m.\u001b[0m\u001b[0mcontainers\u001b[0m \u001b[0;34m=\u001b[0m \u001b[0;34m[\u001b[0m\u001b[0;34m]\u001b[0m\u001b[0;34m\u001b[0m\u001b[0m\n\u001b[1;32m    896\u001b[0m \u001b[0;34m\u001b[0m\u001b[0m\n\u001b[0;32m--> 897\u001b[0;31m         \u001b[0mself\u001b[0m\u001b[0;34m.\u001b[0m\u001b[0mgrid\u001b[0m\u001b[0;34m(\u001b[0m\u001b[0mself\u001b[0m\u001b[0;34m.\u001b[0m\u001b[0m_gridOn\u001b[0m\u001b[0;34m,\u001b[0m \u001b[0mwhich\u001b[0m\u001b[0;34m=\u001b[0m\u001b[0mrcParams\u001b[0m\u001b[0;34m[\u001b[0m\u001b[0;34m'axes.grid.which'\u001b[0m\u001b[0;34m]\u001b[0m\u001b[0;34m)\u001b[0m\u001b[0;34m\u001b[0m\u001b[0m\n\u001b[0m\u001b[1;32m    898\u001b[0m         props = font_manager.FontProperties(size=rcParams['axes.titlesize'],\n\u001b[1;32m    899\u001b[0m                                         weight=rcParams['axes.titleweight'])\n",
        "\u001b[0;32m/Library/Python/2.7/site-packages/mpl_toolkits/mplot3d/axes3d.pyc\u001b[0m in \u001b[0;36mgrid\u001b[0;34m(self, b, **kwargs)\u001b[0m\n\u001b[1;32m   1254\u001b[0m         \u001b[0;32mif\u001b[0m \u001b[0mlen\u001b[0m\u001b[0;34m(\u001b[0m\u001b[0mkwargs\u001b[0m\u001b[0;34m)\u001b[0m \u001b[0;34m:\u001b[0m\u001b[0;34m\u001b[0m\u001b[0m\n\u001b[1;32m   1255\u001b[0m             \u001b[0mb\u001b[0m \u001b[0;34m=\u001b[0m \u001b[0mTrue\u001b[0m\u001b[0;34m\u001b[0m\u001b[0m\n\u001b[0;32m-> 1256\u001b[0;31m         \u001b[0mself\u001b[0m\u001b[0;34m.\u001b[0m\u001b[0m_draw_grid\u001b[0m \u001b[0;34m=\u001b[0m \u001b[0mmaxes\u001b[0m\u001b[0;34m.\u001b[0m\u001b[0m_string_to_bool\u001b[0m\u001b[0;34m(\u001b[0m\u001b[0mb\u001b[0m\u001b[0;34m)\u001b[0m\u001b[0;34m\u001b[0m\u001b[0m\n\u001b[0m\u001b[1;32m   1257\u001b[0m \u001b[0;34m\u001b[0m\u001b[0m\n\u001b[1;32m   1258\u001b[0m     \u001b[0;32mdef\u001b[0m \u001b[0mticklabel_format\u001b[0m\u001b[0;34m(\u001b[0m\u001b[0mself\u001b[0m\u001b[0;34m,\u001b[0m \u001b[0;34m**\u001b[0m\u001b[0mkwargs\u001b[0m\u001b[0;34m)\u001b[0m \u001b[0;34m:\u001b[0m\u001b[0;34m\u001b[0m\u001b[0m\n",
        "\u001b[0;31mAttributeError\u001b[0m: 'module' object has no attribute '_string_to_bool'"
       ]
      },
      {
       "metadata": {},
       "output_type": "display_data",
       "text": [
        "<matplotlib.figure.Figure at 0x111ff7690>"
       ]
      }
     ],
     "prompt_number": 2
    },
    {
     "cell_type": "code",
     "collapsed": false,
     "input": [
      "\n",
      "fig = plt.figure()\n",
      "ax = fig.add_subplot(111, projection='3d')\n",
      "ax.scatter(data[:,0], data[:,1], data[:,2],\n",
      "           c = '#A60628', s=50 )\n",
      "\n",
      "point  = np.array([1.,0.7,0.7])\n",
      "normal = np.array([-1, -1, 2])\n",
      "d = -point.dot(normal)\n",
      "xx, yy = np.meshgrid(linspace(0.3,1.1), linspace(0.5,1.))\n",
      "z = (-normal[0] * xx - normal[1] * yy - d) * 1. /normal[2]\n",
      "\n",
      "ax.plot_surface(xx, yy, z, alpha = 0.2)\n",
      "ax.set_xlim3d(0.4,1.1)\n",
      "ax.set_ylim3d(0.4,1.1)\n",
      "ax.set_zlim3d(0.4,1.1)\n",
      "plt.show()"
     ],
     "language": "python",
     "metadata": {},
     "outputs": [
      {
       "ename": "AttributeError",
       "evalue": "'module' object has no attribute '_string_to_bool'",
       "output_type": "pyerr",
       "traceback": [
        "\u001b[0;31m---------------------------------------------------------------------------\u001b[0m\n\u001b[0;31mAttributeError\u001b[0m                            Traceback (most recent call last)",
        "\u001b[0;32m<ipython-input-3-dc291f4d7214>\u001b[0m in \u001b[0;36m<module>\u001b[0;34m()\u001b[0m\n\u001b[1;32m      1\u001b[0m \u001b[0;34m\u001b[0m\u001b[0m\n\u001b[1;32m      2\u001b[0m \u001b[0mfig\u001b[0m \u001b[0;34m=\u001b[0m \u001b[0mplt\u001b[0m\u001b[0;34m.\u001b[0m\u001b[0mfigure\u001b[0m\u001b[0;34m(\u001b[0m\u001b[0;34m)\u001b[0m\u001b[0;34m\u001b[0m\u001b[0m\n\u001b[0;32m----> 3\u001b[0;31m \u001b[0max\u001b[0m \u001b[0;34m=\u001b[0m \u001b[0mfig\u001b[0m\u001b[0;34m.\u001b[0m\u001b[0madd_subplot\u001b[0m\u001b[0;34m(\u001b[0m\u001b[0;36m111\u001b[0m\u001b[0;34m,\u001b[0m \u001b[0mprojection\u001b[0m\u001b[0;34m=\u001b[0m\u001b[0;34m'3d'\u001b[0m\u001b[0;34m)\u001b[0m\u001b[0;34m\u001b[0m\u001b[0m\n\u001b[0m\u001b[1;32m      4\u001b[0m ax.scatter(data[:,0], data[:,1], data[:,2],\n\u001b[1;32m      5\u001b[0m            c = '#A60628', s=50 )\n",
        "\u001b[0;32m/Library/Python/2.7/site-packages/matplotlib-1.4.x-py2.7-macosx-10.9-intel.egg/matplotlib/figure.pyc\u001b[0m in \u001b[0;36madd_subplot\u001b[0;34m(self, *args, **kwargs)\u001b[0m\n\u001b[1;32m    956\u001b[0m                     \u001b[0mself\u001b[0m\u001b[0;34m.\u001b[0m\u001b[0m_axstack\u001b[0m\u001b[0;34m.\u001b[0m\u001b[0mremove\u001b[0m\u001b[0;34m(\u001b[0m\u001b[0max\u001b[0m\u001b[0;34m)\u001b[0m\u001b[0;34m\u001b[0m\u001b[0m\n\u001b[1;32m    957\u001b[0m \u001b[0;34m\u001b[0m\u001b[0m\n\u001b[0;32m--> 958\u001b[0;31m             \u001b[0ma\u001b[0m \u001b[0;34m=\u001b[0m \u001b[0msubplot_class_factory\u001b[0m\u001b[0;34m(\u001b[0m\u001b[0mprojection_class\u001b[0m\u001b[0;34m)\u001b[0m\u001b[0;34m(\u001b[0m\u001b[0mself\u001b[0m\u001b[0;34m,\u001b[0m \u001b[0;34m*\u001b[0m\u001b[0margs\u001b[0m\u001b[0;34m,\u001b[0m \u001b[0;34m**\u001b[0m\u001b[0mkwargs\u001b[0m\u001b[0;34m)\u001b[0m\u001b[0;34m\u001b[0m\u001b[0m\n\u001b[0m\u001b[1;32m    959\u001b[0m \u001b[0;34m\u001b[0m\u001b[0m\n\u001b[1;32m    960\u001b[0m         \u001b[0mself\u001b[0m\u001b[0;34m.\u001b[0m\u001b[0m_axstack\u001b[0m\u001b[0;34m.\u001b[0m\u001b[0madd\u001b[0m\u001b[0;34m(\u001b[0m\u001b[0mkey\u001b[0m\u001b[0;34m,\u001b[0m \u001b[0ma\u001b[0m\u001b[0;34m)\u001b[0m\u001b[0;34m\u001b[0m\u001b[0m\n",
        "\u001b[0;32m/Library/Python/2.7/site-packages/matplotlib-1.4.x-py2.7-macosx-10.9-intel.egg/matplotlib/axes/_subplots.pyc\u001b[0m in \u001b[0;36m__init__\u001b[0;34m(self, fig, *args, **kwargs)\u001b[0m\n\u001b[1;32m     76\u001b[0m \u001b[0;34m\u001b[0m\u001b[0m\n\u001b[1;32m     77\u001b[0m         \u001b[0;31m# _axes_class is set in the subplot_class_factory\u001b[0m\u001b[0;34m\u001b[0m\u001b[0;34m\u001b[0m\u001b[0m\n\u001b[0;32m---> 78\u001b[0;31m         \u001b[0mself\u001b[0m\u001b[0;34m.\u001b[0m\u001b[0m_axes_class\u001b[0m\u001b[0;34m.\u001b[0m\u001b[0m__init__\u001b[0m\u001b[0;34m(\u001b[0m\u001b[0mself\u001b[0m\u001b[0;34m,\u001b[0m \u001b[0mfig\u001b[0m\u001b[0;34m,\u001b[0m \u001b[0mself\u001b[0m\u001b[0;34m.\u001b[0m\u001b[0mfigbox\u001b[0m\u001b[0;34m,\u001b[0m \u001b[0;34m**\u001b[0m\u001b[0mkwargs\u001b[0m\u001b[0;34m)\u001b[0m\u001b[0;34m\u001b[0m\u001b[0m\n\u001b[0m\u001b[1;32m     79\u001b[0m \u001b[0;34m\u001b[0m\u001b[0m\n\u001b[1;32m     80\u001b[0m     \u001b[0;32mdef\u001b[0m \u001b[0m__reduce__\u001b[0m\u001b[0;34m(\u001b[0m\u001b[0mself\u001b[0m\u001b[0;34m)\u001b[0m\u001b[0;34m:\u001b[0m\u001b[0;34m\u001b[0m\u001b[0m\n",
        "\u001b[0;32m/Library/Python/2.7/site-packages/mpl_toolkits/mplot3d/axes3d.pyc\u001b[0m in \u001b[0;36m__init__\u001b[0;34m(self, fig, rect, *args, **kwargs)\u001b[0m\n\u001b[1;32m     89\u001b[0m         Axes.__init__(self, fig, rect,\n\u001b[1;32m     90\u001b[0m                       \u001b[0mframeon\u001b[0m\u001b[0;34m=\u001b[0m\u001b[0mTrue\u001b[0m\u001b[0;34m,\u001b[0m\u001b[0;34m\u001b[0m\u001b[0m\n\u001b[0;32m---> 91\u001b[0;31m                       *args, **kwargs)\n\u001b[0m\u001b[1;32m     92\u001b[0m         \u001b[0;31m# Disable drawing of axes by base class\u001b[0m\u001b[0;34m\u001b[0m\u001b[0;34m\u001b[0m\u001b[0m\n\u001b[1;32m     93\u001b[0m         \u001b[0mAxes\u001b[0m\u001b[0;34m.\u001b[0m\u001b[0mset_axis_off\u001b[0m\u001b[0;34m(\u001b[0m\u001b[0mself\u001b[0m\u001b[0;34m)\u001b[0m\u001b[0;34m\u001b[0m\u001b[0m\n",
        "\u001b[0;32m/Library/Python/2.7/site-packages/matplotlib-1.4.x-py2.7-macosx-10.9-intel.egg/matplotlib/axes/_base.pyc\u001b[0m in \u001b[0;36m__init__\u001b[0;34m(self, fig, rect, axisbg, frameon, sharex, sharey, label, xscale, yscale, **kwargs)\u001b[0m\n\u001b[1;32m    434\u001b[0m         \u001b[0mself\u001b[0m\u001b[0;34m.\u001b[0m\u001b[0m_hold\u001b[0m \u001b[0;34m=\u001b[0m \u001b[0mrcParams\u001b[0m\u001b[0;34m[\u001b[0m\u001b[0;34m'axes.hold'\u001b[0m\u001b[0;34m]\u001b[0m\u001b[0;34m\u001b[0m\u001b[0m\n\u001b[1;32m    435\u001b[0m         \u001b[0mself\u001b[0m\u001b[0;34m.\u001b[0m\u001b[0m_connected\u001b[0m \u001b[0;34m=\u001b[0m \u001b[0;34m{\u001b[0m\u001b[0;34m}\u001b[0m  \u001b[0;31m# a dict from events to (id, func)\u001b[0m\u001b[0;34m\u001b[0m\u001b[0m\n\u001b[0;32m--> 436\u001b[0;31m         \u001b[0mself\u001b[0m\u001b[0;34m.\u001b[0m\u001b[0mcla\u001b[0m\u001b[0;34m(\u001b[0m\u001b[0;34m)\u001b[0m\u001b[0;34m\u001b[0m\u001b[0m\n\u001b[0m\u001b[1;32m    437\u001b[0m         \u001b[0;31m# funcs used to format x and y - fall back on major formatters\u001b[0m\u001b[0;34m\u001b[0m\u001b[0;34m\u001b[0m\u001b[0m\n\u001b[1;32m    438\u001b[0m         \u001b[0mself\u001b[0m\u001b[0;34m.\u001b[0m\u001b[0mfmt_xdata\u001b[0m \u001b[0;34m=\u001b[0m \u001b[0mNone\u001b[0m\u001b[0;34m\u001b[0m\u001b[0m\n",
        "\u001b[0;32m/Library/Python/2.7/site-packages/mpl_toolkits/mplot3d/axes3d.pyc\u001b[0m in \u001b[0;36mcla\u001b[0;34m(self)\u001b[0m\n\u001b[1;32m   1043\u001b[0m         \u001b[0mself\u001b[0m\u001b[0;34m.\u001b[0m\u001b[0m_zmargin\u001b[0m \u001b[0;34m=\u001b[0m \u001b[0;36m0\u001b[0m\u001b[0;34m\u001b[0m\u001b[0m\n\u001b[1;32m   1044\u001b[0m \u001b[0;34m\u001b[0m\u001b[0m\n\u001b[0;32m-> 1045\u001b[0;31m         \u001b[0mAxes\u001b[0m\u001b[0;34m.\u001b[0m\u001b[0mcla\u001b[0m\u001b[0;34m(\u001b[0m\u001b[0mself\u001b[0m\u001b[0;34m)\u001b[0m\u001b[0;34m\u001b[0m\u001b[0m\n\u001b[0m\u001b[1;32m   1046\u001b[0m \u001b[0;34m\u001b[0m\u001b[0m\n\u001b[1;32m   1047\u001b[0m         \u001b[0mself\u001b[0m\u001b[0;34m.\u001b[0m\u001b[0mgrid\u001b[0m\u001b[0;34m(\u001b[0m\u001b[0mrcParams\u001b[0m\u001b[0;34m[\u001b[0m\u001b[0;34m'axes3d.grid'\u001b[0m\u001b[0;34m]\u001b[0m\u001b[0;34m)\u001b[0m\u001b[0;34m\u001b[0m\u001b[0m\n",
        "\u001b[0;32m/Library/Python/2.7/site-packages/matplotlib-1.4.x-py2.7-macosx-10.9-intel.egg/matplotlib/axes/_base.pyc\u001b[0m in \u001b[0;36mcla\u001b[0;34m(self)\u001b[0m\n\u001b[1;32m    895\u001b[0m         \u001b[0mself\u001b[0m\u001b[0;34m.\u001b[0m\u001b[0mcontainers\u001b[0m \u001b[0;34m=\u001b[0m \u001b[0;34m[\u001b[0m\u001b[0;34m]\u001b[0m\u001b[0;34m\u001b[0m\u001b[0m\n\u001b[1;32m    896\u001b[0m \u001b[0;34m\u001b[0m\u001b[0m\n\u001b[0;32m--> 897\u001b[0;31m         \u001b[0mself\u001b[0m\u001b[0;34m.\u001b[0m\u001b[0mgrid\u001b[0m\u001b[0;34m(\u001b[0m\u001b[0mself\u001b[0m\u001b[0;34m.\u001b[0m\u001b[0m_gridOn\u001b[0m\u001b[0;34m,\u001b[0m \u001b[0mwhich\u001b[0m\u001b[0;34m=\u001b[0m\u001b[0mrcParams\u001b[0m\u001b[0;34m[\u001b[0m\u001b[0;34m'axes.grid.which'\u001b[0m\u001b[0;34m]\u001b[0m\u001b[0;34m)\u001b[0m\u001b[0;34m\u001b[0m\u001b[0m\n\u001b[0m\u001b[1;32m    898\u001b[0m         props = font_manager.FontProperties(size=rcParams['axes.titlesize'],\n\u001b[1;32m    899\u001b[0m                                         weight=rcParams['axes.titleweight'])\n",
        "\u001b[0;32m/Library/Python/2.7/site-packages/mpl_toolkits/mplot3d/axes3d.pyc\u001b[0m in \u001b[0;36mgrid\u001b[0;34m(self, b, **kwargs)\u001b[0m\n\u001b[1;32m   1254\u001b[0m         \u001b[0;32mif\u001b[0m \u001b[0mlen\u001b[0m\u001b[0;34m(\u001b[0m\u001b[0mkwargs\u001b[0m\u001b[0;34m)\u001b[0m \u001b[0;34m:\u001b[0m\u001b[0;34m\u001b[0m\u001b[0m\n\u001b[1;32m   1255\u001b[0m             \u001b[0mb\u001b[0m \u001b[0;34m=\u001b[0m \u001b[0mTrue\u001b[0m\u001b[0;34m\u001b[0m\u001b[0m\n\u001b[0;32m-> 1256\u001b[0;31m         \u001b[0mself\u001b[0m\u001b[0;34m.\u001b[0m\u001b[0m_draw_grid\u001b[0m \u001b[0;34m=\u001b[0m \u001b[0mmaxes\u001b[0m\u001b[0;34m.\u001b[0m\u001b[0m_string_to_bool\u001b[0m\u001b[0;34m(\u001b[0m\u001b[0mb\u001b[0m\u001b[0;34m)\u001b[0m\u001b[0;34m\u001b[0m\u001b[0m\n\u001b[0m\u001b[1;32m   1257\u001b[0m \u001b[0;34m\u001b[0m\u001b[0m\n\u001b[1;32m   1258\u001b[0m     \u001b[0;32mdef\u001b[0m \u001b[0mticklabel_format\u001b[0m\u001b[0;34m(\u001b[0m\u001b[0mself\u001b[0m\u001b[0;34m,\u001b[0m \u001b[0;34m**\u001b[0m\u001b[0mkwargs\u001b[0m\u001b[0;34m)\u001b[0m \u001b[0;34m:\u001b[0m\u001b[0;34m\u001b[0m\u001b[0m\n",
        "\u001b[0;31mAttributeError\u001b[0m: 'module' object has no attribute '_string_to_bool'"
       ]
      },
      {
       "metadata": {},
       "output_type": "display_data",
       "text": [
        "<matplotlib.figure.Figure at 0x112025990>"
       ]
      }
     ],
     "prompt_number": 3
    },
    {
     "cell_type": "code",
     "collapsed": false,
     "input": [
      "import pandas as pd\n",
      "\n",
      "df = pd.read_csv('iris.csv', usecols=['sepal_length','sepal_width',\n",
      "                                     'petal_width','petal_length'])"
     ],
     "language": "python",
     "metadata": {},
     "outputs": [],
     "prompt_number": 5
    },
    {
     "cell_type": "code",
     "collapsed": false,
     "input": [
      "df.head()"
     ],
     "language": "python",
     "metadata": {},
     "outputs": [
      {
       "html": [
        "<div style=\"max-height:1000px;max-width:1500px;overflow:auto;\">\n",
        "<table border=\"1\" class=\"dataframe\">\n",
        "  <thead>\n",
        "    <tr style=\"text-align: right;\">\n",
        "      <th></th>\n",
        "      <th>sepal_length</th>\n",
        "      <th>sepal_width</th>\n",
        "      <th>petal_width</th>\n",
        "      <th>petal_length</th>\n",
        "    </tr>\n",
        "  </thead>\n",
        "  <tbody>\n",
        "    <tr>\n",
        "      <th>0</th>\n",
        "      <td> 5.1</td>\n",
        "      <td> 3.5</td>\n",
        "      <td> 1.4</td>\n",
        "      <td> 0.2</td>\n",
        "    </tr>\n",
        "    <tr>\n",
        "      <th>1</th>\n",
        "      <td> 4.9</td>\n",
        "      <td> 3.0</td>\n",
        "      <td> 1.4</td>\n",
        "      <td> 0.2</td>\n",
        "    </tr>\n",
        "    <tr>\n",
        "      <th>2</th>\n",
        "      <td> 4.7</td>\n",
        "      <td> 3.2</td>\n",
        "      <td> 1.3</td>\n",
        "      <td> 0.2</td>\n",
        "    </tr>\n",
        "    <tr>\n",
        "      <th>3</th>\n",
        "      <td> 4.6</td>\n",
        "      <td> 3.1</td>\n",
        "      <td> 1.5</td>\n",
        "      <td> 0.2</td>\n",
        "    </tr>\n",
        "    <tr>\n",
        "      <th>4</th>\n",
        "      <td> 5.0</td>\n",
        "      <td> 3.6</td>\n",
        "      <td> 1.4</td>\n",
        "      <td> 0.2</td>\n",
        "    </tr>\n",
        "  </tbody>\n",
        "</table>\n",
        "<p>5 rows \u00d7 4 columns</p>\n",
        "</div>"
       ],
       "metadata": {},
       "output_type": "pyout",
       "prompt_number": 6,
       "text": [
        "   sepal_length  sepal_width  petal_width  petal_length\n",
        "0           5.1          3.5          1.4           0.2\n",
        "1           4.9          3.0          1.4           0.2\n",
        "2           4.7          3.2          1.3           0.2\n",
        "3           4.6          3.1          1.5           0.2\n",
        "4           5.0          3.6          1.4           0.2\n",
        "\n",
        "[5 rows x 4 columns]"
       ]
      }
     ],
     "prompt_number": 6
    },
    {
     "cell_type": "code",
     "collapsed": false,
     "input": [
      "df.shape"
     ],
     "language": "python",
     "metadata": {},
     "outputs": [
      {
       "metadata": {},
       "output_type": "pyout",
       "prompt_number": 7,
       "text": [
        "(150, 4)"
       ]
      }
     ],
     "prompt_number": 7
    },
    {
     "cell_type": "code",
     "collapsed": false,
     "input": [
      "from sklearn.decomposition import PCA"
     ],
     "language": "python",
     "metadata": {},
     "outputs": [],
     "prompt_number": 8
    },
    {
     "cell_type": "code",
     "collapsed": false,
     "input": [
      "pca = PCA(n_components=2)"
     ],
     "language": "python",
     "metadata": {},
     "outputs": [],
     "prompt_number": 11
    },
    {
     "cell_type": "code",
     "collapsed": false,
     "input": [
      "reduced_data = pca.fit_transform(df.values)"
     ],
     "language": "python",
     "metadata": {},
     "outputs": [],
     "prompt_number": 15
    },
    {
     "cell_type": "code",
     "collapsed": false,
     "input": [
      "x = _\n",
      "x.shape"
     ],
     "language": "python",
     "metadata": {},
     "outputs": [
      {
       "metadata": {},
       "output_type": "pyout",
       "prompt_number": 14,
       "text": [
        "(150, 2)"
       ]
      }
     ],
     "prompt_number": 14
    },
    {
     "cell_type": "code",
     "collapsed": false,
     "input": [
      "scatter(reduced_data[:,0],reduced_data[:,1], s=40)\n",
      "plt.xlabel(\"dimension 1\")\n",
      "plt.ylabel(\"dimension 2\")"
     ],
     "language": "python",
     "metadata": {},
     "outputs": [
      {
       "metadata": {},
       "output_type": "pyout",
       "prompt_number": 16,
       "text": [
        "<matplotlib.text.Text at 0x10cf99e90>"
       ]
      },
      {
       "metadata": {},
       "output_type": "display_data",
       "png": "[encoded data removed]",
       "text": [
        "<matplotlib.figure.Figure at 0x10cf7dbd0>"
       ]
      }
     ],
     "prompt_number": 16
    },
    {
     "cell_type": "code",
     "collapsed": false,
     "input": [
      "species = pd.read_csv('iris.csv', usecols=['species'])"
     ],
     "language": "python",
     "metadata": {},
     "outputs": [],
     "prompt_number": 17
    },
    {
     "cell_type": "code",
     "collapsed": false,
     "input": [
      "species.head()"
     ],
     "language": "python",
     "metadata": {},
     "outputs": [
      {
       "html": [
        "<div style=\"max-height:1000px;max-width:1500px;overflow:auto;\">\n",
        "<table border=\"1\" class=\"dataframe\">\n",
        "  <thead>\n",
        "    <tr style=\"text-align: right;\">\n",
        "      <th></th>\n",
        "      <th>species</th>\n",
        "    </tr>\n",
        "  </thead>\n",
        "  <tbody>\n",
        "    <tr>\n",
        "      <th>0</th>\n",
        "      <td> Iris-setosa</td>\n",
        "    </tr>\n",
        "    <tr>\n",
        "      <th>1</th>\n",
        "      <td> Iris-setosa</td>\n",
        "    </tr>\n",
        "    <tr>\n",
        "      <th>2</th>\n",
        "      <td> Iris-setosa</td>\n",
        "    </tr>\n",
        "    <tr>\n",
        "      <th>3</th>\n",
        "      <td> Iris-setosa</td>\n",
        "    </tr>\n",
        "    <tr>\n",
        "      <th>4</th>\n",
        "      <td> Iris-setosa</td>\n",
        "    </tr>\n",
        "  </tbody>\n",
        "</table>\n",
        "<p>5 rows \u00d7 1 columns</p>\n",
        "</div>"
       ],
       "metadata": {},
       "output_type": "pyout",
       "prompt_number": 18,
       "text": [
        "       species\n",
        "0  Iris-setosa\n",
        "1  Iris-setosa\n",
        "2  Iris-setosa\n",
        "3  Iris-setosa\n",
        "4  Iris-setosa\n",
        "\n",
        "[5 rows x 1 columns]"
       ]
      }
     ],
     "prompt_number": 18
    },
    {
     "cell_type": "code",
     "collapsed": false,
     "input": [
      "def encode_color(s):\n",
      "    if s==\"Iris-setosa\":\n",
      "        return \"#348ABD\"\n",
      "    elif s==\"Iris-versicolor\":\n",
      "        return \"#A60628\"\n",
      "    else:\n",
      "        return \"#7A68A6\""
     ],
     "language": "python",
     "metadata": {},
     "outputs": [],
     "prompt_number": 19
    },
    {
     "cell_type": "code",
     "collapsed": false,
     "input": [
      "colors = map( encode_color, species.values )\n",
      "scatter(reduced_data[:,0],reduced_data[:,1], s=40, c=colors)\n",
      "plt.xlabel(\"dimension 1\")\n",
      "plt.ylabel(\"dimension 2\")"
     ],
     "language": "python",
     "metadata": {},
     "outputs": [
      {
       "metadata": {},
       "output_type": "pyout",
       "prompt_number": 22,
       "text": [
        "<matplotlib.text.Text at 0x10d1dcc10>"
       ]
      },
      {
       "metadata": {},
       "output_type": "display_data",
       "png": "[encoded data removed]",
       "text": [
        "<matplotlib.figure.Figure at 0x10d1ce150>"
       ]
      }
     ],
     "prompt_number": 22
    },
    {
     "cell_type": "code",
     "collapsed": false,
     "input": [
      "pca.components_"
     ],
     "language": "python",
     "metadata": {},
     "outputs": [
      {
       "metadata": {},
       "output_type": "pyout",
       "prompt_number": 23,
       "text": [
        "array([[ 0.3616, -0.0823,  0.8566,  0.3588],\n",
        "       [-0.6565, -0.7297,  0.1758,  0.0747]])"
       ]
      }
     ],
     "prompt_number": 23
    },
    {
     "cell_type": "markdown",
     "metadata": {},
     "source": [
      "$$\\underbrace{D}_{ n\\; \\times\\; d } \\cdot \\underbrace{P}_{d \\;\\times\\; p} = \\underbrace{M}_{ n\\; \\times \\; p}$$"
     ]
    },
    {
     "cell_type": "markdown",
     "metadata": {},
     "source": [
      "\n",
      "$\\text{Dimension 1} = \\; 0.36 \\cdot \\text{Sepal Length} -0.08 \\cdot \\text{Sepal Width} + 0.86 \\cdot \\text{Petal Width} + 0.36 \\cdot \\text{Petal Length}$ \n",
      "\n",
      "$\\text{Dimension 2} = -0.65 \\cdot \\text{Sepal Length} -0.73 \\cdot \\text{Sepal Width} + 0.18 \\cdot \\text{Petal Width} + 0.75 \\cdot \\text{Petal Length}$ \n"
     ]
    },
    {
     "cell_type": "code",
     "collapsed": false,
     "input": [
      "df.corr()"
     ],
     "language": "python",
     "metadata": {},
     "outputs": [
      {
       "html": [
        "<div style=\"max-height:1000px;max-width:1500px;overflow:auto;\">\n",
        "<table border=\"1\" class=\"dataframe\">\n",
        "  <thead>\n",
        "    <tr style=\"text-align: right;\">\n",
        "      <th></th>\n",
        "      <th>sepal_length</th>\n",
        "      <th>sepal_width</th>\n",
        "      <th>petal_width</th>\n",
        "      <th>petal_length</th>\n",
        "    </tr>\n",
        "  </thead>\n",
        "  <tbody>\n",
        "    <tr>\n",
        "      <th>sepal_length</th>\n",
        "      <td> 1.000000</td>\n",
        "      <td>-0.109369</td>\n",
        "      <td> 0.871754</td>\n",
        "      <td> 0.817954</td>\n",
        "    </tr>\n",
        "    <tr>\n",
        "      <th>sepal_width</th>\n",
        "      <td>-0.109369</td>\n",
        "      <td> 1.000000</td>\n",
        "      <td>-0.420516</td>\n",
        "      <td>-0.356544</td>\n",
        "    </tr>\n",
        "    <tr>\n",
        "      <th>petal_width</th>\n",
        "      <td> 0.871754</td>\n",
        "      <td>-0.420516</td>\n",
        "      <td> 1.000000</td>\n",
        "      <td> 0.962757</td>\n",
        "    </tr>\n",
        "    <tr>\n",
        "      <th>petal_length</th>\n",
        "      <td> 0.817954</td>\n",
        "      <td>-0.356544</td>\n",
        "      <td> 0.962757</td>\n",
        "      <td> 1.000000</td>\n",
        "    </tr>\n",
        "  </tbody>\n",
        "</table>\n",
        "<p>4 rows \u00d7 4 columns</p>\n",
        "</div>"
       ],
       "metadata": {},
       "output_type": "pyout",
       "prompt_number": 25,
       "text": [
        "              sepal_length  sepal_width  petal_width  petal_length\n",
        "sepal_length      1.000000    -0.109369     0.871754      0.817954\n",
        "sepal_width      -0.109369     1.000000    -0.420516     -0.356544\n",
        "petal_width       0.871754    -0.420516     1.000000      0.962757\n",
        "petal_length      0.817954    -0.356544     0.962757      1.000000\n",
        "\n",
        "[4 rows x 4 columns]"
       ]
      }
     ],
     "prompt_number": 25
    },
    {
     "cell_type": "code",
     "collapsed": false,
     "input": [
      "plt.imshow(df.corr(), interpolation='None')\n",
      "plt.colorbar()\n",
      "\n",
      "# We can see lots of correlation here. "
     ],
     "language": "python",
     "metadata": {},
     "outputs": [
      {
       "metadata": {},
       "output_type": "pyout",
       "prompt_number": 26,
       "text": [
        "<matplotlib.colorbar.Colorbar instance at 0x10d68e830>"
       ]
      },
      {
       "metadata": {},
       "output_type": "display_data",
       "png": "[encoded data removed]",
       "text": [
        "<matplotlib.figure.Figure at 0x10d4cc0d0>"
       ]
      }
     ],
     "prompt_number": 26
    },
    {
     "cell_type": "code",
     "collapsed": false,
     "input": [
      "pca = PCA(n_components=4)\n",
      "transformed_data = pca.fit_transform(df.values)"
     ],
     "language": "python",
     "metadata": {},
     "outputs": [],
     "prompt_number": 27
    },
    {
     "cell_type": "code",
     "collapsed": false,
     "input": [
      "transformed_data"
     ],
     "language": "python",
     "metadata": {},
     "outputs": [
      {
       "metadata": {},
       "output_type": "pyout",
       "prompt_number": 29,
       "text": [
        "array([[ -2.6842e+00,  -3.2661e-01,   2.1512e-02,   1.0062e-03],\n",
        "       [ -2.7154e+00,   1.6956e-01,   2.0352e-01,   9.9602e-02],\n",
        "       [ -2.8898e+00,   1.3735e-01,  -2.4709e-02,   1.9305e-02],\n",
        "       [ -2.7464e+00,   3.1112e-01,  -3.7672e-02,  -7.5955e-02],\n",
        "       [ -2.7286e+00,  -3.3392e-01,  -9.6230e-02,  -6.3129e-02],\n",
        "       [ -2.2799e+00,  -7.4778e-01,  -1.7433e-01,  -2.7147e-02],\n",
        "       [ -2.8209e+00,   8.2105e-02,  -2.6425e-01,  -5.0100e-02],\n",
        "       [ -2.6265e+00,  -1.7041e-01,   1.5802e-02,  -4.6282e-02],\n",
        "       [ -2.8880e+00,   5.7080e-01,  -2.7335e-02,  -2.6615e-02],\n",
        "       [ -2.6738e+00,   1.0669e-01,   1.9153e-01,  -5.5891e-02],\n",
        "       [ -2.5065e+00,  -6.5194e-01,   6.9275e-02,  -1.6608e-02],\n",
        "       [ -2.6131e+00,  -2.1521e-02,  -1.0765e-01,  -1.5770e-01],\n",
        "       [ -2.7874e+00,   2.2774e-01,   2.0033e-01,  -7.2351e-03],\n",
        "       [ -3.2252e+00,   5.0328e-01,  -6.8414e-02,  -2.1947e-02],\n",
        "       [ -2.6435e+00,  -1.1862e+00,   1.4451e-01,   1.5698e-01],\n",
        "       [ -2.3839e+00,  -1.3448e+00,  -2.8373e-01,   1.9262e-03],\n",
        "       [ -2.6225e+00,  -8.1809e-01,  -1.4532e-01,   1.6474e-01],\n",
        "       [ -2.6483e+00,  -3.1914e-01,  -3.3394e-02,   7.6118e-02],\n",
        "       [ -2.1991e+00,  -8.7924e-01,   1.1452e-01,   2.5327e-02],\n",
        "       [ -2.5873e+00,  -5.2047e-01,  -2.1957e-01,  -6.9082e-02],\n",
        "       [ -2.3105e+00,  -3.9787e-01,   2.3370e-01,  -1.5324e-02],\n",
        "       [ -2.5432e+00,  -4.4003e-01,  -2.1484e-01,   3.8440e-02],\n",
        "       [ -3.2159e+00,  -1.4162e-01,  -2.9962e-01,   1.8570e-03],\n",
        "       [ -2.3031e+00,  -1.0552e-01,  -4.5680e-02,   1.4725e-01],\n",
        "       [ -2.3562e+00,   3.1210e-02,  -1.2941e-01,  -3.0162e-01],\n",
        "       [ -2.5079e+00,   1.3906e-01,   2.4712e-01,   3.5384e-02],\n",
        "       [ -2.4691e+00,  -1.3789e-01,  -1.0126e-01,   5.5970e-02],\n",
        "       [ -2.5624e+00,  -3.7468e-01,   7.2359e-02,  -1.5240e-02],\n",
        "       [ -2.6398e+00,  -3.1929e-01,   1.3925e-01,   6.5141e-02],\n",
        "       [ -2.6328e+00,   1.9008e-01,  -4.6466e-02,  -1.2461e-01],\n",
        "       [ -2.5885e+00,   1.9739e-01,   7.1275e-02,  -6.0476e-02],\n",
        "       [ -2.4101e+00,  -4.1808e-01,   1.3839e-01,   2.3084e-01],\n",
        "       [ -2.6476e+00,  -8.1998e-01,  -2.3059e-01,  -2.8481e-01],\n",
        "       [ -2.5972e+00,  -1.1000e+00,  -1.6358e-01,  -9.8958e-02],\n",
        "       [ -2.6738e+00,   1.0669e-01,   1.9153e-01,  -5.5891e-02],\n",
        "       [ -2.8670e+00,  -7.7193e-02,   1.5684e-01,   1.6245e-01],\n",
        "       [ -2.6252e+00,  -6.0680e-01,   2.6116e-01,   1.7588e-01],\n",
        "       [ -2.6738e+00,   1.0669e-01,   1.9153e-01,  -5.5891e-02],\n",
        "       [ -2.9818e+00,   4.8025e-01,  -7.9725e-02,  -1.1053e-02],\n",
        "       [ -2.5903e+00,  -2.3606e-01,   7.3901e-02,  -1.4556e-02],\n",
        "       [ -2.7701e+00,  -2.7106e-01,  -8.4242e-02,   9.2365e-02],\n",
        "       [ -2.8522e+00,   9.3287e-01,   3.4096e-01,   3.2265e-01],\n",
        "       [ -2.9983e+00,   3.3431e-01,  -1.9901e-01,  -7.5872e-02],\n",
        "       [ -2.4055e+00,  -1.9592e-01,  -2.7072e-01,   1.7379e-01],\n",
        "       [ -2.2088e+00,  -4.4270e-01,  -3.0349e-01,  -1.8586e-01],\n",
        "       [ -2.7157e+00,   2.4268e-01,   9.0516e-02,   1.4299e-01],\n",
        "       [ -2.5376e+00,  -5.1037e-01,  -1.7192e-01,  -1.9217e-01],\n",
        "       [ -2.8403e+00,   2.2058e-01,  -9.0061e-02,  -6.0393e-02],\n",
        "       [ -2.5427e+00,  -5.8628e-01,   1.1175e-02,  -4.8334e-02],\n",
        "       [ -2.7039e+00,  -1.1501e-01,   8.2696e-02,   3.4100e-02],\n",
        "       [  1.2848e+00,  -6.8544e-01,   4.0613e-01,   1.9290e-02],\n",
        "       [  9.3241e-01,  -3.1920e-01,   1.7130e-02,  -6.7579e-06],\n",
        "       [  1.4641e+00,  -5.0419e-01,   3.3826e-01,  -8.5764e-04],\n",
        "       [  1.8097e-01,   8.2560e-01,   1.7708e-01,   9.5784e-02],\n",
        "       [  1.0871e+00,  -7.5390e-02,   3.0654e-01,   1.1338e-01],\n",
        "       [  6.4044e-01,   4.1732e-01,  -4.1189e-02,  -2.4267e-01],\n",
        "       [  1.0952e+00,  -2.8389e-01,  -1.7002e-01,  -8.4973e-02],\n",
        "       [ -7.5147e-01,   1.0011e+00,  -1.5672e-02,  -1.6511e-02],\n",
        "       [  1.0433e+00,  -2.2896e-01,   4.1481e-01,  -3.7524e-02],\n",
        "       [ -1.0190e-02,   7.2057e-01,  -2.8344e-01,  -5.9457e-03],\n",
        "       [ -5.1109e-01,   1.2625e+00,   2.6649e-01,   4.8909e-02],\n",
        "       [  5.1110e-01,   1.0228e-01,  -1.3233e-01,   5.0101e-02],\n",
        "       [  2.6234e-01,   5.4789e-01,   6.9194e-01,   6.1485e-02],\n",
        "       [  9.8404e-01,   1.2436e-01,   6.2157e-02,  -1.6901e-01],\n",
        "       [ -1.7486e-01,   2.5182e-01,  -9.3659e-02,   1.2494e-01],\n",
        "       [  9.2757e-01,  -4.6824e-01,   3.1323e-01,   1.0044e-01],\n",
        "       [  6.5959e-01,   3.5198e-01,  -3.2838e-01,  -1.8899e-01],\n",
        "       [  2.3454e-01,   3.3192e-01,   2.7028e-01,  -2.1198e-01],\n",
        "       [  9.4236e-01,   5.4182e-01,   4.9735e-01,   2.6064e-01],\n",
        "       [  4.3246e-02,   5.8149e-01,   2.3296e-01,  -3.9561e-02],\n",
        "       [  1.1162e+00,   8.4214e-02,  -4.5984e-01,  -7.7214e-02],\n",
        "       [  3.5679e-01,   6.6824e-02,   2.2747e-01,   1.2409e-01],\n",
        "       [  1.2965e+00,   3.2756e-01,   3.4751e-01,   3.2462e-03],\n",
        "       [  9.2050e-01,   1.8239e-01,   2.3161e-01,  -2.8683e-01],\n",
        "       [  7.1401e-01,  -1.5038e-01,   3.2037e-01,   4.2941e-02],\n",
        "       [  8.9964e-01,  -3.2961e-01,   3.1477e-01,   1.0112e-01],\n",
        "       [  1.3310e+00,  -2.4467e-01,   5.2124e-01,   3.7505e-02],\n",
        "       [  1.5574e+00,  -2.6739e-01,   1.6464e-01,   7.0353e-02],\n",
        "       [  8.1246e-01,   1.6233e-01,  -3.6344e-02,  -2.9680e-02],\n",
        "       [ -3.0733e-01,   3.6509e-01,   3.1534e-01,   7.6530e-02],\n",
        "       [ -7.0343e-02,   7.0254e-01,   2.4176e-01,   9.0947e-03],\n",
        "       [ -1.9188e-01,   6.7749e-01,   3.0392e-01,  -1.8045e-02],\n",
        "       [  1.3499e-01,   3.1171e-01,   1.7497e-01,   3.4183e-02],\n",
        "       [  1.3787e+00,   4.2121e-01,  -1.5480e-02,  -1.7758e-01],\n",
        "       [  5.8727e-01,   4.8328e-01,  -4.4458e-01,  -2.5244e-01],\n",
        "       [  8.0721e-01,  -1.9505e-01,  -3.8946e-01,  -1.1662e-01],\n",
        "       [  1.2204e+00,  -4.0804e-01,   2.3657e-01,   3.1635e-02],\n",
        "       [  8.1287e-01,   3.7068e-01,   6.1287e-01,   1.5770e-01],\n",
        "       [  2.4520e-01,   2.6673e-01,  -1.8956e-01,  -1.4733e-01],\n",
        "       [  1.6451e-01,   6.7966e-01,   5.7799e-02,   3.0966e-02],\n",
        "       [  4.6303e-01,   6.6953e-01,   2.4054e-02,  -2.6844e-01],\n",
        "       [  8.9016e-01,   3.3812e-02,   9.7680e-03,  -1.5345e-01],\n",
        "       [  2.2888e-01,   4.0226e-01,   2.2736e-01,   1.8620e-02],\n",
        "       [ -7.0708e-01,   1.0084e+00,   1.0207e-01,   4.7624e-02],\n",
        "       [  3.5553e-01,   5.0322e-01,  -1.7889e-02,  -9.8072e-02],\n",
        "       [  3.3113e-01,   2.1118e-01,  -8.3809e-02,  -2.3869e-01],\n",
        "       [  3.7524e-01,   2.9162e-01,  -7.9073e-02,  -1.3117e-01],\n",
        "       [  6.4169e-01,  -1.9071e-02,   2.0417e-01,  -2.0510e-02],\n",
        "       [ -9.0846e-01,   7.5157e-01,   7.7366e-03,   2.3356e-01],\n",
        "       [  2.9781e-01,   3.4702e-01,  -1.2179e-02,  -5.0784e-02],\n",
        "       [  2.5317e+00,   1.1842e-02,  -7.5846e-01,  -3.2600e-02],\n",
        "       [  1.4141e+00,   5.7493e-01,  -2.9640e-01,  -1.5695e-02],\n",
        "       [  2.6165e+00,  -3.4194e-01,   1.1214e-01,   6.5956e-02],\n",
        "       [  1.9708e+00,   1.8113e-01,  -1.0654e-01,  -2.3686e-01],\n",
        "       [  2.3498e+00,   4.1883e-02,  -2.8411e-01,  -1.3127e-03],\n",
        "       [  3.3969e+00,  -5.4717e-01,   3.5187e-01,  -1.1122e-01],\n",
        "       [  5.1938e-01,   1.1914e+00,  -5.4669e-01,  -9.8798e-02],\n",
        "       [  2.9320e+00,  -3.5238e-01,   4.2369e-01,  -2.5541e-01],\n",
        "       [  2.3197e+00,   2.4555e-01,   3.4992e-01,  -7.6263e-02],\n",
        "       [  2.9181e+00,  -7.8038e-01,  -4.2174e-01,   1.0773e-01],\n",
        "       [  1.6619e+00,  -2.4204e-01,  -2.4282e-01,   1.1945e-01],\n",
        "       [  1.8023e+00,   2.1615e-01,   3.7695e-02,   7.8713e-02],\n",
        "       [  2.1654e+00,  -2.1528e-01,  -3.3148e-02,   1.6267e-01],\n",
        "       [  1.3446e+00,   7.7642e-01,  -2.8287e-01,   1.4048e-01],\n",
        "       [  1.5853e+00,   5.3931e-01,  -6.3057e-01,   3.2746e-01],\n",
        "       [  1.9047e+00,  -1.1882e-01,  -4.8014e-01,   2.1711e-01],\n",
        "       [  1.9492e+00,  -4.0730e-02,  -4.2729e-02,  -1.5785e-01],\n",
        "       [  3.4888e+00,  -1.1715e+00,  -1.2932e-01,  -3.1163e-01],\n",
        "       [  3.7947e+00,  -2.5327e-01,   5.1697e-01,   5.6452e-02],\n",
        "       [  1.2983e+00,   7.6101e-01,   3.4489e-01,  -4.2674e-02],\n",
        "       [  2.4282e+00,  -3.7678e-01,  -2.1865e-01,   1.8385e-01],\n",
        "       [  1.1981e+00,   6.0558e-01,  -5.1264e-01,   5.9500e-02],\n",
        "       [  3.4993e+00,  -4.5677e-01,   5.7691e-01,  -1.3776e-01],\n",
        "       [  1.3877e+00,   2.0403e-01,   6.3511e-02,   1.6376e-01],\n",
        "       [  2.2759e+00,  -3.3339e-01,  -2.8468e-01,  -6.2230e-02],\n",
        "       [  2.6142e+00,  -5.5837e-01,   2.0842e-01,  -2.4045e-01],\n",
        "       [  1.2576e+00,   1.7914e-01,  -4.6978e-02,   1.4760e-01],\n",
        "       [  1.2907e+00,   1.1643e-01,  -2.3161e-01,   3.0843e-03],\n",
        "       [  2.1229e+00,   2.1085e-01,  -1.5352e-01,   5.2612e-02],\n",
        "       [  2.3876e+00,  -4.6252e-01,   4.5202e-01,  -2.2991e-01],\n",
        "       [  2.8410e+00,  -3.7274e-01,   5.0103e-01,  -2.0217e-02],\n",
        "       [  3.2323e+00,  -1.3705e+00,   1.1845e-01,  -2.5449e-01],\n",
        "       [  2.1587e+00,   2.1833e-01,  -2.0842e-01,   1.2772e-01],\n",
        "       [  1.4431e+00,   1.4380e-01,   1.5408e-01,  -1.8993e-01],\n",
        "       [  1.7796e+00,   5.0146e-01,   1.7581e-01,  -5.0353e-01],\n",
        "       [  3.0765e+00,  -6.8576e-01,   3.3642e-01,   3.1059e-01],\n",
        "       [  2.1450e+00,  -1.3891e-01,  -7.3418e-01,   5.1767e-02],\n",
        "       [  1.9049e+00,  -4.8048e-02,  -1.6047e-01,  -2.2198e-01],\n",
        "       [  1.1689e+00,   1.6450e-01,  -2.8246e-01,   1.9331e-02],\n",
        "       [  2.1077e+00,  -3.7148e-01,  -2.7438e-02,   2.0996e-01],\n",
        "       [  2.3143e+00,  -1.8261e-01,  -3.2286e-01,   2.7590e-01],\n",
        "       [  1.9225e+00,  -4.0927e-01,  -1.1549e-01,   5.0410e-01],\n",
        "       [  1.4141e+00,   5.7493e-01,  -2.9640e-01,  -1.5695e-02],\n",
        "       [  2.5633e+00,  -2.7597e-01,  -2.9125e-01,   5.6185e-02],\n",
        "       [  2.4194e+00,  -3.0350e-01,  -5.0430e-01,   2.3822e-01],\n",
        "       [  1.9440e+00,  -1.8742e-01,  -1.7930e-01,   4.2508e-01],\n",
        "       [  1.5257e+00,   3.7502e-01,   1.2064e-01,   2.5572e-01],\n",
        "       [  1.7640e+00,  -7.8519e-02,  -1.3078e-01,   1.3629e-01],\n",
        "       [  1.9016e+00,  -1.1588e-01,  -7.2287e-01,   4.0873e-02],\n",
        "       [  1.3897e+00,   2.8289e-01,  -3.6232e-01,  -1.5631e-01]])"
       ]
      }
     ],
     "prompt_number": 29
    },
    {
     "cell_type": "code",
     "collapsed": false,
     "input": [
      "df.head()"
     ],
     "language": "python",
     "metadata": {},
     "outputs": [
      {
       "html": [
        "<div style=\"max-height:1000px;max-width:1500px;overflow:auto;\">\n",
        "<table border=\"1\" class=\"dataframe\">\n",
        "  <thead>\n",
        "    <tr style=\"text-align: right;\">\n",
        "      <th></th>\n",
        "      <th>sepal_length</th>\n",
        "      <th>sepal_width</th>\n",
        "      <th>petal_width</th>\n",
        "      <th>petal_length</th>\n",
        "    </tr>\n",
        "  </thead>\n",
        "  <tbody>\n",
        "    <tr>\n",
        "      <th>0</th>\n",
        "      <td> 5.1</td>\n",
        "      <td> 3.5</td>\n",
        "      <td> 1.4</td>\n",
        "      <td> 0.2</td>\n",
        "    </tr>\n",
        "    <tr>\n",
        "      <th>1</th>\n",
        "      <td> 4.9</td>\n",
        "      <td> 3.0</td>\n",
        "      <td> 1.4</td>\n",
        "      <td> 0.2</td>\n",
        "    </tr>\n",
        "    <tr>\n",
        "      <th>2</th>\n",
        "      <td> 4.7</td>\n",
        "      <td> 3.2</td>\n",
        "      <td> 1.3</td>\n",
        "      <td> 0.2</td>\n",
        "    </tr>\n",
        "    <tr>\n",
        "      <th>3</th>\n",
        "      <td> 4.6</td>\n",
        "      <td> 3.1</td>\n",
        "      <td> 1.5</td>\n",
        "      <td> 0.2</td>\n",
        "    </tr>\n",
        "    <tr>\n",
        "      <th>4</th>\n",
        "      <td> 5.0</td>\n",
        "      <td> 3.6</td>\n",
        "      <td> 1.4</td>\n",
        "      <td> 0.2</td>\n",
        "    </tr>\n",
        "  </tbody>\n",
        "</table>\n",
        "<p>5 rows \u00d7 4 columns</p>\n",
        "</div>"
       ],
       "metadata": {},
       "output_type": "pyout",
       "prompt_number": 30,
       "text": [
        "   sepal_length  sepal_width  petal_width  petal_length\n",
        "0           5.1          3.5          1.4           0.2\n",
        "1           4.9          3.0          1.4           0.2\n",
        "2           4.7          3.2          1.3           0.2\n",
        "3           4.6          3.1          1.5           0.2\n",
        "4           5.0          3.6          1.4           0.2\n",
        "\n",
        "[5 rows x 4 columns]"
       ]
      }
     ],
     "prompt_number": 30
    },
    {
     "cell_type": "code",
     "collapsed": false,
     "input": [
      "df_transformed = pd.DataFrame( pca.fit_transform(df), columns = ['d1','d2','d3','d4'] )"
     ],
     "language": "python",
     "metadata": {},
     "outputs": [],
     "prompt_number": 31
    },
    {
     "cell_type": "code",
     "collapsed": false,
     "input": [
      "df_transformed.head()"
     ],
     "language": "python",
     "metadata": {},
     "outputs": [
      {
       "html": [
        "<div style=\"max-height:1000px;max-width:1500px;overflow:auto;\">\n",
        "<table border=\"1\" class=\"dataframe\">\n",
        "  <thead>\n",
        "    <tr style=\"text-align: right;\">\n",
        "      <th></th>\n",
        "      <th>d1</th>\n",
        "      <th>d2</th>\n",
        "      <th>d3</th>\n",
        "      <th>d4</th>\n",
        "    </tr>\n",
        "  </thead>\n",
        "  <tbody>\n",
        "    <tr>\n",
        "      <th>0</th>\n",
        "      <td>-2.684207</td>\n",
        "      <td>-0.326607</td>\n",
        "      <td> 0.021512</td>\n",
        "      <td> 0.001006</td>\n",
        "    </tr>\n",
        "    <tr>\n",
        "      <th>1</th>\n",
        "      <td>-2.715391</td>\n",
        "      <td> 0.169557</td>\n",
        "      <td> 0.203521</td>\n",
        "      <td> 0.099602</td>\n",
        "    </tr>\n",
        "    <tr>\n",
        "      <th>2</th>\n",
        "      <td>-2.889820</td>\n",
        "      <td> 0.137346</td>\n",
        "      <td>-0.024709</td>\n",
        "      <td> 0.019305</td>\n",
        "    </tr>\n",
        "    <tr>\n",
        "      <th>3</th>\n",
        "      <td>-2.746437</td>\n",
        "      <td> 0.311124</td>\n",
        "      <td>-0.037672</td>\n",
        "      <td>-0.075955</td>\n",
        "    </tr>\n",
        "    <tr>\n",
        "      <th>4</th>\n",
        "      <td>-2.728593</td>\n",
        "      <td>-0.333925</td>\n",
        "      <td>-0.096230</td>\n",
        "      <td>-0.063129</td>\n",
        "    </tr>\n",
        "  </tbody>\n",
        "</table>\n",
        "<p>5 rows \u00d7 4 columns</p>\n",
        "</div>"
       ],
       "metadata": {},
       "output_type": "pyout",
       "prompt_number": 32,
       "text": [
        "         d1        d2        d3        d4\n",
        "0 -2.684207 -0.326607  0.021512  0.001006\n",
        "1 -2.715391  0.169557  0.203521  0.099602\n",
        "2 -2.889820  0.137346 -0.024709  0.019305\n",
        "3 -2.746437  0.311124 -0.037672 -0.075955\n",
        "4 -2.728593 -0.333925 -0.096230 -0.063129\n",
        "\n",
        "[5 rows x 4 columns]"
       ]
      }
     ],
     "prompt_number": 32
    },
    {
     "cell_type": "code",
     "collapsed": false,
     "input": [
      "df_transformed.corr()"
     ],
     "language": "python",
     "metadata": {},
     "outputs": [
      {
       "html": [
        "<div style=\"max-height:1000px;max-width:1500px;overflow:auto;\">\n",
        "<table border=\"1\" class=\"dataframe\">\n",
        "  <thead>\n",
        "    <tr style=\"text-align: right;\">\n",
        "      <th></th>\n",
        "      <th>d1</th>\n",
        "      <th>d2</th>\n",
        "      <th>d3</th>\n",
        "      <th>d4</th>\n",
        "    </tr>\n",
        "  </thead>\n",
        "  <tbody>\n",
        "    <tr>\n",
        "      <th>d1</th>\n",
        "      <td> 1.000000e+00</td>\n",
        "      <td>-2.563137e-16</td>\n",
        "      <td> 1.021986e-16</td>\n",
        "      <td> 9.481260e-17</td>\n",
        "    </tr>\n",
        "    <tr>\n",
        "      <th>d2</th>\n",
        "      <td>-2.563137e-16</td>\n",
        "      <td> 1.000000e+00</td>\n",
        "      <td>-1.229075e-16</td>\n",
        "      <td> 5.717974e-17</td>\n",
        "    </tr>\n",
        "    <tr>\n",
        "      <th>d3</th>\n",
        "      <td> 1.021986e-16</td>\n",
        "      <td>-1.229075e-16</td>\n",
        "      <td> 1.000000e+00</td>\n",
        "      <td>-3.088520e-16</td>\n",
        "    </tr>\n",
        "    <tr>\n",
        "      <th>d4</th>\n",
        "      <td> 9.481260e-17</td>\n",
        "      <td> 5.717974e-17</td>\n",
        "      <td>-3.088520e-16</td>\n",
        "      <td> 1.000000e+00</td>\n",
        "    </tr>\n",
        "  </tbody>\n",
        "</table>\n",
        "<p>4 rows \u00d7 4 columns</p>\n",
        "</div>"
       ],
       "metadata": {},
       "output_type": "pyout",
       "prompt_number": 34,
       "text": [
        "              d1            d2            d3            d4\n",
        "d1  1.000000e+00 -2.563137e-16  1.021986e-16  9.481260e-17\n",
        "d2 -2.563137e-16  1.000000e+00 -1.229075e-16  5.717974e-17\n",
        "d3  1.021986e-16 -1.229075e-16  1.000000e+00 -3.088520e-16\n",
        "d4  9.481260e-17  5.717974e-17 -3.088520e-16  1.000000e+00\n",
        "\n",
        "[4 rows x 4 columns]"
       ]
      }
     ],
     "prompt_number": 34
    },
    {
     "cell_type": "code",
     "collapsed": false,
     "input": [
      "plt.imshow(df_transformed.corr(), interpolation='None')\n",
      "plt.colorbar()"
     ],
     "language": "python",
     "metadata": {},
     "outputs": [
      {
       "metadata": {},
       "output_type": "pyout",
       "prompt_number": 35,
       "text": [
        "<matplotlib.colorbar.Colorbar instance at 0x10d70b878>"
       ]
      },
      {
       "metadata": {},
       "output_type": "display_data",
       "png": "[encoded data removed]",
       "text": [
        "<matplotlib.figure.Figure at 0x10d4e5990>"
       ]
      }
     ],
     "prompt_number": 35
    },
    {
     "cell_type": "code",
     "collapsed": false,
     "input": [],
     "language": "python",
     "metadata": {},
     "outputs": []
    }
   ],
   "metadata": {}
  }
 ]
}