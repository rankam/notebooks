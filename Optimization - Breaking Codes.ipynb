{
 "metadata": {
  "name": "",
  "signature": "sha256:9bdfeb92dbe91e22082fbbfeb79352683a0f1236e8ab5c3041b34e9d51863490"
 },
 "nbformat": 3,
 "nbformat_minor": 0,
 "worksheets": [
  {
   "cells": [
    {
     "cell_type": "markdown",
     "metadata": {},
     "source": [
      "<h1>Chapter 7: Optimization: Breaking Codes<h1>"
     ]
    },
    {
     "cell_type": "code",
     "collapsed": false,
     "input": [
      "%pylab inline\n",
      "figsize(8,4.5)\n",
      "import pandas as pd\n",
      "import numpy as np\n",
      "import scipy.stats as stats\n",
      "plt.style.use('bmh')\n",
      "import statsmodels.formula.api as smf\n",
      "from random import sample"
     ],
     "language": "python",
     "metadata": {},
     "outputs": [
      {
       "output_type": "stream",
       "stream": "stdout",
       "text": [
        "Populating the interactive namespace from numpy and matplotlib\n"
       ]
      },
      {
       "output_type": "stream",
       "stream": "stderr",
       "text": [
        "WARNING: pylab import has clobbered these variables: ['sample']\n",
        "`%matplotlib` prevents importing * from pylab and numpy\n"
       ]
      }
     ],
     "prompt_number": 7
    },
    {
     "cell_type": "markdown",
     "metadata": {},
     "source": [
      "<h2>Introduction to Optimization</h2>"
     ]
    },
    {
     "cell_type": "code",
     "collapsed": false,
     "input": [
      "data = pd.read_csv('01_heights_weights_genders.csv')\n",
      "data.head()"
     ],
     "language": "python",
     "metadata": {},
     "outputs": [
      {
       "html": [
        "<div style=\"max-height:1000px;max-width:1500px;overflow:auto;\">\n",
        "<table border=\"1\" class=\"dataframe\">\n",
        "  <thead>\n",
        "    <tr style=\"text-align: right;\">\n",
        "      <th></th>\n",
        "      <th>Gender</th>\n",
        "      <th>Height</th>\n",
        "      <th>Weight</th>\n",
        "    </tr>\n",
        "  </thead>\n",
        "  <tbody>\n",
        "    <tr>\n",
        "      <th>0</th>\n",
        "      <td> Male</td>\n",
        "      <td> 73.847017</td>\n",
        "      <td> 241.893563</td>\n",
        "    </tr>\n",
        "    <tr>\n",
        "      <th>1</th>\n",
        "      <td> Male</td>\n",
        "      <td> 68.781904</td>\n",
        "      <td> 162.310473</td>\n",
        "    </tr>\n",
        "    <tr>\n",
        "      <th>2</th>\n",
        "      <td> Male</td>\n",
        "      <td> 74.110105</td>\n",
        "      <td> 212.740856</td>\n",
        "    </tr>\n",
        "    <tr>\n",
        "      <th>3</th>\n",
        "      <td> Male</td>\n",
        "      <td> 71.730978</td>\n",
        "      <td> 220.042470</td>\n",
        "    </tr>\n",
        "    <tr>\n",
        "      <th>4</th>\n",
        "      <td> Male</td>\n",
        "      <td> 69.881796</td>\n",
        "      <td> 206.349801</td>\n",
        "    </tr>\n",
        "  </tbody>\n",
        "</table>\n",
        "</div>"
       ],
       "metadata": {},
       "output_type": "pyout",
       "prompt_number": 2,
       "text": [
        "  Gender     Height      Weight\n",
        "0   Male  73.847017  241.893563\n",
        "1   Male  68.781904  162.310473\n",
        "2   Male  74.110105  212.740856\n",
        "3   Male  71.730978  220.042470\n",
        "4   Male  69.881796  206.349801"
       ]
      }
     ],
     "prompt_number": 2
    },
    {
     "cell_type": "code",
     "collapsed": false,
     "input": [
      "def height_to_weight(height, a, b):\n",
      "    '''\n",
      "    Used to predict weight by computing a function of height\n",
      "    '''\n",
      "    return a + b * height"
     ],
     "language": "python",
     "metadata": {},
     "outputs": [],
     "prompt_number": 4
    },
    {
     "cell_type": "code",
     "collapsed": false,
     "input": [
      "results = smf.ols('Weight ~ Height', data=data).fit()\n",
      "results.summary2()"
     ],
     "language": "python",
     "metadata": {},
     "outputs": [
      {
       "html": [
        "<table class=\"simpletable\">\n",
        "<tr>\n",
        "        <td>Model:</td>          <td>OLS</td>         <td>AIC:</td>         <td>78441.9113</td>\n",
        "</tr>\n",
        "<tr>\n",
        "  <td>Dependent Variable:</td> <td>Weight</td>        <td>BIC:</td>         <td>78456.3319</td>\n",
        "</tr>\n",
        "<tr>\n",
        "   <td>No. Observations:</td>   <td>10000</td>   <td>Log-Likelihood:</td>     <td>-39219.</td> \n",
        "</tr>\n",
        "<tr>\n",
        "       <td>Df Model:</td>         <td>1</td>      <td>F-statistic:</td>      <td>5.904e+04</td>\n",
        "</tr>\n",
        "<tr>\n",
        "     <td>Df Residuals:</td>     <td>9998</td>  <td>Prob (F-statistic):</td>    <td>0.00</td>   \n",
        "</tr>\n",
        "<tr>\n",
        "      <td>R-squared:</td>       <td>0.855</td>       <td>Scale:</td>          <td>149.32</td>  \n",
        "</tr>\n",
        "<tr>\n",
        "    <td>Adj. R-squared:</td>    <td>0.855</td>          <td></td>                <td></td>     \n",
        "</tr>\n",
        "</table>\n",
        "<table class=\"simpletable\">\n",
        "<tr>\n",
        "      <td></td>        <th>Coef.</th>   <th>Std.Err.</th>     <th>t</th>      <th>P>|t|</th>  <th>[0.025</th>    <th>0.975]</th>  \n",
        "</tr>\n",
        "<tr>\n",
        "  <th>Intercept</th> <td>-350.7372</td>  <td>2.1115</td>  <td>-166.1092</td> <td>0.0000</td> <td>-354.8761</td> <td>-346.5983</td>\n",
        "</tr>\n",
        "<tr>\n",
        "  <th>Height</th>     <td>7.7173</td>    <td>0.0318</td>  <td>242.9746</td>  <td>0.0000</td>  <td>7.6550</td>    <td>7.7795</td>  \n",
        "</tr>\n",
        "</table>\n",
        "<table class=\"simpletable\">\n",
        "<tr>\n",
        "     <td>Omnibus:</td>    <td>2.141</td>  <td>Durbin-Watson:</td>   <td>1.677</td>\n",
        "</tr>\n",
        "<tr>\n",
        "  <td>Prob(Omnibus):</td> <td>0.343</td> <td>Jarque-Bera (JB):</td> <td>2.150</td>\n",
        "</tr>\n",
        "<tr>\n",
        "       <td>Skew:</td>     <td>0.036</td>     <td>Prob(JB):</td>     <td>0.341</td>\n",
        "</tr>\n",
        "<tr>\n",
        "     <td>Kurtosis:</td>   <td>2.991</td>  <td>Condition No.:</td>   <td>1149</td> \n",
        "</tr>\n",
        "</table>"
       ],
       "metadata": {},
       "output_type": "pyout",
       "prompt_number": 8,
       "text": [
        "<class 'statsmodels.iolib.summary2.Summary'>\n",
        "\"\"\"\n",
        "                 Results: Ordinary least squares\n",
        "=================================================================\n",
        "Model:                  OLS      AIC:                  78441.9113\n",
        "Dependent Variable:     Weight   BIC:                  78456.3319\n",
        "No. Observations:       10000    Log-Likelihood:       -39219.   \n",
        "Df Model:               1        F-statistic:          5.904e+04 \n",
        "Df Residuals:           9998     Prob (F-statistic):   0.00      \n",
        "R-squared:              0.855    Scale:                149.32    \n",
        "Adj. R-squared:         0.855                                    \n",
        "-----------------------------------------------------------------\n",
        "            Coef.   Std.Err.     t     P>|t|    [0.025    0.975] \n",
        "-----------------------------------------------------------------\n",
        "Intercept -350.7372   2.1115 -166.1092 0.0000 -354.8761 -346.5983\n",
        "Height       7.7173   0.0318  242.9746 0.0000    7.6550    7.7795\n",
        "-----------------------------------------------------------------\n",
        "Omnibus:              2.141        Durbin-Watson:           1.677\n",
        "Prob(Omnibus):        0.343        Jarque-Bera (JB):        2.150\n",
        "Skew:                 0.036        Prob(JB):                0.341\n",
        "Kurtosis:             2.991        Condition No.:           1149 \n",
        "=================================================================\n",
        "* The condition number is large (1e+03). This might indicate\n",
        "strong multicollinearity or other numerical problems.\n",
        "\"\"\""
       ]
      }
     ],
     "prompt_number": 8
    },
    {
     "cell_type": "code",
     "collapsed": false,
     "input": [
      "def squared_error(data, a, b):\n",
      "    predictions = height_to_weight(data['Height'], a, b)\n",
      "    errors = data['Weight'] - predictions\n",
      "    return sum([item**2 for item in errors])"
     ],
     "language": "python",
     "metadata": {},
     "outputs": [],
     "prompt_number": 69
    },
    {
     "cell_type": "markdown",
     "metadata": {},
     "source": [
      "Let's evaluate squared_error at some specific values of a and b to get a sense of how this works. "
     ]
    },
    {
     "cell_type": "code",
     "collapsed": false,
     "input": [
      "grid = []\n",
      "for a in np.arange(-1,1,1):\n",
      "    for b in np.arange(-1,1,1):\n",
      "        grid.append({'Squared Error':squared_error(data,a,b),'a':a,'b':b})\n",
      "pd.DataFrame.from_dict(grid)"
     ],
     "language": "python",
     "metadata": {},
     "outputs": [
      {
       "html": [
        "<div style=\"max-height:1000px;max-width:1500px;overflow:auto;\">\n",
        "<table border=\"1\" class=\"dataframe\">\n",
        "  <thead>\n",
        "    <tr style=\"text-align: right;\">\n",
        "      <th></th>\n",
        "      <th>Squared Error</th>\n",
        "      <th>a</th>\n",
        "      <th>b</th>\n",
        "    </tr>\n",
        "  </thead>\n",
        "  <tbody>\n",
        "    <tr>\n",
        "      <th>0</th>\n",
        "      <td> 5.362718e+08</td>\n",
        "      <td>-1</td>\n",
        "      <td>-1</td>\n",
        "    </tr>\n",
        "    <tr>\n",
        "      <th>1</th>\n",
        "      <td> 2.741772e+08</td>\n",
        "      <td>-1</td>\n",
        "      <td> 0</td>\n",
        "    </tr>\n",
        "    <tr>\n",
        "      <th>2</th>\n",
        "      <td> 5.317056e+08</td>\n",
        "      <td> 0</td>\n",
        "      <td>-1</td>\n",
        "    </tr>\n",
        "    <tr>\n",
        "      <th>3</th>\n",
        "      <td> 2.709384e+08</td>\n",
        "      <td> 0</td>\n",
        "      <td> 0</td>\n",
        "    </tr>\n",
        "  </tbody>\n",
        "</table>\n",
        "</div>"
       ],
       "metadata": {},
       "output_type": "pyout",
       "prompt_number": 168,
       "text": [
        "   Squared Error  a  b\n",
        "0   5.362718e+08 -1 -1\n",
        "1   2.741772e+08 -1  0\n",
        "2   5.317056e+08  0 -1\n",
        "3   2.709384e+08  0  0"
       ]
      }
     ],
     "prompt_number": 168
    },
    {
     "cell_type": "markdown",
     "metadata": {},
     "source": [
      "We could perform a grid search, where we construct a table with a large enough range of values of a and b where we could find the row with the lowest value of Squared Error. However, this approach is slow and your table will experience exponential growth leaving you to face the Curse of Dimensionality.\n",
      "\n",
      "Luckily, optimization alogorthims have been created that help us effeciently solve problems."
     ]
    },
    {
     "cell_type": "code",
     "collapsed": false,
     "input": [
      "import scipy.optimize as optim"
     ],
     "language": "python",
     "metadata": {},
     "outputs": [],
     "prompt_number": 37
    },
    {
     "cell_type": "code",
     "collapsed": false,
     "input": [
      "squared_err = lambda x: squared_error(data,x[0],x[1])\n",
      "res = optim.minimize(squared_err,[0,0])\n",
      "optim_result = pd.DataFrame.from_dict({'Coef.':res.x},orient='Columns')\n",
      "optim_result.index = ['Intercept','Height']\n",
      "optim_result"
     ],
     "language": "python",
     "metadata": {},
     "outputs": [
      {
       "html": [
        "<div style=\"max-height:1000px;max-width:1500px;overflow:auto;\">\n",
        "<table border=\"1\" class=\"dataframe\">\n",
        "  <thead>\n",
        "    <tr style=\"text-align: right;\">\n",
        "      <th></th>\n",
        "      <th>Coef.</th>\n",
        "    </tr>\n",
        "  </thead>\n",
        "  <tbody>\n",
        "    <tr>\n",
        "      <th>Intercept</th>\n",
        "      <td>-350.734261</td>\n",
        "    </tr>\n",
        "    <tr>\n",
        "      <th>Height</th>\n",
        "      <td>   7.717244</td>\n",
        "    </tr>\n",
        "  </tbody>\n",
        "</table>\n",
        "</div>"
       ],
       "metadata": {},
       "output_type": "pyout",
       "prompt_number": 163,
       "text": [
        "                Coef.\n",
        "Intercept -350.734261\n",
        "Height       7.717244"
       ]
      }
     ],
     "prompt_number": 163
    },
    {
     "cell_type": "markdown",
     "metadata": {},
     "source": [
      "Recall that using gradient descent algorithm in ols returned an intercept of -350.7372 and the coef for height was 7.7173 indicating that the optimization algorithm is working. "
     ]
    },
    {
     "cell_type": "code",
     "collapsed": false,
     "input": [
      "def a_error(a):\n",
      "    return squared_error(data,a,0)"
     ],
     "language": "python",
     "metadata": {},
     "outputs": [],
     "prompt_number": 95
    },
    {
     "cell_type": "code",
     "collapsed": false,
     "input": [
      "a_x = range(-1000,1000)\n",
      "a_y = [a_error(num) for num in a_x]"
     ],
     "language": "python",
     "metadata": {},
     "outputs": [],
     "prompt_number": 111
    },
    {
     "cell_type": "code",
     "collapsed": false,
     "input": [
      "plt.plot(a_x,a_y)\n",
      "plt.ylim(-500000000,14000000000)\n",
      "plt.xlabel('x')\n",
      "plt.ylabel('Squared Error')\n",
      "plt.title('Squared Error When Changing a')"
     ],
     "language": "python",
     "metadata": {},
     "outputs": [
      {
       "metadata": {},
       "output_type": "pyout",
       "prompt_number": 133,
       "text": [
        "<matplotlib.text.Text at 0x10cf80e50>"
       ]
      },
      {
       "metadata": {},
       "output_type": "display_data",
       "png": "[encoded data removed]",
       "text": [
        "<matplotlib.figure.Figure at 0x10cba2690>"
       ]
      }
     ],
     "prompt_number": 133
    },
    {
     "cell_type": "markdown",
     "metadata": {},
     "source": [
      "There seems to be a single value for a that's best - every value that moves further away from that value for a is worse. It is said then, that there's a global optiumum. "
     ]
    },
    {
     "cell_type": "code",
     "collapsed": false,
     "input": [
      "def b_error(b):\n",
      "    return squared_error(data,0,b)"
     ],
     "language": "python",
     "metadata": {},
     "outputs": [],
     "prompt_number": 134
    },
    {
     "cell_type": "code",
     "collapsed": false,
     "input": [
      "b_x = range(-1000,1000)\n",
      "b_y = [b_error(num) for num in b_x]"
     ],
     "language": "python",
     "metadata": {},
     "outputs": [],
     "prompt_number": 135
    },
    {
     "cell_type": "code",
     "collapsed": false,
     "input": [
      "plt.plot(b_x,b_y)\n",
      "plt.ylim(-2000000000000,44000000000000)\n",
      "plt.xlim(-1100,1100)\n",
      "plt.xlabel('x')\n",
      "plt.ylabel('Squared Error')\n",
      "plt.title('Squared Error When Changing b')"
     ],
     "language": "python",
     "metadata": {},
     "outputs": [
      {
       "metadata": {},
       "output_type": "pyout",
       "prompt_number": 183,
       "text": [
        "<matplotlib.text.Text at 0x10864a310>"
       ]
      },
      {
       "metadata": {},
       "output_type": "display_data",
       "png": "[encoded data removed]",
       "text": [
        "<matplotlib.figure.Figure at 0x10cc41c90>"
       ]
      }
     ],
     "prompt_number": 183
    },
    {
     "cell_type": "markdown",
     "metadata": {},
     "source": [
      "There seems to be a single value for b that's best - every value that moves further away from that value for b is worse. With this information and the evidence that there's a global optimum for a, it suggests that it's possible to find a single best value for both a and b that minimizes our error function."
     ]
    },
    {
     "cell_type": "markdown",
     "metadata": {},
     "source": [
      "<h2>Ridge Regression</h2>\n",
      "\n",
      "The difference between OLS and ridge regression is the error function: ridge regression considers the size of the regression coefficients to be part of the error term, which encourages the coefficients to be small. In additional, ridge regression includes an additional parameter, lambda, that adjudicates between the importance of minimizing the squared error our predictions and minimizing the values of a and b so that we don't overfit our data. Lambda is wahat is called a hyperparameter."
     ]
    },
    {
     "cell_type": "code",
     "collapsed": false,
     "input": [
      "def ridge_error(data, a, b, lambda_):\n",
      "    predictions = height_to_weight(data['Height'], a, b)\n",
      "    errors = data['Weight'] - predictions\n",
      "    return sum(errors**2) + lambda_ * (a**2 + b**2)"
     ],
     "language": "python",
     "metadata": {},
     "outputs": [],
     "prompt_number": 184
    },
    {
     "cell_type": "code",
     "collapsed": false,
     "input": [
      "lambda_ = 1\n",
      "\n",
      "ridge_err = lambda x: ridge_error(data,x[0],x[1],lambda_)\n",
      "res = optim.minimize(ridge_err,[0,0])\n",
      "optim_result = pd.DataFrame.from_dict({'Coef.':res.x},orient='Columns')\n",
      "optim_result.index = ['Intercept','He\n",
      "                      ight']\n",
      "optim_result"
     ],
     "language": "python",
     "metadata": {},
     "outputs": [
      {
       "html": [
        "<div style=\"max-height:1000px;max-width:1500px;overflow:auto;\">\n",
        "<table border=\"1\" class=\"dataframe\">\n",
        "  <thead>\n",
        "    <tr style=\"text-align: right;\">\n",
        "      <th></th>\n",
        "      <th>Coef.</th>\n",
        "    </tr>\n",
        "  </thead>\n",
        "  <tbody>\n",
        "    <tr>\n",
        "      <th>Intercept</th>\n",
        "      <td>-340.565171</td>\n",
        "    </tr>\n",
        "    <tr>\n",
        "      <th>Height</th>\n",
        "      <td>   7.564533</td>\n",
        "    </tr>\n",
        "  </tbody>\n",
        "</table>\n",
        "</div>"
       ],
       "metadata": {},
       "output_type": "pyout",
       "prompt_number": 188,
       "text": [
        "                Coef.\n",
        "Intercept -340.565171\n",
        "Height       7.564533"
       ]
      }
     ],
     "prompt_number": 188
    },
    {
     "cell_type": "markdown",
     "metadata": {},
     "source": [
      "Notice that our intercept is slightly lower while our slope is slightly larger than our results produced using our optimzation algorithm."
     ]
    },
    {
     "cell_type": "code",
     "collapsed": false,
     "input": [
      "def a_ridge_error(a,lambda_):\n",
      "    return ridge_error(data, a, 0, lambda_)\n",
      "\n",
      "def b_ridge_error(b,lambda_):\n",
      "    return ridge_error(data, 0, b, lambda_)"
     ],
     "language": "python",
     "metadata": {},
     "outputs": [],
     "prompt_number": 192
    },
    {
     "cell_type": "code",
     "collapsed": false,
     "input": [
      "a_r_x = range(-1000,1000)\n",
      "a_r_y = [a_ridge_error(num, lambda_) for num in a_r_x]"
     ],
     "language": "python",
     "metadata": {},
     "outputs": [],
     "prompt_number": 193
    },
    {
     "cell_type": "code",
     "collapsed": false,
     "input": [
      "plt.plot(a_r_x,a_r_y)\n",
      "plt.ylim(-500000000,14000000000)\n",
      "plt.xlabel('x')\n",
      "plt.ylabel('Squared Error')\n",
      "plt.title('Squared Error When Changing a Using Ridge')"
     ],
     "language": "python",
     "metadata": {},
     "outputs": [
      {
       "metadata": {},
       "output_type": "pyout",
       "prompt_number": 198,
       "text": [
        "<matplotlib.text.Text at 0x10d7b2810>"
       ]
      },
      {
       "metadata": {},
       "output_type": "display_data",
       "png": "[encoded data removed]",
       "text": [
        "<matplotlib.figure.Figure at 0x108661650>"
       ]
      }
     ],
     "prompt_number": 198
    },
    {
     "cell_type": "code",
     "collapsed": false,
     "input": [
      "b_r_x = range(-1000,1000)\n",
      "b_r_y = [b_ridge_error(num, lambda_) for num in b_r_x]"
     ],
     "language": "python",
     "metadata": {},
     "outputs": [],
     "prompt_number": 199
    },
    {
     "cell_type": "code",
     "collapsed": false,
     "input": [
      "plt.plot(b_r_x,b_r_y)\n",
      "plt.ylim(-2000000000000,44000000000000)\n",
      "plt.xlim(-1100,1100)\n",
      "plt.xlabel('x')\n",
      "plt.ylabel('Squared Error')\n",
      "plt.title('Squared Error When Changing b Using Ridge')"
     ],
     "language": "python",
     "metadata": {},
     "outputs": [
      {
       "metadata": {},
       "output_type": "pyout",
       "prompt_number": 201,
       "text": [
        "<matplotlib.text.Text at 0x108675510>"
       ]
      },
      {
       "metadata": {},
       "output_type": "display_data",
       "png": "[encoded data removed]",
       "text": [
        "<matplotlib.figure.Figure at 0x10865da90>"
       ]
      }
     ],
     "prompt_number": 201
    },
    {
     "cell_type": "markdown",
     "metadata": {},
     "source": [
      "<h2>Code Breaking as Optimization</h2>"
     ]
    },
    {
     "cell_type": "markdown",
     "metadata": {},
     "source": [
      "<h3>Stochastic Optimization</h3>"
     ]
    },
    {
     "cell_type": "code",
     "collapsed": false,
     "input": [
      "import string\n",
      "english_letters = list(string.ascii_lowercase)"
     ],
     "language": "python",
     "metadata": {},
     "outputs": [],
     "prompt_number": 13
    },
    {
     "cell_type": "code",
     "collapsed": false,
     "input": [
      "caesar_cipher = list()\n",
      "inverse_caesar_cipher = dict()\n",
      "for i in range(0,len(english_letters)):\n",
      "    if i+1 != 26:\n",
      "        caesar_cipher.append((english_letters[i], english_letters[i+1]))\n",
      "        inverse_caesar_cipher[english_letters[i+1]] = english_letters[i]\n",
      "    else:\n",
      "        caesar_cipher.append((english_letters[i],english_letters[0]))\n",
      "        inverse_caesar_cipher[english_letters[0]] = english_letters[i]"
     ],
     "language": "python",
     "metadata": {},
     "outputs": [],
     "prompt_number": 18
    },
    {
     "cell_type": "code",
     "collapsed": false,
     "input": [
      "def apply_cipher_to_string(string_, cipher):\n",
      "    output = [dict(cipher)[string_[i]] for i in range(len(string_))]\n",
      "    return ''.join(output)\n",
      "    "
     ],
     "language": "python",
     "metadata": {},
     "outputs": [],
     "prompt_number": 20
    },
    {
     "cell_type": "code",
     "collapsed": false,
     "input": [
      "def apply_cipher_to_text(text, cipher):\n",
      "    output = [apply_cipher_to_string(string_,cipher) for string_ in text]\n",
      "    return output\n",
      "        "
     ],
     "language": "python",
     "metadata": {},
     "outputs": [],
     "prompt_number": 21
    },
    {
     "cell_type": "markdown",
     "metadata": {},
     "source": [
      "<h3>Breaking Substitution Ciphers</h3>\n",
      "<ol>\n",
      "<li>Define a measure of the quality of a proposed decryption rule.</li>\n",
      "<li>Define an algorithm for proposing new potential decryption rules that randomly modifies versions of our current best rule.</li>\n",
      "<li>Define an algorithm for moving progressively toward better decription rules.</li>\n",
      "</ol>"
     ]
    },
    {
     "cell_type": "markdown",
     "metadata": {},
     "source": [
      "<h3>Metropolis Algorithm</h3>\n",
      "<ul><li>Start with an arbitrary decryption rule and then iteratively improve it many times so that it becomes a rule that could feasibly be the right one.</li></ul>\n",
      "<h5>We'll use the following nongreedy rule to decide between our original rule A and our new rule B:</h5>\n",
      "<ul><li>If the probability of the text decrypted with rule B is greater than the probabiliy of the dext decrypted with rule A then we replace A with B.</li>\n",
      "<li>If the probabiliyt of the text decrypted with rule B is less than the probabliy of the text decrypted with rule A, we'll still replace A with B sometimes, just not every time. To be specific, if the probablity of the text decrypted with rule B is probability(T,B) and the probablity of the text decrypted with rule A is probability(T,A), we'll switch over to rule B probablity(T,B) / probablity(T,A) percent of the time.</li></ul>"
     ]
    },
    {
     "cell_type": "code",
     "collapsed": false,
     "input": [
      "def generate_random_cipher():\n",
      "    cipher = dict()\n",
      "    inputs = list(string.ascii_lowercase)\n",
      "    outputs = list(string.ascii_lowercase)\n",
      "    np.random.shuffle(outputs)\n",
      "    for index in range(len(english_letters)):\n",
      "        cipher[inputs[index]] = outputs[index]\n",
      "    return cipher\n",
      "    "
     ],
     "language": "python",
     "metadata": {},
     "outputs": [],
     "prompt_number": 22
    },
    {
     "cell_type": "code",
     "collapsed": false,
     "input": [
      "def modify_cipher(cipher, input, output):\n",
      "    new_cipher = dict(cipher)\n",
      "    new_cipher[input[0]] = output\n",
      "    old_output = dict(cipher)[input[0]]\n",
      "    collateral_input = [cipher.items()[i][0] for i,x in enumerate(cipher.items()) if cipher.items()[i][1] == output]\n",
      "    new_cipher[collateral_input[0]] = old_output\n",
      "    return new_cipher\n"
     ],
     "language": "python",
     "metadata": {},
     "outputs": [],
     "prompt_number": 128
    },
    {
     "cell_type": "code",
     "collapsed": false,
     "input": [
      "def propose_modified_cipher(cipher):\n",
      "    input = sample(cipher.keys(), 1)[0]\n",
      "    output = sample(english_letters, 1)[0]\n",
      "    return modify_cipher(cipher, input, output)"
     ],
     "language": "python",
     "metadata": {},
     "outputs": [],
     "prompt_number": 125
    },
    {
     "cell_type": "markdown",
     "metadata": {},
     "source": [
      "The above functions that help us soften the greediness of our optimization approach. To do this softening algorithmically, we compute probability(T, B)/probability(T, A) and compare it with a random number between 0 and 1. If the resulting random number is higher than probability(T, B) / probability(T, A), we replace our current rule. "
     ]
    },
    {
     "cell_type": "code",
     "collapsed": false,
     "input": [
      "lexical_database = pd.read_json('lexical_database.json')\n",
      "lexical_database.head()"
     ],
     "language": "python",
     "metadata": {},
     "outputs": [
      {
       "html": [
        "<div style=\"max-height:1000px;max-width:1500px;overflow:auto;\">\n",
        "<table border=\"1\" class=\"dataframe\">\n",
        "  <thead>\n",
        "    <tr style=\"text-align: right;\">\n",
        "      <th></th>\n",
        "      <th></th>\n",
        "      <th>a</th>\n",
        "      <th>aa</th>\n",
        "      <th>aal</th>\n",
        "      <th>aam</th>\n",
        "      <th>aardvark</th>\n",
        "      <th>aardwolf</th>\n",
        "      <th>aba</th>\n",
        "      <th>abac</th>\n",
        "      <th>abaca</th>\n",
        "      <th>...</th>\n",
        "      <th>zygote</th>\n",
        "      <th>zygotic</th>\n",
        "      <th>zymase</th>\n",
        "      <th>zyme</th>\n",
        "      <th>zymogen</th>\n",
        "      <th>zymogenic</th>\n",
        "      <th>zymologist</th>\n",
        "      <th>zymology</th>\n",
        "      <th>zymotic</th>\n",
        "      <th>zymurgy</th>\n",
        "    </tr>\n",
        "  </thead>\n",
        "  <tbody>\n",
        "    <tr>\n",
        "      <th>0</th>\n",
        "      <td> 1</td>\n",
        "      <td> 0.016176</td>\n",
        "      <td> 0.000027</td>\n",
        "      <td> 0</td>\n",
        "      <td> 0.000001</td>\n",
        "      <td> 0.000001</td>\n",
        "      <td> 0</td>\n",
        "      <td> 0.000005</td>\n",
        "      <td> 0</td>\n",
        "      <td> 0</td>\n",
        "      <td>...</td>\n",
        "      <td> 0.000001</td>\n",
        "      <td> 0</td>\n",
        "      <td> 2.524395e-08</td>\n",
        "      <td> 5.048790e-09</td>\n",
        "      <td> 6.731720e-08</td>\n",
        "      <td> 3.365860e-09</td>\n",
        "      <td> 3.365860e-09</td>\n",
        "      <td> 5.048790e-09</td>\n",
        "      <td> 1.009758e-08</td>\n",
        "      <td> 3.197567e-08</td>\n",
        "    </tr>\n",
        "  </tbody>\n",
        "</table>\n",
        "<p>1 rows \u00d7 82623 columns</p>\n",
        "</div>"
       ],
       "metadata": {},
       "output_type": "pyout",
       "prompt_number": 39,
       "text": [
        "             a        aa  aal       aam  aardvark  aardwolf       aba  abac  \\\n",
        "0  1  0.016176  0.000027    0  0.000001  0.000001         0  0.000005     0   \n",
        "\n",
        "   abaca  ...      zygote  zygotic        zymase          zyme       zymogen  \\\n",
        "0      0  ...    0.000001        0  2.524395e-08  5.048790e-09  6.731720e-08   \n",
        "\n",
        "      zymogenic    zymologist      zymology       zymotic       zymurgy  \n",
        "0  3.365860e-09  3.365860e-09  5.048790e-09  1.009758e-08  3.197567e-08  \n",
        "\n",
        "[1 rows x 82623 columns]"
       ]
      }
     ],
     "prompt_number": 39
    },
    {
     "cell_type": "code",
     "collapsed": false,
     "input": [
      "def one_gram_probablity(one_gram, lexical_database):\n",
      "    '''\n",
      "    Method for finding the probability of isolated words\n",
      "    '''\n",
      "    if one_gram in lexical_database:\n",
      "        lexical_probability = lexical_database[one_gram]\n",
      "        return lexical_probability[0]\n",
      "    else:\n",
      "        return np.finfo(np.float64).eps"
     ],
     "language": "python",
     "metadata": {},
     "outputs": [],
     "prompt_number": 175
    },
    {
     "cell_type": "code",
     "collapsed": false,
     "input": [],
     "language": "python",
     "metadata": {},
     "outputs": []
    },
    {
     "cell_type": "code",
     "collapsed": false,
     "input": [
      "def log_probability_of_text(text, cipher, lexical_database):\n",
      "    log_probability = 0.0\n",
      "    for string_ in text:\n",
      "        decrypted_string = apply_cipher_to_string(string_,cipher)\n",
      "        log_probability = log_probability + log(one_gram_probablity(decrypted_string, lexical_database))\n",
      "    return log_probability"
     ],
     "language": "python",
     "metadata": {},
     "outputs": [],
     "prompt_number": 167
    },
    {
     "cell_type": "code",
     "collapsed": false,
     "input": [
      "def metropolis_step(text, cipher, lexical_database):\n",
      "    proposed_cipher = propose_modified_cipher(cipher)\n",
      "    \n",
      "    lp1 = log_probability_of_text(text, cipher, lexical_database)\n",
      "    lp2 = log_probability_of_text(text, proposed_cipher, lexical_database)\n",
      "    if lp2 > lp1:\n",
      "        return proposed_cipher\n",
      "    else:\n",
      "        a = np.exp(lp2 - lp1)\n",
      "        x = np.random.uniform()\n",
      "        if x < a:\n",
      "            return proposed_cipher\n",
      "        else:\n",
      "            return cipher\n",
      "        "
     ],
     "language": "python",
     "metadata": {},
     "outputs": [],
     "prompt_number": 169
    },
    {
     "cell_type": "code",
     "collapsed": false,
     "input": [
      "decrypted_text = ['here', 'is', 'some', 'sample', 'text']\n",
      "encrypted_text = apply_cipher_to_text(decrypted_text, caesar_cipher)\n",
      "encrypted_text"
     ],
     "language": "python",
     "metadata": {},
     "outputs": [
      {
       "metadata": {},
       "output_type": "pyout",
       "prompt_number": 37,
       "text": [
        "['ifsf', 'jt', 'tpnf', 'tbnqmf', 'ufyu']"
       ]
      }
     ],
     "prompt_number": 37
    },
    {
     "cell_type": "code",
     "collapsed": false,
     "input": [
      "np.random.seed(1)\n",
      "\n",
      "cipher = generate_random_cipher()\n",
      "results = list()\n",
      "\n",
      "number_of_iterations = 50000\n",
      "\n",
      "for iteration in range(number_of_iterations):\n",
      "    log_probability = log_probability_of_text(encrypted_text, cipher, lexical_database)\n",
      "    current_decrypted_text = ' '.join(apply_cipher_to_text(encrypted_text, cipher))\n",
      "    correct_text = current_decrypted_text == ' '.join(decrypted_text)\n",
      "    cipher = metropolis_step(encrypted_text, cipher, lexical_database)\n",
      "    results.append({'Iteration':iteration,'LogProbability': log_probability,'CurrentDecryptedText': current_decrypted_text,'CorrectText': correct_text})\n",
      "decryption_log = pd.DataFrame.from_dict(results)\n",
      "decryption_log.tail()"
     ],
     "language": "python",
     "metadata": {},
     "outputs": [
      {
       "html": [
        "<div style=\"max-height:1000px;max-width:1500px;overflow:auto;\">\n",
        "<table border=\"1\" class=\"dataframe\">\n",
        "  <thead>\n",
        "    <tr style=\"text-align: right;\">\n",
        "      <th></th>\n",
        "      <th>CorrectText</th>\n",
        "      <th>CurrentDecryptedText</th>\n",
        "      <th>Iteration</th>\n",
        "      <th>LogProbability</th>\n",
        "    </tr>\n",
        "  </thead>\n",
        "  <tbody>\n",
        "    <tr>\n",
        "      <th>49995</th>\n",
        "      <td> False</td>\n",
        "      <td> were of fame fumble text</td>\n",
        "      <td> 49995</td>\n",
        "      <td>-41.055851</td>\n",
        "    </tr>\n",
        "    <tr>\n",
        "      <th>49996</th>\n",
        "      <td> False</td>\n",
        "      <td> were of fame fumble text</td>\n",
        "      <td> 49996</td>\n",
        "      <td>-41.055851</td>\n",
        "    </tr>\n",
        "    <tr>\n",
        "      <th>49997</th>\n",
        "      <td> False</td>\n",
        "      <td> were of fame fumble text</td>\n",
        "      <td> 49997</td>\n",
        "      <td>-41.055851</td>\n",
        "    </tr>\n",
        "    <tr>\n",
        "      <th>49998</th>\n",
        "      <td> False</td>\n",
        "      <td> were of fame fumble text</td>\n",
        "      <td> 49998</td>\n",
        "      <td>-41.055851</td>\n",
        "    </tr>\n",
        "    <tr>\n",
        "      <th>49999</th>\n",
        "      <td> False</td>\n",
        "      <td> were of fame fumble text</td>\n",
        "      <td> 49999</td>\n",
        "      <td>-41.055851</td>\n",
        "    </tr>\n",
        "  </tbody>\n",
        "</table>\n",
        "</div>"
       ],
       "metadata": {},
       "output_type": "pyout",
       "prompt_number": 183,
       "text": [
        "      CorrectText      CurrentDecryptedText  Iteration  LogProbability\n",
        "49995       False  were of fame fumble text      49995      -41.055851\n",
        "49996       False  were of fame fumble text      49996      -41.055851\n",
        "49997       False  were of fame fumble text      49997      -41.055851\n",
        "49998       False  were of fame fumble text      49998      -41.055851\n",
        "49999       False  were of fame fumble text      49999      -41.055851"
       ]
      }
     ],
     "prompt_number": 183
    },
    {
     "cell_type": "code",
     "collapsed": false,
     "input": [
      "figsize(12,5.6)\n",
      "plot(decryption_log['Iteration'], decryption_log['LogProbability'])\n",
      "xlabel('Iteration')\n",
      "ylabel('Log Probability')\n",
      "title('Finding the Optimal Decryption Rule')\n",
      "ylim(-180,-35)\n",
      "xlim(-1000,51000)"
     ],
     "language": "python",
     "metadata": {},
     "outputs": [
      {
       "metadata": {},
       "output_type": "pyout",
       "prompt_number": 189,
       "text": [
        "(-1000, 51000)"
       ]
      },
      {
       "metadata": {},
       "output_type": "display_data",
       "png": "[encoded data removed]",
       "text": [
        "<matplotlib.figure.Figure at 0x11d4b1a90>"
       ]
      }
     ],
     "prompt_number": 189
    }
   ],
   "metadata": {}
  }
 ]
}